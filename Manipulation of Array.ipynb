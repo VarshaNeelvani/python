{
 "cells": [
  {
   "cell_type": "code",
   "execution_count": 135,
   "id": "a5e7cc0c",
   "metadata": {},
   "outputs": [
    {
     "name": "stdout",
     "output_type": "stream",
     "text": [
      "Manipulating Arrays and Numpy Data Operations\n",
      "Working with Combining arrays\n"
     ]
    }
   ],
   "source": [
    "print(\"Manipulating Arrays and Numpy Data Operations\")\n",
    "print(\"Working with Combining arrays\")"
   ]
  },
  {
   "cell_type": "code",
   "execution_count": 136,
   "id": "c7181288",
   "metadata": {},
   "outputs": [],
   "source": [
    "import numpy as np\n",
    "import numpy.random as npr"
   ]
  },
  {
   "cell_type": "code",
   "execution_count": 137,
   "id": "1b67f7b2",
   "metadata": {},
   "outputs": [
    {
     "name": "stdout",
     "output_type": "stream",
     "text": [
      "[[1, 2], [3, 4]]\n",
      "[[5, 6], [7, 8]]\n"
     ]
    }
   ],
   "source": [
    "array1 = [[1,2],[3,4]]\n",
    "array2 = [[5,6],[7,8]]\n",
    "print(array1)\n",
    "print(array2)"
   ]
  },
  {
   "cell_type": "code",
   "execution_count": 138,
   "id": "120cd972",
   "metadata": {},
   "outputs": [
    {
     "data": {
      "text/plain": [
       "array([[1, 2],\n",
       "       [3, 4],\n",
       "       [5, 6],\n",
       "       [7, 8]])"
      ]
     },
     "execution_count": 138,
     "metadata": {},
     "output_type": "execute_result"
    }
   ],
   "source": [
    "np.concatenate((array1,array2))  #default:axis=0"
   ]
  },
  {
   "cell_type": "code",
   "execution_count": 139,
   "id": "4249207c",
   "metadata": {},
   "outputs": [
    {
     "name": "stdout",
     "output_type": "stream",
     "text": [
      "Added to column\n"
     ]
    },
    {
     "data": {
      "text/plain": [
       "array([[1, 2, 5, 6],\n",
       "       [3, 4, 7, 8]])"
      ]
     },
     "execution_count": 139,
     "metadata": {},
     "output_type": "execute_result"
    }
   ],
   "source": [
    "print(\"Added to column\")\n",
    "np.concatenate((array1,array2),axis=1)"
   ]
  },
  {
   "cell_type": "code",
   "execution_count": 140,
   "id": "9d1b5fb8",
   "metadata": {},
   "outputs": [
    {
     "name": "stdout",
     "output_type": "stream",
     "text": [
      "[[10  2]\n",
      " [ 6  5]\n",
      " [19  0]\n",
      " [17  4]\n",
      " [ 2 15]\n",
      " [ 9 10]\n",
      " [ 1  8]\n",
      " [ 3  7]\n",
      " [ 7  3]\n",
      " [ 4 15]]\n",
      "[0 1 2 3 4 5 6 7 8 9]\n"
     ]
    }
   ],
   "source": [
    "x=npr.randint(20,size=20).reshape(10,2)\n",
    "y=np.arange(10)\n",
    "print(x)\n",
    "print(y)"
   ]
  },
  {
   "cell_type": "code",
   "execution_count": 141,
   "id": "47d2bc64",
   "metadata": {},
   "outputs": [
    {
     "name": "stdout",
     "output_type": "stream",
     "text": [
      "Append allows you to add values without requiring the same dimensionally\n"
     ]
    },
    {
     "data": {
      "text/plain": [
       "array([10,  2,  6,  5, 19,  0, 17,  4,  2, 15,  9, 10,  1,  8,  3,  7,  7,\n",
       "        3,  4, 15,  0,  1,  2,  3,  4,  5,  6,  7,  8,  9])"
      ]
     },
     "execution_count": 141,
     "metadata": {},
     "output_type": "execute_result"
    }
   ],
   "source": [
    "print(\"Append allows you to add values without requiring the same dimensionally\")\n",
    "np.append(x,y)  #adds the elements of y at the end of the x array"
   ]
  },
  {
   "cell_type": "code",
   "execution_count": 142,
   "id": "63fa6ca5",
   "metadata": {},
   "outputs": [
    {
     "name": "stdout",
     "output_type": "stream",
     "text": [
      "You can reshape the array to regain dimensions\n",
      "[[10  2  6]\n",
      " [ 5 19  0]\n",
      " [17  4  2]\n",
      " [15  9 10]\n",
      " [ 1  8  3]\n",
      " [ 7  7  3]\n",
      " [ 4 15  0]\n",
      " [ 1  2  3]\n",
      " [ 4  5  6]\n",
      " [ 7  8  9]]\n",
      "(10, 3)\n"
     ]
    }
   ],
   "source": [
    "print(\"You can reshape the array to regain dimensions\")\n",
    "z=np.append(x,y)\n",
    "z=z.reshape(10,3)\n",
    "print(z)\n",
    "print(z.shape)"
   ]
  },
  {
   "cell_type": "code",
   "execution_count": 143,
   "id": "cb671d96",
   "metadata": {},
   "outputs": [
    {
     "name": "stdout",
     "output_type": "stream",
     "text": [
      "We can add a third column\n",
      "[[1. 1. 1.]\n",
      " [1. 1. 1.]\n",
      " [1. 1. 1.]\n",
      " [1. 1. 1.]\n",
      " [1. 1. 1.]\n",
      " [1. 1. 1.]\n",
      " [1. 1. 1.]\n",
      " [1. 1. 1.]\n",
      " [1. 1. 1.]\n",
      " [1. 1. 1.]]\n",
      "[[1. 1.]\n",
      " [1. 1.]\n",
      " [1. 1.]\n",
      " [1. 1.]\n",
      " [1. 1.]\n",
      " [1. 1.]\n",
      " [1. 1.]\n",
      " [1. 1.]\n",
      " [1. 1.]\n",
      " [1. 1.]]\n",
      "[1. 1. 1. 1. 1. 1. 1. 1. 1. 1.]\n"
     ]
    }
   ],
   "source": [
    "print(\"We can add a third column\")\n",
    "merged = np.ones((10,3))\n",
    "print(merged)\n",
    "#merged[:,:2] = x\n",
    "#merged[:,2] = y\n",
    "print(merged[:,:2])\n",
    "print(merged[:,2])"
   ]
  },
  {
   "cell_type": "code",
   "execution_count": 144,
   "id": "6efff91f",
   "metadata": {},
   "outputs": [
    {
     "name": "stdout",
     "output_type": "stream",
     "text": [
      "Column y to x array\n",
      "hstack converts float to integer\n",
      "[[10  2  0]\n",
      " [ 6  5  1]\n",
      " [19  0  2]\n",
      " [17  4  3]\n",
      " [ 2 15  4]\n",
      " [ 9 10  5]\n",
      " [ 1  8  6]\n",
      " [ 3  7  7]\n",
      " [ 7  3  8]\n",
      " [ 4 15  9]]\n"
     ]
    }
   ],
   "source": [
    "print(\"Column y to x array\")\n",
    "y=y.reshape(10,1)\n",
    "y\n",
    "print(\"hstack converts float to integer\")\n",
    "print(np.hstack([x,y]))"
   ]
  },
  {
   "cell_type": "code",
   "execution_count": 145,
   "id": "ac6fe90b",
   "metadata": {},
   "outputs": [],
   "source": [
    "import numpy as np"
   ]
  },
  {
   "cell_type": "code",
   "execution_count": 146,
   "id": "fe3636c6",
   "metadata": {},
   "outputs": [
    {
     "data": {
      "text/plain": [
       "array([[[ 0,  1,  2],\n",
       "        [ 3,  4,  5],\n",
       "        [ 6,  7,  8]],\n",
       "\n",
       "       [[ 9, 10, 11],\n",
       "        [12, 13, 14],\n",
       "        [15, 16, 17]],\n",
       "\n",
       "       [[18, 19, 20],\n",
       "        [21, 22, 23],\n",
       "        [24, 25, 26]]])"
      ]
     },
     "execution_count": 146,
     "metadata": {},
     "output_type": "execute_result"
    }
   ],
   "source": [
    "arr=np.arange(27).reshape(3,3,3)\n",
    "arr"
   ]
  },
  {
   "cell_type": "code",
   "execution_count": 147,
   "id": "3fdf5572",
   "metadata": {},
   "outputs": [
    {
     "name": "stdout",
     "output_type": "stream",
     "text": [
      "Sometimes you need to flatten an ndim array to a single dimension\n"
     ]
    },
    {
     "data": {
      "text/plain": [
       "array([ 0,  1,  2,  3,  4,  5,  6,  7,  8,  9, 10, 11, 12, 13, 14, 15, 16,\n",
       "       17, 18, 19, 20, 21, 22, 23, 24, 25, 26])"
      ]
     },
     "execution_count": 147,
     "metadata": {},
     "output_type": "execute_result"
    }
   ],
   "source": [
    "print(\"Sometimes you need to flatten an ndim array to a single dimension\")\n",
    "arr.flatten()"
   ]
  },
  {
   "cell_type": "code",
   "execution_count": 148,
   "id": "b05c99ba",
   "metadata": {
    "scrolled": true
   },
   "outputs": [
    {
     "name": "stdout",
     "output_type": "stream",
     "text": [
      "Sometimes you want to reassign values -> use .flat\n",
      "[[[ 0  1  2]\n",
      "  [ 3  4  5]\n",
      "  [ 6  7  8]]\n",
      "\n",
      " [[ 9 10 11]\n",
      "  [12 13 14]\n",
      "  [15 16 17]]\n",
      "\n",
      " [[18 19 20]\n",
      "  [21 22 23]\n",
      "  [24 25 26]]]\n"
     ]
    },
    {
     "data": {
      "text/plain": [
       "array([[[7, 7, 7],\n",
       "        [7, 7, 7],\n",
       "        [7, 7, 7]],\n",
       "\n",
       "       [[7, 7, 7],\n",
       "        [7, 7, 7],\n",
       "        [7, 7, 7]],\n",
       "\n",
       "       [[7, 7, 7],\n",
       "        [7, 7, 7],\n",
       "        [7, 7, 7]]])"
      ]
     },
     "execution_count": 148,
     "metadata": {},
     "output_type": "execute_result"
    }
   ],
   "source": [
    "print(\"Sometimes you want to reassign values -> use .flat\")\n",
    "print(arr)\n",
    "arr_copy = arr\n",
    "arr_copy.flat = 7\n",
    "arr_copy"
   ]
  },
  {
   "cell_type": "code",
   "execution_count": 149,
   "id": "43cfa38c",
   "metadata": {},
   "outputs": [
    {
     "name": "stdout",
     "output_type": "stream",
     "text": [
      "We can choose indexes to reassign\n",
      "[[[1 1 1]\n",
      "  [7 1 7]\n",
      "  [7 1 7]]\n",
      "\n",
      " [[7 1 7]\n",
      "  [7 7 7]\n",
      "  [7 7 7]]\n",
      "\n",
      " [[7 7 7]\n",
      "  [7 7 7]\n",
      "  [7 7 7]]]\n"
     ]
    }
   ],
   "source": [
    "print(\"We can choose indexes to reassign\")\n",
    "arr_copy.flat[[0,1,2,4,7,10]] = 1\n",
    "print(arr_copy)"
   ]
  },
  {
   "cell_type": "code",
   "execution_count": 150,
   "id": "ecab54a3",
   "metadata": {},
   "outputs": [
    {
     "name": "stdout",
     "output_type": "stream",
     "text": [
      "We can reassign a range of indexes\n"
     ]
    },
    {
     "data": {
      "text/plain": [
       "array([[[1, 0, 0],\n",
       "        [0, 0, 0],\n",
       "        [0, 0, 0]],\n",
       "\n",
       "       [[7, 1, 7],\n",
       "        [7, 7, 7],\n",
       "        [7, 7, 7]],\n",
       "\n",
       "       [[7, 7, 7],\n",
       "        [7, 7, 7],\n",
       "        [7, 7, 7]]])"
      ]
     },
     "execution_count": 150,
     "metadata": {},
     "output_type": "execute_result"
    }
   ],
   "source": [
    "print(\"We can reassign a range of indexes\")\n",
    "arr_copy.flat[1:9] = 0\n",
    "arr_copy"
   ]
  },
  {
   "cell_type": "code",
   "execution_count": 151,
   "id": "b50ce7b7",
   "metadata": {},
   "outputs": [
    {
     "name": "stdout",
     "output_type": "stream",
     "text": [
      "You can also remove dimensions with reshape\n",
      "(3, 3, 3)\n"
     ]
    },
    {
     "data": {
      "text/plain": [
       "array([[[1, 0, 0],\n",
       "        [0, 0, 0],\n",
       "        [0, 0, 0]],\n",
       "\n",
       "       [[7, 1, 7],\n",
       "        [7, 7, 7],\n",
       "        [7, 7, 7]],\n",
       "\n",
       "       [[7, 7, 7],\n",
       "        [7, 7, 7],\n",
       "        [7, 7, 7]]])"
      ]
     },
     "execution_count": 151,
     "metadata": {},
     "output_type": "execute_result"
    }
   ],
   "source": [
    "print(\"You can also remove dimensions with reshape\")\n",
    "arr.reshape(-1,3)\n",
    "print(arr.shape)\n",
    "arr"
   ]
  },
  {
   "cell_type": "code",
   "execution_count": 152,
   "id": "b42b1c02",
   "metadata": {},
   "outputs": [],
   "source": [
    "import numpy as np\n",
    "import numpy.random as npr\n",
    "import matplotlib.pyplot as plt"
   ]
  },
  {
   "cell_type": "code",
   "execution_count": 153,
   "id": "f31e72bb",
   "metadata": {},
   "outputs": [
    {
     "name": "stdout",
     "output_type": "stream",
     "text": [
      "We can initialize an array with or without dtype\n",
      "[ True  True  True  True]\n",
      "[ True  True  True  True]\n",
      "[False False False False]\n"
     ]
    }
   ],
   "source": [
    "print(\"We can initialize an array with or without dtype\")\n",
    "print(np.full(4, True, dtype=bool))\n",
    "print(np.ones(4, dtype=bool))\n",
    "print(np.zeros(4,dtype=bool))"
   ]
  },
  {
   "cell_type": "code",
   "execution_count": 154,
   "id": "1ed1e2a8",
   "metadata": {},
   "outputs": [
    {
     "name": "stdout",
     "output_type": "stream",
     "text": [
      "Evaluate to True & False; but dtype should be specified to avoid confusion\n"
     ]
    },
    {
     "data": {
      "text/plain": [
       "array([1, 0, 0, 0, 0, 0, 1, 1, 0, 0])"
      ]
     },
     "execution_count": 154,
     "metadata": {},
     "output_type": "execute_result"
    }
   ],
   "source": [
    "print(\"Evaluate to True & False; but dtype should be specified to avoid confusion\")\n",
    "npr.randint(0,2, size=10)"
   ]
  },
  {
   "cell_type": "code",
   "execution_count": 155,
   "id": "40ab3ad3",
   "metadata": {},
   "outputs": [
    {
     "name": "stdout",
     "output_type": "stream",
     "text": [
      "Evaluate to True & False; but dtype should be specified to avoid confusion\n"
     ]
    },
    {
     "data": {
      "text/plain": [
       "array([ True, False,  True,  True, False,  True,  True, False,  True,\n",
       "       False])"
      ]
     },
     "execution_count": 155,
     "metadata": {},
     "output_type": "execute_result"
    }
   ],
   "source": [
    "print(\"Evaluate to True & False; but dtype should be specified to avoid confusion\")\n",
    "npr.randint(0,2, size=10,dtype=bool)"
   ]
  },
  {
   "cell_type": "code",
   "execution_count": 156,
   "id": "1d6b5e21",
   "metadata": {},
   "outputs": [
    {
     "name": "stdout",
     "output_type": "stream",
     "text": [
      "We can also create boolean arrays from other array\n"
     ]
    },
    {
     "data": {
      "text/plain": [
       "array([ 90.96016538, 111.98957478, 108.21072859,  94.26009079,\n",
       "       121.1639006 ,  87.90222354,  70.53171704,  97.85153651,\n",
       "        78.90434358, 119.28633098, 102.04791329,  97.5201862 ,\n",
       "        92.38630516, 103.43114325,  95.46327356,  97.32075128,\n",
       "        95.19970384, 113.7807896 , 106.770524  ,  93.70633781,\n",
       "        97.00517057,  93.403296  ,  91.54508158, 114.41526819,\n",
       "        72.92403227])"
      ]
     },
     "execution_count": 156,
     "metadata": {},
     "output_type": "execute_result"
    }
   ],
   "source": [
    "print(\"We can also create boolean arrays from other array\")\n",
    "#npr.normal(mean, std, size)\n",
    "data = npr.normal(100, 15, 25)\n",
    "data"
   ]
  },
  {
   "cell_type": "code",
   "execution_count": 157,
   "id": "58a522aa",
   "metadata": {},
   "outputs": [
    {
     "data": {
      "text/plain": [
       "(array([2., 1., 0., 1., 8., 4., 2., 2., 3., 2.]),\n",
       " array([ 70.53171704,  75.5949354 ,  80.65815376,  85.72137211,\n",
       "         90.78459047,  95.84780882, 100.91102718, 105.97424553,\n",
       "        111.03746389, 116.10068225, 121.1639006 ]),\n",
       " <BarContainer object of 10 artists>)"
      ]
     },
     "execution_count": 157,
     "metadata": {},
     "output_type": "execute_result"
    },
    {
     "data": {
      "image/png": "[encoded data removed]",
      "text/plain": [
       "<Figure size 432x288 with 1 Axes>"
      ]
     },
     "metadata": {
      "needs_background": "light"
     },
     "output_type": "display_data"
    }
   ],
   "source": [
    "plt.hist(data)"
   ]
  },
  {
   "cell_type": "code",
   "execution_count": 158,
   "id": "d63065b8",
   "metadata": {},
   "outputs": [
    {
     "data": {
      "text/plain": [
       "array([False,  True,  True, False,  True, False, False, False, False,\n",
       "        True,  True, False, False,  True, False, False, False,  True,\n",
       "        True, False, False, False, False,  True, False])"
      ]
     },
     "execution_count": 158,
     "metadata": {},
     "output_type": "execute_result"
    }
   ],
   "source": [
    "mask = data > 100\n",
    "mask"
   ]
  },
  {
   "cell_type": "code",
   "execution_count": 159,
   "id": "aeae3bf3",
   "metadata": {},
   "outputs": [
    {
     "data": {
      "text/plain": [
       "array([111.98957478, 108.21072859, 121.1639006 , 119.28633098,\n",
       "       102.04791329, 103.43114325, 113.7807896 , 106.770524  ,\n",
       "       114.41526819])"
      ]
     },
     "execution_count": 159,
     "metadata": {},
     "output_type": "execute_result"
    }
   ],
   "source": [
    "data[mask]"
   ]
  },
  {
   "cell_type": "code",
   "execution_count": 160,
   "id": "d3954881",
   "metadata": {},
   "outputs": [
    {
     "name": "stdout",
     "output_type": "stream",
     "text": [
      "Numpy also has a number of logical function\n"
     ]
    },
    {
     "data": {
      "text/plain": [
       "array([108.21072859, 102.04791329, 103.43114325, 106.770524  ])"
      ]
     },
     "execution_count": 160,
     "metadata": {},
     "output_type": "execute_result"
    }
   ],
   "source": [
    "print(\"Numpy also has a number of logical function\")\n",
    "mask = np.logical_and(data>100, data<110)\n",
    "data[mask]"
   ]
  },
  {
   "cell_type": "code",
   "execution_count": 161,
   "id": "e4f6f217",
   "metadata": {},
   "outputs": [
    {
     "data": {
      "text/plain": [
       "array([ 90.96016538, 111.98957478, 108.21072859,  94.26009079,\n",
       "       121.1639006 ,  87.90222354,  70.53171704,  97.85153651,\n",
       "        78.90434358, 119.28633098, 102.04791329,  97.5201862 ,\n",
       "        92.38630516, 103.43114325,  95.46327356,  97.32075128,\n",
       "        95.19970384, 113.7807896 , 106.770524  ,  93.70633781,\n",
       "        97.00517057,  93.403296  ,  91.54508158, 114.41526819,\n",
       "        72.92403227])"
      ]
     },
     "execution_count": 161,
     "metadata": {},
     "output_type": "execute_result"
    }
   ],
   "source": [
    "mask=np.logical_or(data > 100, data < 110)\n",
    "data[mask]"
   ]
  },
  {
   "cell_type": "code",
   "execution_count": 162,
   "id": "6d3839c6",
   "metadata": {},
   "outputs": [
    {
     "data": {
      "text/plain": [
       "array([ 99.96016538, 120.98957478, 112.21072859,  97.26009079,\n",
       "       130.1639006 ,  95.90222354,  75.53171704, 103.85153651,\n",
       "        88.90434358, 123.28633098, 111.04791329, 101.5201862 ,\n",
       "        98.38630516, 106.43114325, 103.46327356, 102.32075128,\n",
       "       105.19970384, 120.7807896 , 116.770524  ,  95.70633781,\n",
       "       103.00517057, 101.403296  ,  96.54508158, 123.41526819,\n",
       "        81.92403227])"
      ]
     },
     "execution_count": 162,
     "metadata": {},
     "output_type": "execute_result"
    }
   ],
   "source": [
    "rand = npr.randint(1,11,25)\n",
    "close = data+rand\n",
    "close"
   ]
  },
  {
   "cell_type": "code",
   "execution_count": 163,
   "id": "176fa63c",
   "metadata": {},
   "outputs": [
    {
     "data": {
      "text/plain": [
       "False"
      ]
     },
     "execution_count": 163,
     "metadata": {},
     "output_type": "execute_result"
    }
   ],
   "source": [
    "#np.allclose - Returns True if two arrays are element-wise equal within a\n",
    "#tolerance.\n",
    "#atol means absolute tolerance\n",
    "np.allclose(data,close,atol=1)\n",
    "#np.allclose(data,close,atol=10)"
   ]
  },
  {
   "cell_type": "code",
   "execution_count": 164,
   "id": "53d1bd0c",
   "metadata": {},
   "outputs": [
    {
     "data": {
      "text/plain": [
       "array([False, False,  True,  True, False, False,  True, False, False,\n",
       "        True, False,  True, False,  True, False,  True, False, False,\n",
       "       False,  True, False, False,  True, False, False])"
      ]
     },
     "execution_count": 164,
     "metadata": {},
     "output_type": "execute_result"
    }
   ],
   "source": [
    "np.isclose(data,close,atol=5)"
   ]
  },
  {
   "cell_type": "code",
   "execution_count": 165,
   "id": "5cf011b9",
   "metadata": {},
   "outputs": [
    {
     "data": {
      "text/plain": [
       "9"
      ]
     },
     "execution_count": 165,
     "metadata": {},
     "output_type": "execute_result"
    }
   ],
   "source": [
    "np.count_nonzero(np.isclose(data,close,atol=5))"
   ]
  },
  {
   "cell_type": "code",
   "execution_count": 166,
   "id": "d62988c7",
   "metadata": {},
   "outputs": [],
   "source": [
    "# Building Ufunc Features\n",
    "import numpy as np\n",
    "import numpy.random as ndr\n",
    "import matplotlib.pyplot as plt"
   ]
  },
  {
   "cell_type": "code",
   "execution_count": 167,
   "id": "dd457723",
   "metadata": {},
   "outputs": [
    {
     "data": {
      "text/plain": [
       "array([ 0,  1,  4,  9, 16, 25, 36, 49, 64, 81])"
      ]
     },
     "execution_count": 167,
     "metadata": {},
     "output_type": "execute_result"
    }
   ],
   "source": [
    "data = np.arange(10)\n",
    "np.multiply(data,data)"
   ]
  },
  {
   "cell_type": "code",
   "execution_count": 168,
   "id": "a7950c34",
   "metadata": {},
   "outputs": [
    {
     "data": {
      "text/plain": [
       "array([ 0,  1,  4,  9, 16, 25, 36, 49, 64, 81])"
      ]
     },
     "execution_count": 168,
     "metadata": {},
     "output_type": "execute_result"
    }
   ],
   "source": [
    "data = list(range(10))\n",
    "np.multiply(data,data)"
   ]
  },
  {
   "cell_type": "code",
   "execution_count": 169,
   "id": "8727b80f",
   "metadata": {},
   "outputs": [
    {
     "data": {
      "text/plain": [
       "array([ 0,  1,  4,  9, 16, 25, 36, 49, 64, 81])"
      ]
     },
     "execution_count": 169,
     "metadata": {},
     "output_type": "execute_result"
    }
   ],
   "source": [
    "# np work without np array\n",
    "data = tuple(range(10))\n",
    "np.multiply(data,data)"
   ]
  },
  {
   "cell_type": "code",
   "execution_count": 170,
   "id": "3db0bfc1",
   "metadata": {},
   "outputs": [
    {
     "data": {
      "text/plain": [
       "array([ 0,  1,  2,  3, 16, 25, 36, 49, 64, 81])"
      ]
     },
     "execution_count": 170,
     "metadata": {},
     "output_type": "execute_result"
    }
   ],
   "source": [
    "# Can be run conditionally\n",
    "data = np.arange(10)\n",
    "np.multiply(data,data, where= data > 3)"
   ]
  },
  {
   "cell_type": "code",
   "execution_count": 171,
   "id": "21d4f8d3",
   "metadata": {},
   "outputs": [
    {
     "data": {
      "text/plain": [
       "array([[ 0,  1,  2,  3,  4,  5,  6,  7,  8,  9],\n",
       "       [10, 11, 12, 13, 14, 15, 16, 17, 18, 19]])"
      ]
     },
     "execution_count": 171,
     "metadata": {},
     "output_type": "execute_result"
    }
   ],
   "source": [
    "# In the case of sum,mean,etc can be run on an axis\n",
    "data = np.arange(20).reshape(2,10)\n",
    "data"
   ]
  },
  {
   "cell_type": "code",
   "execution_count": 172,
   "id": "0c37dece",
   "metadata": {},
   "outputs": [
    {
     "data": {
      "text/plain": [
       "array([ 45, 145])"
      ]
     },
     "execution_count": 172,
     "metadata": {},
     "output_type": "execute_result"
    }
   ],
   "source": [
    "# sum rowwise\n",
    "np.sum(data, axis=1)"
   ]
  },
  {
   "cell_type": "code",
   "execution_count": 173,
   "id": "893dba72",
   "metadata": {},
   "outputs": [
    {
     "data": {
      "text/plain": [
       "array([10, 12, 14, 16, 18, 20, 22, 24, 26, 28])"
      ]
     },
     "execution_count": 173,
     "metadata": {},
     "output_type": "execute_result"
    }
   ],
   "source": [
    "# sum columnwise\n",
    "np.sum(data, axis=0)"
   ]
  },
  {
   "cell_type": "code",
   "execution_count": 174,
   "id": "253469ae",
   "metadata": {},
   "outputs": [
    {
     "name": "stdout",
     "output_type": "stream",
     "text": [
      "[ 1  2  3  4  5  6  7  8  9 10 11 12 13 14 15 16 17 18 19 20 21 22 23 24\n",
      " 25 26 27 28 29 30 31 32 33 34 35 36]\n"
     ]
    },
    {
     "data": {
      "text/plain": [
       "array([ 1,  2,  3,  4,  5,  6,  7,  8,  9, 10, 11,  0,  1,  2,  3,  4,  5,\n",
       "        6,  7,  8,  9, 10, 11,  0,  1,  2,  3,  4,  5,  6,  7,  8,  9, 10,\n",
       "       11,  0], dtype=int32)"
      ]
     },
     "execution_count": 174,
     "metadata": {},
     "output_type": "execute_result"
    }
   ],
   "source": [
    "months = np.arange(1,37)\n",
    "print(months)\n",
    "conv = np.mod(months,12)\n",
    "conv"
   ]
  },
  {
   "cell_type": "code",
   "execution_count": 175,
   "id": "b80b0e2b",
   "metadata": {},
   "outputs": [
    {
     "data": {
      "text/plain": [
       "array([ 1,  2,  3,  4,  5,  6,  7,  8,  9, 10, 11, 12,  1,  2,  3,  4,  5,\n",
       "        6,  7,  8,  9, 10, 11, 12,  1,  2,  3,  4,  5,  6,  7,  8,  9, 10,\n",
       "       11, 12], dtype=int32)"
      ]
     },
     "execution_count": 175,
     "metadata": {},
     "output_type": "execute_result"
    }
   ],
   "source": [
    "mask = conv ==0\n",
    "conv[mask] = 12\n",
    "conv"
   ]
  },
  {
   "cell_type": "code",
   "execution_count": 176,
   "id": "90aacd2d",
   "metadata": {},
   "outputs": [
    {
     "data": {
      "text/plain": [
       "array([ 0.,  1.,  4.,  9., 16., 25., 36., 49., 64., 81.])"
      ]
     },
     "execution_count": 176,
     "metadata": {},
     "output_type": "execute_result"
    }
   ],
   "source": [
    "# You can specify an output array rather than creating a tempory one\n",
    "data = np.arange(10)\n",
    "destination = np.zeros(10)\n",
    "np.multiply(data,data, out=destination)\n",
    "destination"
   ]
  },
  {
   "cell_type": "code",
   "execution_count": 177,
   "id": "4a117425",
   "metadata": {},
   "outputs": [
    {
     "data": {
      "text/plain": [
       "120"
      ]
     },
     "execution_count": 177,
     "metadata": {},
     "output_type": "execute_result"
    }
   ],
   "source": [
    "# Various agngregations can be easily carried out\n",
    "np.multiply.reduce(np.arange(1,6))"
   ]
  },
  {
   "cell_type": "code",
   "execution_count": 178,
   "id": "520ebe89",
   "metadata": {},
   "outputs": [
    {
     "data": {
      "text/plain": [
       "array([-0.01626107,  0.02009981, -0.02759273,  0.00334632,  0.01873385,\n",
       "       -0.00022668, -0.0065897 ,  0.01392239,  0.00065555, -0.02412681,\n",
       "        0.00918318, -0.02481096, -0.00516033,  0.0163767 , -0.00806746,\n",
       "        0.01246652, -0.01198611,  0.00485772,  0.04729762,  0.00118284,\n",
       "        0.00141689])"
      ]
     },
     "execution_count": 178,
     "metadata": {},
     "output_type": "execute_result"
    }
   ],
   "source": [
    "data = np.log(1+npr.normal(0,.015, size=21))\n",
    "data"
   ]
  },
  {
   "cell_type": "code",
   "execution_count": 179,
   "id": "e8b2904c",
   "metadata": {},
   "outputs": [
    {
     "data": {
      "text/plain": [
       "array([-0.01626107,  0.00383874, -0.02375399, -0.02040767, -0.00167381,\n",
       "       -0.0019005 , -0.0084902 ,  0.00543219,  0.00608774, -0.01803907,\n",
       "       -0.0088559 , -0.03366686, -0.03882719, -0.02245049, -0.03051795,\n",
       "       -0.01805144, -0.03003754, -0.02517982,  0.0221178 ,  0.02330064,\n",
       "        0.02471753])"
      ]
     },
     "execution_count": 179,
     "metadata": {},
     "output_type": "execute_result"
    }
   ],
   "source": [
    "np.add.accumulate(data)"
   ]
  },
  {
   "cell_type": "code",
   "execution_count": 180,
   "id": "39595c88",
   "metadata": {},
   "outputs": [
    {
     "data": {
      "text/plain": [
       "[<matplotlib.lines.Line2D at 0x14f661e9730>]"
      ]
     },
     "execution_count": 180,
     "metadata": {},
     "output_type": "execute_result"
    },
    {
     "data": {
      "image/png": "[encoded data removed]",
      "text/plain": [
       "<Figure size 432x288 with 1 Axes>"
      ]
     },
     "metadata": {
      "needs_background": "light"
     },
     "output_type": "display_data"
    }
   ],
   "source": [
    "plt.plot(np.add.accumulate(data))"
   ]
  },
  {
   "cell_type": "code",
   "execution_count": 181,
   "id": "90ae3fd4",
   "metadata": {},
   "outputs": [
    {
     "data": {
      "text/plain": [
       "array([-0.01626107,  0.00383874, -0.02375399, -0.02040767, -0.00167381,\n",
       "       -0.0019005 , -0.0084902 ,  0.00543219,  0.00608774, -0.01803907,\n",
       "       -0.0088559 , -0.03366686, -0.03882719, -0.02245049, -0.03051795,\n",
       "       -0.01805144, -0.03003754, -0.02517982,  0.0221178 ,  0.02330064,\n",
       "        0.02471753])"
      ]
     },
     "execution_count": 181,
     "metadata": {},
     "output_type": "execute_result"
    }
   ],
   "source": [
    "data.cumsum()"
   ]
  },
  {
   "cell_type": "code",
   "execution_count": 117,
   "id": "4381fcdb",
   "metadata": {},
   "outputs": [],
   "source": [
    "import numpy as np\n",
    "import numpy.random as npr\n",
    "import matplotlib.pyplot as plt"
   ]
  },
  {
   "cell_type": "code",
   "execution_count": 118,
   "id": "84056e64",
   "metadata": {},
   "outputs": [],
   "source": [
    "data = npr.normal(0, 0.015, size = 252)"
   ]
  },
  {
   "cell_type": "code",
   "execution_count": 119,
   "id": "8b809f58",
   "metadata": {},
   "outputs": [
    {
     "data": {
      "text/plain": [
       "(array([ 2.,  1.,  2.,  1.,  2.,  4.,  7.,  8., 15., 20., 16., 28., 32.,\n",
       "        28., 24., 16., 22.,  8.,  6.,  5.,  3.,  1.,  0.,  0.,  1.]),\n",
       " array([-0.04456054, -0.04099246, -0.03742437, -0.03385629, -0.0302882 ,\n",
       "        -0.02672011, -0.02315203, -0.01958394, -0.01601586, -0.01244777,\n",
       "        -0.00887968, -0.0053116 , -0.00174351,  0.00182457,  0.00539266,\n",
       "         0.00896075,  0.01252883,  0.01609692,  0.019665  ,  0.02323309,\n",
       "         0.02680118,  0.03036926,  0.03393735,  0.03750543,  0.04107352,\n",
       "         0.04464161]),\n",
       " <BarContainer object of 25 artists>)"
      ]
     },
     "execution_count": 119,
     "metadata": {},
     "output_type": "execute_result"
    },
    {
     "data": {
      "image/png": "[encoded data removed]",
      "text/plain": [
       "<Figure size 432x288 with 1 Axes>"
      ]
     },
     "metadata": {
      "needs_background": "light"
     },
     "output_type": "display_data"
    }
   ],
   "source": [
    "plt.hist(data, bins=25)"
   ]
  },
  {
   "cell_type": "code",
   "execution_count": 120,
   "id": "0aa917ea",
   "metadata": {},
   "outputs": [
    {
     "name": "stdout",
     "output_type": "stream",
     "text": [
      "Use np.where as you would an if...else block\n"
     ]
    }
   ],
   "source": [
    "print(\"Use np.where as you would an if...else block\")\n",
    "positive = np.where(data > 0 , True, False)"
   ]
  },
  {
   "cell_type": "code",
   "execution_count": 121,
   "id": "0de46b9e",
   "metadata": {},
   "outputs": [
    {
     "name": "stdout",
     "output_type": "stream",
     "text": [
      "129\n"
     ]
    }
   ],
   "source": [
    "print(len(data[positive]))"
   ]
  },
  {
   "cell_type": "code",
   "execution_count": 122,
   "id": "189884ef",
   "metadata": {},
   "outputs": [
    {
     "name": "stdout",
     "output_type": "stream",
     "text": [
      "{:2%} 0.010352043317899214\n"
     ]
    }
   ],
   "source": [
    "print(\"{:2%}\",format(data[positive].mean()))"
   ]
  },
  {
   "cell_type": "code",
   "execution_count": 123,
   "id": "bf74fcdd",
   "metadata": {},
   "outputs": [
    {
     "name": "stdout",
     "output_type": "stream",
     "text": [
      "Use the tilde character to optain the opposite of a mask\n"
     ]
    },
    {
     "data": {
      "text/plain": [
       "array([-0.00926499, -0.01174397, -0.00969919, -0.03424161, -0.02105106,\n",
       "       -0.01803021, -0.0119846 , -0.00617019, -0.00144603, -0.0033405 ,\n",
       "       -0.00595735, -0.00916742, -0.00665686, -0.01772144, -0.00338076,\n",
       "       -0.01302405, -0.01057463, -0.01094312, -0.00200043, -0.00166486,\n",
       "       -0.0149438 , -0.00894911, -0.00358094, -0.01522677, -0.01115846,\n",
       "       -0.01262465, -0.02496127, -0.00076872, -0.00832462, -0.00328689,\n",
       "       -0.00577756, -0.00038245, -0.04456054, -0.00485385, -0.01850255,\n",
       "       -0.00385377, -0.00204243, -0.01283749, -0.00727152, -0.00272308,\n",
       "       -0.00235732, -0.00607936, -0.01767001, -0.01023113, -0.01154205,\n",
       "       -0.00081543, -0.01531807, -0.00049825, -0.0050281 , -0.01339133,\n",
       "       -0.04246583, -0.02488096, -0.03181966, -0.01879141, -0.00036095,\n",
       "       -0.0112971 , -0.0093158 , -0.00566014, -0.00079405, -0.01060058,\n",
       "       -0.00152795, -0.0079742 , -0.01474037, -0.0058063 , -0.01773901,\n",
       "       -0.01521072, -0.00145604, -0.0044087 , -0.0086574 , -0.00474619,\n",
       "       -0.0258669 , -0.02408266, -0.00214733, -0.006318  , -0.0118329 ,\n",
       "       -0.00199673, -0.00971382, -0.00397643, -0.00321448, -0.00810027,\n",
       "       -0.00815194, -0.00101053, -0.0212051 , -0.00996357, -0.01561038,\n",
       "       -0.00284408, -0.0020873 , -0.00053801, -0.00435191, -0.00518642,\n",
       "       -0.01939236, -0.00164572, -0.00360726, -0.01440856, -0.02850468,\n",
       "       -0.02801699, -0.03976261, -0.00068343, -0.00290483, -0.01273132,\n",
       "       -0.02277963, -0.02264286, -0.00279976, -0.0197016 , -0.00988349,\n",
       "       -0.00527113, -0.01064318, -0.01249155, -0.00122091, -0.0140967 ,\n",
       "       -0.00299613, -0.00762716, -0.0368734 , -0.00639052, -0.00993509,\n",
       "       -0.01993037, -0.00334295, -0.00148003, -0.00224914, -0.00095116,\n",
       "       -0.01332894, -0.01749185, -0.0218836 ])"
      ]
     },
     "execution_count": 123,
     "metadata": {},
     "output_type": "execute_result"
    }
   ],
   "source": [
    "print(\"Use the tilde character to optain the opposite of a mask\")\n",
    "data[~positive]"
   ]
  },
  {
   "cell_type": "code",
   "execution_count": 124,
   "id": "26ad0858",
   "metadata": {},
   "outputs": [
    {
     "name": "stdout",
     "output_type": "stream",
     "text": [
      "You can also use to replace corresponding values from an array\n"
     ]
    }
   ],
   "source": [
    "print(\"You can also use to replace corresponding values from an array\")\n",
    "x=npr.standard_normal(20)\n",
    "y=np.arange(20)"
   ]
  },
  {
   "cell_type": "code",
   "execution_count": 125,
   "id": "aa294201",
   "metadata": {},
   "outputs": [
    {
     "data": {
      "text/plain": [
       "array([ 0.        ,  1.12911261,  0.97276914,  3.78836471,  1.33829133,\n",
       "        5.        ,  0.67340519,  0.52961239,  8.        ,  9.        ,\n",
       "        1.50272172, 11.        , 12.        ,  1.67485234, 14.        ,\n",
       "        1.04292692,  0.28950726, 17.        , 18.        ,  1.13259071])"
      ]
     },
     "execution_count": 125,
     "metadata": {},
     "output_type": "execute_result"
    }
   ],
   "source": [
    "np.where(x < 0, y, x)"
   ]
  },
  {
   "cell_type": "code",
   "execution_count": null,
   "id": "56dfce6a",
   "metadata": {},
   "outputs": [],
   "source": []
  }
 ],
 "metadata": {
  "kernelspec": {
   "display_name": "Python 3 (ipykernel)",
   "language": "python",
   "name": "python3"
  },
  "language_info": {
   "codemirror_mode": {
    "name": "ipython",
    "version": 3
   },
   "file_extension": ".py",
   "mimetype": "text/x-python",
   "name": "python",
   "nbconvert_exporter": "python",
   "pygments_lexer": "ipython3",
   "version": "3.9.12"
  }
 },
 "nbformat": 4,
 "nbformat_minor": 5
}
