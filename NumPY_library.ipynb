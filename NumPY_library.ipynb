{
 "cells": [
  {
   "cell_type": "markdown",
   "id": "212c76a4",
   "metadata": {},
   "source": [
    "# NUMPY LIBRARY"
   ]
  },
  {
   "cell_type": "code",
   "execution_count": 1,
   "id": "c06cd8ca",
   "metadata": {},
   "outputs": [
    {
     "data": {
      "text/plain": [
       "'1.21.5'"
      ]
     },
     "execution_count": 1,
     "metadata": {},
     "output_type": "execute_result"
    }
   ],
   "source": [
    "import numpy as np\n",
    "\n",
    "np.__version__"
   ]
  },
  {
   "cell_type": "markdown",
   "id": "9e8efd81",
   "metadata": {},
   "source": [
    "# CREATE A 1-D ARRAY USING array()"
   ]
  },
  {
   "cell_type": "code",
   "execution_count": 2,
   "id": "ec54ce20",
   "metadata": {},
   "outputs": [
    {
     "name": "stdout",
     "output_type": "stream",
     "text": [
      "[1 2 3]\n",
      "int32\n",
      "(3,)\n"
     ]
    }
   ],
   "source": [
    "import numpy as np\n",
    "\n",
    "a=np.array([1,2,3])\n",
    "\n",
    "print(a)\n",
    "print(a.dtype)\n",
    "print(a.shape)"
   ]
  },
  {
   "cell_type": "markdown",
   "id": "e861a6bc",
   "metadata": {},
   "source": [
    "# CREATE A 1-D ARRAY USING arange()"
   ]
  },
  {
   "cell_type": "code",
   "execution_count": 3,
   "id": "4954ed24",
   "metadata": {},
   "outputs": [
    {
     "name": "stdout",
     "output_type": "stream",
     "text": [
      "[0 1 2]\n",
      "int32\n",
      "(3,)\n"
     ]
    }
   ],
   "source": [
    "import numpy as np\n",
    "\n",
    "a=np.arange(3)\n",
    "\n",
    "print(a)\n",
    "print(a.dtype)\n",
    "print(a.shape)"
   ]
  },
  {
   "cell_type": "markdown",
   "id": "085f6358",
   "metadata": {},
   "source": [
    "# CREATE A 2-D ARRAY USING array()"
   ]
  },
  {
   "cell_type": "code",
   "execution_count": 4,
   "id": "05a9da55",
   "metadata": {},
   "outputs": [
    {
     "name": "stdout",
     "output_type": "stream",
     "text": [
      "[[1 2 3]\n",
      " [4 5 6]]\n",
      "int32\n",
      "(2, 3)\n"
     ]
    }
   ],
   "source": [
    "import numpy as np\n",
    "\n",
    "b=np.array(([1,2,3],[4,5,6]))\n",
    "\n",
    "print(b)\n",
    "print(b.dtype)\n",
    "print(b.shape)"
   ]
  },
  {
   "cell_type": "markdown",
   "id": "efc535e3",
   "metadata": {},
   "source": [
    "# CREATE A 2-D ARRAY USING arange()"
   ]
  },
  {
   "cell_type": "code",
   "execution_count": 5,
   "id": "95b01b90",
   "metadata": {},
   "outputs": [
    {
     "name": "stdout",
     "output_type": "stream",
     "text": [
      "[[0 1 2 3 4]\n",
      " [5 6 7 8 9]]\n",
      "int32\n",
      "(2, 5)\n"
     ]
    }
   ],
   "source": [
    "import numpy as np\n",
    "\n",
    "b=np.arange(10).reshape(2,5)  #if we multiply numbers in reshape() it must become 10\n",
    "\n",
    "print(b)\n",
    "print(b.dtype)\n",
    "print(b.shape)"
   ]
  },
  {
   "cell_type": "code",
   "execution_count": 6,
   "id": "765dc5c2",
   "metadata": {},
   "outputs": [
    {
     "name": "stdout",
     "output_type": "stream",
     "text": [
      "[[0 1]\n",
      " [2 3]\n",
      " [4 5]\n",
      " [6 7]\n",
      " [8 9]]\n",
      "int32\n",
      "(5, 2)\n"
     ]
    }
   ],
   "source": [
    "import numpy as np\n",
    "\n",
    "b=np.arange(10).reshape(5,2)\n",
    "\n",
    "print(b)\n",
    "print(b.dtype)\n",
    "print(b.shape)"
   ]
  },
  {
   "cell_type": "markdown",
   "id": "df99d8dc",
   "metadata": {},
   "source": [
    "# CREATE A 3-D ARRAY USING array()"
   ]
  },
  {
   "cell_type": "code",
   "execution_count": 7,
   "id": "1ae0c0ba",
   "metadata": {},
   "outputs": [
    {
     "name": "stdout",
     "output_type": "stream",
     "text": [
      "[[[ 1  2  3]\n",
      "  [ 5  6  7]]\n",
      "\n",
      " [[ 8  9 10]\n",
      "  [11 12 13]]\n",
      "\n",
      " [[14 15 16]\n",
      "  [17 18 19]]]\n",
      "int32\n",
      "(3, 2, 3)\n"
     ]
    }
   ],
   "source": [
    "import numpy as np\n",
    "\n",
    "c=np.array(\n",
    "    [\n",
    "        [[1,2,3],[5,6,7]],       #3 2-d array with 2-rows and 3-columns\n",
    "        [[8,9,10],[11,12,13]],\n",
    "        [[14,15,16],[17,18,19]]\n",
    "    ]\n",
    "    )\n",
    "\n",
    "print(c)\n",
    "print(c.dtype)\n",
    "print(c.shape)"
   ]
  },
  {
   "cell_type": "markdown",
   "id": "896efc40",
   "metadata": {},
   "source": [
    "# CREATE A 3-D ARRAY USING arange()"
   ]
  },
  {
   "cell_type": "code",
   "execution_count": 8,
   "id": "0009f773",
   "metadata": {},
   "outputs": [
    {
     "name": "stdout",
     "output_type": "stream",
     "text": [
      "[[[ 1  2]\n",
      "  [ 3  4]\n",
      "  [ 5  6]]\n",
      "\n",
      " [[ 7  8]\n",
      "  [ 9 10]\n",
      "  [11 12]]\n",
      "\n",
      " [[13 14]\n",
      "  [15 16]\n",
      "  [17 18]]]\n",
      "int32\n",
      "(3, 3, 2)\n"
     ]
    }
   ],
   "source": [
    "import numpy as np\n",
    "\n",
    "c=np.arange(1,19).reshape(3,3,2)  #3 2-d array with 3-rows and 2-columns\n",
    "\n",
    "print(c)\n",
    "print(c.dtype)\n",
    "print(c.shape)  #shape() gives total number of elements in array"
   ]
  },
  {
   "cell_type": "markdown",
   "id": "272d2ed0",
   "metadata": {},
   "source": [
    "# CREATE ARRAY OF ONES(1-D)"
   ]
  },
  {
   "cell_type": "code",
   "execution_count": 9,
   "id": "6121b0f1",
   "metadata": {},
   "outputs": [
    {
     "name": "stdout",
     "output_type": "stream",
     "text": [
      "[1 1]\n",
      "int32\n",
      "(2,)\n"
     ]
    }
   ],
   "source": [
    "import numpy as np\n",
    "\n",
    "d=np.ones(2,dtype=np.int32)  #dtype of numpy is default float64\n",
    "\n",
    "print (d)\n",
    "print(d.dtype)\n",
    "print(d.shape)"
   ]
  },
  {
   "cell_type": "markdown",
   "id": "45f80237",
   "metadata": {},
   "source": [
    "# CREATE ARRAY OF ONES(2-D)"
   ]
  },
  {
   "cell_type": "code",
   "execution_count": 10,
   "id": "84c6178f",
   "metadata": {},
   "outputs": [
    {
     "name": "stdout",
     "output_type": "stream",
     "text": [
      "[[1 1 1]\n",
      " [1 1 1]]\n",
      "int32\n",
      "(2, 3)\n"
     ]
    }
   ],
   "source": [
    "import numpy as np\n",
    "\n",
    "d=np.ones((2,3),dtype=np.int32)\n",
    "\n",
    "print(d)\n",
    "print(d.dtype)\n",
    "print(d.shape)"
   ]
  },
  {
   "cell_type": "markdown",
   "id": "85fdca9e",
   "metadata": {},
   "source": [
    "# CREATE ARRAY OF ONES(3-D)"
   ]
  },
  {
   "cell_type": "code",
   "execution_count": 11,
   "id": "1f2f9255",
   "metadata": {},
   "outputs": [
    {
     "name": "stdout",
     "output_type": "stream",
     "text": [
      "[[[1 1 1]\n",
      "  [1 1 1]]\n",
      "\n",
      " [[1 1 1]\n",
      "  [1 1 1]]\n",
      "\n",
      " [[1 1 1]\n",
      "  [1 1 1]]]\n",
      "int32\n",
      "(3, 2, 3)\n"
     ]
    }
   ],
   "source": [
    "import numpy as np\n",
    "\n",
    "d=np.ones((3,2,3), dtype=\"int32\")\n",
    "\n",
    "print(d)\n",
    "print(d.dtype)\n",
    "print(d.shape)"
   ]
  },
  {
   "cell_type": "markdown",
   "id": "5bd224b9",
   "metadata": {},
   "source": [
    "# CREATE ARRAY OF ZEROS(1-D)"
   ]
  },
  {
   "cell_type": "code",
   "execution_count": 12,
   "id": "b4cf77dc",
   "metadata": {},
   "outputs": [
    {
     "name": "stdout",
     "output_type": "stream",
     "text": [
      "[0 0 0]\n",
      "int32\n",
      "(3,)\n"
     ]
    }
   ],
   "source": [
    "import numpy as np\n",
    "\n",
    "f=np.zeros((3),dtype=np.int32)\n",
    "\n",
    "print(f)\n",
    "print(f.dtype)\n",
    "print(f.shape)"
   ]
  },
  {
   "cell_type": "markdown",
   "id": "55370e5f",
   "metadata": {},
   "source": [
    "# CREATE ARRAY OF ZEROS(2-D)"
   ]
  },
  {
   "cell_type": "code",
   "execution_count": 13,
   "id": "85debcf2",
   "metadata": {},
   "outputs": [
    {
     "name": "stdout",
     "output_type": "stream",
     "text": [
      "[[0 0 0]\n",
      " [0 0 0]]\n",
      "int32\n",
      "(2, 3)\n"
     ]
    }
   ],
   "source": [
    "import numpy as np\n",
    "\n",
    "f=np.zeros((2,3),dtype=np.int32)\n",
    "\n",
    "print(f)\n",
    "print(f.dtype)\n",
    "print(f.shape)"
   ]
  },
  {
   "cell_type": "markdown",
   "id": "8980966e",
   "metadata": {},
   "source": [
    "# CREATE ARRAY OF ZEROS(3-D)"
   ]
  },
  {
   "cell_type": "code",
   "execution_count": 14,
   "id": "e0100d94",
   "metadata": {},
   "outputs": [
    {
     "name": "stdout",
     "output_type": "stream",
     "text": [
      "[[[0 0 0]\n",
      "  [0 0 0]]\n",
      "\n",
      " [[0 0 0]\n",
      "  [0 0 0]]\n",
      "\n",
      " [[0 0 0]\n",
      "  [0 0 0]]]\n",
      "int32\n",
      "(3, 2, 3)\n"
     ]
    }
   ],
   "source": [
    "import numpy as np\n",
    "\n",
    "f=np.zeros((3,2,3),dtype=np.int32)\n",
    "\n",
    "print(f)\n",
    "print(f.dtype)\n",
    "print(f.shape)"
   ]
  },
  {
   "cell_type": "markdown",
   "id": "a7de655e",
   "metadata": {},
   "source": [
    "# CREATE AN ARRAY WITH RANDOM NUMBERS(1-D)"
   ]
  },
  {
   "cell_type": "code",
   "execution_count": 15,
   "id": "e9538a95",
   "metadata": {},
   "outputs": [
    {
     "name": "stdout",
     "output_type": "stream",
     "text": [
      "[2 1 3 1 2 4]\n",
      "int32\n",
      "(6,)\n"
     ]
    }
   ],
   "source": [
    "import numpy as np\n",
    "\n",
    "a=np.random.randint(1,6,size=(6))\n",
    "\n",
    "print(a)\n",
    "print(a.dtype)\n",
    "print(a.shape)"
   ]
  },
  {
   "cell_type": "markdown",
   "id": "edcaa490",
   "metadata": {},
   "source": [
    "# CREATE AN ARRAY WITH RANDOM NUMBERS (2-D)"
   ]
  },
  {
   "cell_type": "code",
   "execution_count": 16,
   "id": "ba2a1d64",
   "metadata": {},
   "outputs": [
    {
     "name": "stdout",
     "output_type": "stream",
     "text": [
      "[[8 8 6]\n",
      " [7 1 7]]\n",
      "int32\n",
      "(2, 3)\n"
     ]
    }
   ],
   "source": [
    "import numpy as np\n",
    "\n",
    "b=np.random.randint(1,11,size=(2,3))  #size==shape\n",
    "\n",
    "print(b)\n",
    "print(b.dtype)\n",
    "print(b.shape)"
   ]
  },
  {
   "cell_type": "markdown",
   "id": "b8c5431f",
   "metadata": {},
   "source": [
    "# CREATE AN ARRAY WITH RANDOM NUMBERS(3-D)"
   ]
  },
  {
   "cell_type": "code",
   "execution_count": 17,
   "id": "282ad290",
   "metadata": {},
   "outputs": [
    {
     "name": "stdout",
     "output_type": "stream",
     "text": [
      "[[[20 12 15]\n",
      "  [11 15 10]]\n",
      "\n",
      " [[15 19 19]\n",
      "  [12 15 13]]\n",
      "\n",
      " [[18 12 13]\n",
      "  [14 10 15]]]\n",
      "int32\n",
      "(3, 2, 3)\n"
     ]
    }
   ],
   "source": [
    "import numpy as np\n",
    "\n",
    "c=np.random.randint(10,21,size=(3,2,3))\n",
    "\n",
    "print(c)\n",
    "print(c.dtype)\n",
    "print(c.shape)"
   ]
  },
  {
   "cell_type": "markdown",
   "id": "a5e45c8c",
   "metadata": {},
   "source": [
    "# CREATE ARRAY WITH SINGLE LOW MULTIPLE HIGH "
   ]
  },
  {
   "cell_type": "code",
   "execution_count": 18,
   "id": "11cac36e",
   "metadata": {},
   "outputs": [
    {
     "name": "stdout",
     "output_type": "stream",
     "text": [
      "[ 8  8 11]\n",
      "int32\n",
      "(3,)\n"
     ]
    }
   ],
   "source": [
    "import numpy as np\n",
    "\n",
    "a=np.random.randint(5,[10,20,30])\n",
    "\n",
    "print(a)\n",
    "print(a.dtype)\n",
    "print(a.shape)"
   ]
  },
  {
   "cell_type": "markdown",
   "id": "7f9aad69",
   "metadata": {},
   "source": [
    "# CREATEA ARRAY WITH MULTIPLE LOW SINGLE HIGH"
   ]
  },
  {
   "cell_type": "code",
   "execution_count": 19,
   "id": "61c5f0be",
   "metadata": {},
   "outputs": [
    {
     "name": "stdout",
     "output_type": "stream",
     "text": [
      "[8 4 5]\n",
      "int32\n",
      "(3,)\n"
     ]
    }
   ],
   "source": [
    "import numpy as np\n",
    "\n",
    "b=np.random.randint([1,2,3],10)\n",
    "\n",
    "print(b)\n",
    "print(b.dtype)\n",
    "print(b.shape)"
   ]
  },
  {
   "cell_type": "markdown",
   "id": "e3281507",
   "metadata": {},
   "source": [
    "# CREATE ARRAY WITH MULTIPLE LOW MULTIPLE HIGH"
   ]
  },
  {
   "cell_type": "code",
   "execution_count": 20,
   "id": "403960e6",
   "metadata": {},
   "outputs": [
    {
     "name": "stdout",
     "output_type": "stream",
     "text": [
      "[ 5  3 19 38]\n",
      "int32\n",
      "(4,)\n"
     ]
    }
   ],
   "source": [
    "import numpy as np\n",
    "\n",
    "a=np.random.randint([1,2,3,5],[10,20,30,40])\n",
    "\n",
    "print(a)\n",
    "print(a.dtype)\n",
    "print(a.shape)"
   ]
  },
  {
   "cell_type": "markdown",
   "id": "2a4ef268",
   "metadata": {},
   "source": [
    "# CREATE ARRAY WITH RANDOM NUMBERS USING randn() (1-D)"
   ]
  },
  {
   "cell_type": "code",
   "execution_count": 21,
   "id": "bc975a6c",
   "metadata": {},
   "outputs": [
    {
     "name": "stdout",
     "output_type": "stream",
     "text": [
      "[-0.53653879  0.82749647 -0.83799449 -1.24115996 -0.76883706]\n",
      "float64\n",
      "(5,)\n"
     ]
    }
   ],
   "source": [
    "import numpy as np\n",
    "\n",
    "a=np.random.randn(5)\n",
    "\n",
    "print(a)\n",
    "print(a.dtype)\n",
    "print(a.shape)"
   ]
  },
  {
   "cell_type": "markdown",
   "id": "bfdebecf",
   "metadata": {},
   "source": [
    "# CREATE  NUMPY WITH RANDOM NUMBERS USING randn() (2-D)"
   ]
  },
  {
   "cell_type": "code",
   "execution_count": 22,
   "id": "56cf3b2c",
   "metadata": {},
   "outputs": [
    {
     "name": "stdout",
     "output_type": "stream",
     "text": [
      "[[-0.58723246  0.24529969]\n",
      " [ 0.97199801 -0.24262681]\n",
      " [-0.40528375  0.25542937]]\n",
      "float64\n",
      "(3, 2)\n"
     ]
    }
   ],
   "source": [
    "import numpy as np\n",
    "\n",
    "b=np.random.randn(3,2)\n",
    "\n",
    "print(b)\n",
    "print(b.dtype)\n",
    "print(b.shape)"
   ]
  },
  {
   "cell_type": "markdown",
   "id": "de41cf4c",
   "metadata": {},
   "source": [
    "# CREATE ARRAY WITH RANDOM NUMBERS USING randn() (3-D)"
   ]
  },
  {
   "cell_type": "code",
   "execution_count": 23,
   "id": "8b2ce2f1",
   "metadata": {},
   "outputs": [
    {
     "name": "stdout",
     "output_type": "stream",
     "text": [
      "[[[ 0.55264649  2.12401202]\n",
      "  [ 0.80769632  0.40890218]\n",
      "  [-0.2238762  -0.31329168]]\n",
      "\n",
      " [[ 0.5376782  -0.05086445]\n",
      "  [ 0.23535022 -0.32699959]\n",
      "  [ 0.76465828  1.49219944]]\n",
      "\n",
      " [[-0.21685463 -1.65476721]\n",
      "  [ 0.71293614 -1.55655735]\n",
      "  [ 1.02277958 -1.62314695]]]\n",
      "float64\n",
      "(3, 3, 2)\n"
     ]
    }
   ],
   "source": [
    "import numpy as np\n",
    "\n",
    "c=np.random.randn(3,3,2)\n",
    "\n",
    "print(c)\n",
    "print(c.dtype)\n",
    "print(c.shape)"
   ]
  },
  {
   "cell_type": "markdown",
   "id": "9ecad7c5",
   "metadata": {},
   "source": [
    "# CREATE ARRAY OF RANDOM NUMBERS USING rand()"
   ]
  },
  {
   "cell_type": "code",
   "execution_count": 24,
   "id": "c7544995",
   "metadata": {},
   "outputs": [
    {
     "name": "stdout",
     "output_type": "stream",
     "text": [
      "[0.23632704 0.44534154 0.05248214 0.22064591 0.01791683]\n",
      "float64\n",
      "(5,)\n"
     ]
    }
   ],
   "source": [
    "import numpy as np\n",
    "\n",
    "a=np.random.rand(5)\n",
    "\n",
    "print(a)\n",
    "print(a.dtype)\n",
    "print(a.shape)"
   ]
  },
  {
   "cell_type": "markdown",
   "id": "fe05b614",
   "metadata": {},
   "source": [
    "# POSITIVE INDEXING IN ARRAY (left-right)"
   ]
  },
  {
   "cell_type": "code",
   "execution_count": 25,
   "id": "7ae1b039",
   "metadata": {},
   "outputs": [
    {
     "name": "stdout",
     "output_type": "stream",
     "text": [
      "3\n",
      "8\n"
     ]
    },
    {
     "data": {
      "text/plain": [
       "4"
      ]
     },
     "execution_count": 25,
     "metadata": {},
     "output_type": "execute_result"
    }
   ],
   "source": [
    "#array with 1-D\n",
    "import numpy as np\n",
    "\n",
    "arr=np.array([1,2,3,4,5,6,7,8])\n",
    "\n",
    "print(arr[2])\n",
    "print(arr[7])  #permanent method\n",
    "arr[3]  #not permanent method"
   ]
  },
  {
   "cell_type": "code",
   "execution_count": 26,
   "id": "36723d95",
   "metadata": {},
   "outputs": [
    {
     "name": "stdout",
     "output_type": "stream",
     "text": [
      "3\n",
      "6\n",
      "5\n",
      "9\n"
     ]
    }
   ],
   "source": [
    "#array with 2-D\n",
    "import numpy as np\n",
    "\n",
    "arr=np.array([[1,2,3],[5,6,7],[8,9,10]])\n",
    "\n",
    "print(arr[0,2])\n",
    "print(arr[1,1])\n",
    "print(arr[1,0])\n",
    "print(arr[2,1])"
   ]
  },
  {
   "cell_type": "code",
   "execution_count": 27,
   "id": "378d2a0c",
   "metadata": {},
   "outputs": [
    {
     "name": "stdout",
     "output_type": "stream",
     "text": [
      "5\n",
      "400\n",
      "13\n"
     ]
    }
   ],
   "source": [
    "#array with 3-D\n",
    "import numpy as np\n",
    "\n",
    "arr=np.array(\n",
    "    [\n",
    "        [[1,2,3],[4,5,6]],\n",
    "        [[10,20,30],[12,13,14]],\n",
    "        [[100,200,300],[400,500,600]]\n",
    "    ]\n",
    ")\n",
    "\n",
    "print(arr[0,1,1])\n",
    "print(arr[2,1,0])\n",
    "print(arr[1,1,1])"
   ]
  },
  {
   "cell_type": "markdown",
   "id": "10c38bd0",
   "metadata": {},
   "source": [
    "# NEGATIVE INDEXING IN ARRAY(right-left)"
   ]
  },
  {
   "cell_type": "code",
   "execution_count": 28,
   "id": "04d716d8",
   "metadata": {},
   "outputs": [
    {
     "name": "stdout",
     "output_type": "stream",
     "text": [
      "6\n",
      "7\n",
      "1\n"
     ]
    }
   ],
   "source": [
    "#array with 1-D\n",
    "import numpy as np\n",
    "\n",
    "arr=np.array([1,2,3,4,5,6,7])\n",
    "\n",
    "print(arr[-2])\n",
    "print(arr[-1])\n",
    "print(arr[-7])"
   ]
  },
  {
   "cell_type": "code",
   "execution_count": 29,
   "id": "aeccd7bc",
   "metadata": {},
   "outputs": [
    {
     "name": "stdout",
     "output_type": "stream",
     "text": [
      "5\n",
      "3\n"
     ]
    }
   ],
   "source": [
    "#array with 2-D\n",
    "import numpy as np\n",
    "\n",
    "arr=np.array([[1,2,3],[4,5,6]])\n",
    "\n",
    "print(arr[-1,-2])\n",
    "print(arr[-2,-1])"
   ]
  },
  {
   "cell_type": "code",
   "execution_count": 30,
   "id": "eae4f35d",
   "metadata": {},
   "outputs": [
    {
     "name": "stdout",
     "output_type": "stream",
     "text": [
      "11\n",
      "5\n"
     ]
    }
   ],
   "source": [
    "#array with 3-D\n",
    "import numpy as np\n",
    "\n",
    "arr=np.array(\n",
    "    [\n",
    "        [[1,2,3],[5,6,7]],\n",
    "        [[12,13,14],[11,10,49]]\n",
    "    ]\n",
    "\n",
    ")\n",
    "\n",
    "print(arr[-1,-1,-3])\n",
    "print(arr[-2,-1,-3])"
   ]
  },
  {
   "cell_type": "markdown",
   "id": "0f23831a",
   "metadata": {},
   "source": [
    "# MIXING OF (+ AND -)"
   ]
  },
  {
   "cell_type": "code",
   "execution_count": 31,
   "id": "1f1238aa",
   "metadata": {},
   "outputs": [
    {
     "name": "stdout",
     "output_type": "stream",
     "text": [
      "7\n",
      "7\n",
      "44\n",
      "45\n"
     ]
    }
   ],
   "source": [
    "import numpy as np\n",
    "\n",
    "arr=np.array(\n",
    "    [\n",
    "        [[2,3,4],[5,6,7]],\n",
    "        [[10,2,4],[6,7,29]],\n",
    "        [[22,11,14],[23,45,44]]\n",
    "    ]\n",
    ")\n",
    "\n",
    "print(arr[1,1,1])\n",
    "print(arr[-2,-1,-2])\n",
    "print(arr[2,-1,2])\n",
    "print(arr[-1,1,-2])"
   ]
  },
  {
   "cell_type": "markdown",
   "id": "b2c408da",
   "metadata": {},
   "source": [
    "# NUMPY ARRAY SLICING "
   ]
  },
  {
   "cell_type": "markdown",
   "id": "970c50ef",
   "metadata": {},
   "source": [
    "### slice elements from index 1 to index 5 from following array:"
   ]
  },
  {
   "cell_type": "code",
   "execution_count": 32,
   "id": "9a2e5091",
   "metadata": {},
   "outputs": [
    {
     "name": "stdout",
     "output_type": "stream",
     "text": [
      "[2 3 4 5]\n"
     ]
    }
   ],
   "source": [
    "import numpy as np\n",
    "\n",
    "arr = np.array([1,2,3,4,5,6,7])\n",
    "\n",
    "print(arr[1:5])"
   ]
  },
  {
   "cell_type": "markdown",
   "id": "1f4432c2",
   "metadata": {},
   "source": [
    "### slice elements from index 4 to the end of the array"
   ]
  },
  {
   "cell_type": "code",
   "execution_count": 33,
   "id": "635ebc3d",
   "metadata": {},
   "outputs": [
    {
     "name": "stdout",
     "output_type": "stream",
     "text": [
      "[5 6 7 8 9]\n"
     ]
    }
   ],
   "source": [
    "import numpy as np\n",
    "\n",
    "arr=np.array([1,2,3,4,5,6,7,8,9])\n",
    "\n",
    "print(arr[4:])"
   ]
  },
  {
   "cell_type": "markdown",
   "id": "fcbf7b11",
   "metadata": {},
   "source": [
    "### slice elements from the beginning to index 4(not included)"
   ]
  },
  {
   "cell_type": "code",
   "execution_count": 34,
   "id": "850d1bd9",
   "metadata": {},
   "outputs": [
    {
     "name": "stdout",
     "output_type": "stream",
     "text": [
      "[1 2 3 4]\n"
     ]
    }
   ],
   "source": [
    "import numpy as np\n",
    "\n",
    "arr=np.array([1,2,3,4,5,6,7])\n",
    "\n",
    "print(arr[:4])"
   ]
  },
  {
   "cell_type": "markdown",
   "id": "2cd7296f",
   "metadata": {},
   "source": [
    "# NEGATIVE SLICING"
   ]
  },
  {
   "cell_type": "markdown",
   "id": "52de95ea",
   "metadata": {},
   "source": [
    "### slice from the index 3 from the end to index 1 from the end:"
   ]
  },
  {
   "cell_type": "code",
   "execution_count": 35,
   "id": "db3797a2",
   "metadata": {},
   "outputs": [
    {
     "name": "stdout",
     "output_type": "stream",
     "text": [
      "[5 6]\n",
      "[2 3 4 5]\n"
     ]
    }
   ],
   "source": [
    "import numpy as np\n",
    "\n",
    "arr=np.array([1,2,3,4,5,6,7])\n",
    "\n",
    "print(arr[-3:-1])\n",
    "print(arr[-6:-2])"
   ]
  },
  {
   "cell_type": "markdown",
   "id": "f9a6b0f9",
   "metadata": {},
   "source": [
    "### return every other element from index 1 to index 5"
   ]
  },
  {
   "cell_type": "code",
   "execution_count": 36,
   "id": "a169fc0f",
   "metadata": {},
   "outputs": [
    {
     "name": "stdout",
     "output_type": "stream",
     "text": [
      "[2 4]\n"
     ]
    }
   ],
   "source": [
    "import numpy as np\n",
    "\n",
    "arr=np.array([1,2,3,4,5,6,7])\n",
    "\n",
    "print(arr[1:5:2])"
   ]
  },
  {
   "cell_type": "markdown",
   "id": "bb172c3f",
   "metadata": {},
   "source": [
    "### return every other element from the entire array"
   ]
  },
  {
   "cell_type": "code",
   "execution_count": 37,
   "id": "7ca45c25",
   "metadata": {},
   "outputs": [
    {
     "name": "stdout",
     "output_type": "stream",
     "text": [
      "[1 3 5 7]\n"
     ]
    }
   ],
   "source": [
    "import numpy as np\n",
    "\n",
    "arr=np.array([1,2,3,4,5,6,7])\n",
    "\n",
    "print(arr[::2])"
   ]
  },
  {
   "cell_type": "markdown",
   "id": "5afe1215",
   "metadata": {},
   "source": [
    "# SLICING 2-D ARRAYS"
   ]
  },
  {
   "cell_type": "markdown",
   "id": "ff3d7d0b",
   "metadata": {},
   "source": [
    "### from the second element,slice elements from index 1 to index 4(not included)"
   ]
  },
  {
   "cell_type": "code",
   "execution_count": 2,
   "id": "4e97aa31",
   "metadata": {},
   "outputs": [
    {
     "name": "stdout",
     "output_type": "stream",
     "text": [
      "[7 8 9]\n"
     ]
    }
   ],
   "source": [
    "import numpy as np\n",
    "\n",
    "arr=np.array([[1,2,3,4,5],[6,7,8,9,10]])\n",
    "\n",
    "print(arr[1,1:4])"
   ]
  },
  {
   "cell_type": "markdown",
   "id": "b29d5642",
   "metadata": {},
   "source": [
    "### from both arrays, return index 2:"
   ]
  },
  {
   "cell_type": "code",
   "execution_count": 39,
   "id": "6187cd50",
   "metadata": {},
   "outputs": [
    {
     "name": "stdout",
     "output_type": "stream",
     "text": [
      "[3 8]\n"
     ]
    }
   ],
   "source": [
    "import numpy as np\n",
    "\n",
    "arr=np.array([[1,2,3,4,5],[6,7,8,9,10]])\n",
    "\n",
    "print(arr[0:2,2])"
   ]
  },
  {
   "cell_type": "markdown",
   "id": "764007e1",
   "metadata": {},
   "source": [
    "### from both arrays,slice index 1 to index 4(not included), this will return 2-d array"
   ]
  },
  {
   "cell_type": "code",
   "execution_count": 40,
   "id": "96d18d4c",
   "metadata": {},
   "outputs": [
    {
     "name": "stdout",
     "output_type": "stream",
     "text": [
      "[[2 3 4]\n",
      " [7 8 9]]\n"
     ]
    }
   ],
   "source": [
    "import numpy as np\n",
    "\n",
    "arr=np.array([[1,2,3,4,5],[6,7,8,9,10]])\n",
    "\n",
    "print(arr[0:2,1:4])"
   ]
  },
  {
   "cell_type": "markdown",
   "id": "27f25208",
   "metadata": {},
   "source": [
    "# NUMPY ARRAY COPY VS VIEW"
   ]
  },
  {
   "cell_type": "markdown",
   "id": "8155de31",
   "metadata": {},
   "source": [
    "### The copy owns the data and any changes made to the copyed array it will not affect the original array, and any changes made to the original array will not affect the copied array.\n",
    "### The view does not own the data and any changes made to the view will affect the original array and changes made to the original array will affect to the view"
   ]
  },
  {
   "cell_type": "code",
   "execution_count": 41,
   "id": "67952533",
   "metadata": {},
   "outputs": [
    {
     "name": "stdout",
     "output_type": "stream",
     "text": [
      "original array\n",
      "[1 2 3 4 5]\n",
      "affected array\n",
      "[ 1  2 10  4  5]\n",
      "[1 2 3 4 5]\n",
      "affected array\n",
      "[20  2  3  4  5]\n"
     ]
    }
   ],
   "source": [
    "import numpy as np\n",
    "\n",
    "arr = np.array([1,2,3,4,5])\n",
    "a = arr.copy()\n",
    "\n",
    "print(\"original array\")\n",
    "print(arr)\n",
    "\n",
    "print(\"affected array\")\n",
    "arr[2] = 10\n",
    "print(arr)\n",
    "print(a)\n",
    "\n",
    "a[0] = 20\n",
    "print(\"affected array\")\n",
    "print(a)"
   ]
  },
  {
   "cell_type": "code",
   "execution_count": 42,
   "id": "5caf0226",
   "metadata": {},
   "outputs": [
    {
     "name": "stdout",
     "output_type": "stream",
     "text": [
      "original array\n",
      "[1 2 3 4 5]\n",
      "viewed array\n",
      "[1 2 3 4 5]\n",
      "affected array\n",
      "arr :  [30  2  3  4  5]\n",
      " x : [30  2  3  4  5]\n"
     ]
    }
   ],
   "source": [
    "import numpy as np\n",
    "\n",
    "arr = np.array([1,2,3,4,5])\n",
    "x = arr.view()\n",
    "\n",
    "print(\"original array\")\n",
    "print(arr)\n",
    "\n",
    "print(\"viewed array\")\n",
    "print(x)\n",
    "\n",
    "print(\"affected array\")\n",
    "arr[0] = 30\n",
    "\n",
    "print(\"arr : \",arr)\n",
    "print(\" x :\",x)"
   ]
  },
  {
   "cell_type": "markdown",
   "id": "355138a7",
   "metadata": {},
   "source": [
    "# reshape() FUNCTION"
   ]
  },
  {
   "cell_type": "code",
   "execution_count": 43,
   "id": "b3610869",
   "metadata": {},
   "outputs": [
    {
     "name": "stdout",
     "output_type": "stream",
     "text": [
      "original array : [ 1  2  3  4  5  6  7  8  9 10]\n",
      "2D array with shape 5x2\n",
      "[[ 1  2]\n",
      " [ 3  4]\n",
      " [ 5  6]\n",
      " [ 7  8]\n",
      " [ 9 10]]\n",
      "2D array with shape 2x5\n",
      "[[ 1  2  3  4  5]\n",
      " [ 6  7  8  9 10]]\n",
      "3D array with shape 2,1,5\n",
      "[[[ 1  2  3  4  5]]\n",
      "\n",
      " [[ 6  7  8  9 10]]]\n"
     ]
    }
   ],
   "source": [
    "import numpy as np\n",
    "arr=np.array([1,2,3,4,5,6,7,8,9,10])\n",
    "print(\"original array :\",arr) #1d\n",
    "\n",
    "#2D ARRAY\n",
    "b = arr.reshape(5,2) \n",
    "print(\"2D array with shape 5x2\")\n",
    "print(b)\n",
    "\n",
    "c = arr.reshape(2,5) \n",
    "print(\"2D array with shape 2x5\")\n",
    "print(c)\n",
    "\n",
    "#3D ARRAY \n",
    "d = arr.reshape(2,1,5)\n",
    "print(\"3D array with shape 2,1,5\")\n",
    "print(d)"
   ]
  },
  {
   "cell_type": "markdown",
   "id": "f4bcd6fd",
   "metadata": {},
   "source": [
    "# AGGREGATION FUNCTIONS"
   ]
  },
  {
   "cell_type": "markdown",
   "id": "67cacb72",
   "metadata": {},
   "source": [
    "## sum() FUNCTION"
   ]
  },
  {
   "cell_type": "code",
   "execution_count": 44,
   "id": "99739c24",
   "metadata": {},
   "outputs": [
    {
     "name": "stdout",
     "output_type": "stream",
     "text": [
      "original 1D array :  [1 2 3 4 5]\n",
      "sum=15\n",
      "\n",
      "original 2D array :  [[ 1  2  3  4  5]\n",
      " [ 6  7  8  9 10]]\n",
      "sum=55\n",
      "\n",
      "original 3D array :  [[[ 1  2  3]\n",
      "  [ 4  5  6]]\n",
      "\n",
      " [[10 20 30]\n",
      "  [40 50 60]]]\n",
      "sum=231\n"
     ]
    }
   ],
   "source": [
    "import numpy as np\n",
    "\n",
    "arr=np.array([1,2,3,4,5]) #1D\n",
    "\n",
    "print(\"original 1D array : \",arr)\n",
    "print(f\"sum={np.sum(arr)}\")\n",
    "print()\n",
    "\n",
    "arr1=np.array([[1,2,3,4,5],[6,7,8,9,10]])\n",
    "print(\"original 2D array : \",arr1)\n",
    "print(f\"sum={np.sum(arr1)}\")\n",
    "print()\n",
    "\n",
    "arr2=np.array(\n",
    "              [\n",
    "               [[1,2,3],[4,5,6]],\n",
    "               [[10,20,30],[40,50,60]]    \n",
    "              ]\n",
    "             )\n",
    "print(\"original 3D array : \",arr2)\n",
    "print(f\"sum={np.sum(arr2)}\")"
   ]
  },
  {
   "cell_type": "code",
   "execution_count": 45,
   "id": "58276142",
   "metadata": {},
   "outputs": [
    {
     "name": "stdout",
     "output_type": "stream",
     "text": [
      "original array \n",
      ": [[1 2 3 4]\n",
      " [5 6 7 8]]\n",
      "Across Colswise\n",
      "sum = [ 6  8 10 12]\n",
      "Across Rowswise\n",
      "sum = [10 26]\n"
     ]
    }
   ],
   "source": [
    "#np.sum(array_name , axiws =0 or 1)\n",
    "import numpy as np\n",
    "arr = np.array([[1,2,3,4],[5,6,7,8]])\n",
    "print(\"original array \\n:\",arr)\n",
    "\n",
    "print(\"Across Colswise\") #column wise\n",
    "print(\"sum =\",np.sum(arr , axis=0))\n",
    "\n",
    "print(\"Across Rowswise\") #Row wise\n",
    "print(\"sum =\",np.sum(arr , axis=1))"
   ]
  },
  {
   "cell_type": "markdown",
   "id": "a812d972",
   "metadata": {},
   "source": [
    "## mean() FUNCTION"
   ]
  },
  {
   "cell_type": "code",
   "execution_count": 46,
   "id": "4402ce8d",
   "metadata": {},
   "outputs": [
    {
     "name": "stdout",
     "output_type": "stream",
     "text": [
      "original array :  [1 2 3 4 5 6 7 8]\n",
      "mean :  4.5\n"
     ]
    }
   ],
   "source": [
    "import numpy as np\n",
    "\n",
    "arr = np.array([1,2,3,4,5,6,7,8])\n",
    "\n",
    "print(\"original array : \",arr)\n",
    "print(\"mean : \",np.mean(arr)) "
   ]
  },
  {
   "cell_type": "code",
   "execution_count": 47,
   "id": "b70232c9",
   "metadata": {},
   "outputs": [
    {
     "name": "stdout",
     "output_type": "stream",
     "text": [
      "original array \n",
      ":  [[1 2 3 4]\n",
      " [5 6 7 8]]\n",
      "Across Rows\n",
      "Mean = [3. 4. 5. 6.]\n",
      "Across Columns\n",
      "Mean = [2.5 6.5]\n"
     ]
    }
   ],
   "source": [
    "import numpy as np\n",
    "arr = np.array([[1,2,3,4],[5,6,7,8]])\n",
    "print(\"original array \\n: \",arr)\n",
    "\n",
    "print(\"Across Rows\") #column wise\n",
    "print(\"Mean =\",np.mean(arr , axis=0))\n",
    "\n",
    "print(\"Across Columns\") #Row wise\n",
    "print(\"Mean =\",np.mean(arr , axis=1))"
   ]
  },
  {
   "cell_type": "markdown",
   "id": "b615f4a1",
   "metadata": {},
   "source": [
    "## std() FUNCTION"
   ]
  },
  {
   "cell_type": "code",
   "execution_count": 48,
   "id": "4399399f",
   "metadata": {},
   "outputs": [
    {
     "name": "stdout",
     "output_type": "stream",
     "text": [
      "original array :  [[1 2 3 4]\n",
      " [5 6 7 8]]\n",
      "\n",
      "standard div :  2.29128784747792\n"
     ]
    }
   ],
   "source": [
    "import numpy as np\n",
    "arr = np.array([[1,2,3,4],[5,6,7,8]])\n",
    "print(\"original array : \",arr)\n",
    "print()\n",
    "print(\"standard div : \",np.std(arr)) "
   ]
  },
  {
   "cell_type": "code",
   "execution_count": 49,
   "id": "a80427cc",
   "metadata": {},
   "outputs": [
    {
     "name": "stdout",
     "output_type": "stream",
     "text": [
      "original array :  [[1 2 3 4]\n",
      " [5 6 7 8]]\n",
      "Across Rows\n",
      "std div = [2. 2. 2. 2.]\n",
      "\n",
      "Across Columns\n",
      "std div = [1.11803399 1.11803399]\n"
     ]
    }
   ],
   "source": [
    "import numpy as np\n",
    "arr = np.array([[1,2,3,4],[5,6,7,8]])\n",
    "print(\"original array : \",arr)\n",
    "\n",
    "print(\"Across Rows\") #column wise\n",
    "print(\"std div =\",np.std(arr , axis=0))\n",
    "print()\n",
    "print(\"Across Columns\") #Row wise\n",
    "print(\"std div =\",np.std(arr , axis=1))"
   ]
  },
  {
   "cell_type": "markdown",
   "id": "1eecfdcd",
   "metadata": {},
   "source": [
    "## var() FUNCTION"
   ]
  },
  {
   "cell_type": "code",
   "execution_count": 50,
   "id": "68b0c700",
   "metadata": {},
   "outputs": [
    {
     "name": "stdout",
     "output_type": "stream",
     "text": [
      "original array :  [[1 2 3 4]\n",
      " [5 6 7 8]]\n",
      "\n",
      "varients :  5.25\n"
     ]
    }
   ],
   "source": [
    "import numpy as np\n",
    "arr = np.array([[1,2,3,4],[5,6,7,8]])\n",
    "print(\"original array : \",arr)\n",
    "print()\n",
    "print(\"varients : \",np.var(arr)) "
   ]
  },
  {
   "cell_type": "code",
   "execution_count": 51,
   "id": "7dada8a6",
   "metadata": {},
   "outputs": [
    {
     "name": "stdout",
     "output_type": "stream",
     "text": [
      "original array :  [[1 2 3 4]\n",
      " [5 6 7 8]]\n",
      "Across Rows\n",
      "var = [4. 4. 4. 4.]\n",
      "\n",
      "Across Columns\n",
      "var = [1.25 1.25]\n"
     ]
    }
   ],
   "source": [
    "import numpy as np\n",
    "arr = np.array([[1,2,3,4],[5,6,7,8]])\n",
    "print(\"original array : \",arr)\n",
    "\n",
    "print(\"Across Rows\") #column wise\n",
    "print(\"var =\",np.var(arr , axis=0))\n",
    "print()\n",
    "print(\"Across Columns\") #Row wise\n",
    "print(\"var =\",np.var(arr , axis=1))"
   ]
  },
  {
   "cell_type": "markdown",
   "id": "623c0393",
   "metadata": {},
   "source": [
    "## min() FUNCTION"
   ]
  },
  {
   "cell_type": "code",
   "execution_count": 52,
   "id": "1cb23681",
   "metadata": {},
   "outputs": [
    {
     "name": "stdout",
     "output_type": "stream",
     "text": [
      "original array :  [[1 2 3 4]\n",
      " [5 6 7 8]]\n",
      "\n",
      "minimum :  1\n"
     ]
    }
   ],
   "source": [
    "import numpy as np\n",
    "arr = np.array([[1,2,3,4],[5,6,7,8]])\n",
    "print(\"original array : \",arr)\n",
    "print()\n",
    "print(\"minimum : \",np.min(arr)) "
   ]
  },
  {
   "cell_type": "code",
   "execution_count": 53,
   "id": "51e77acd",
   "metadata": {},
   "outputs": [
    {
     "name": "stdout",
     "output_type": "stream",
     "text": [
      "original array :  [[1 2 3 4]\n",
      " [5 6 7 8]]\n",
      "Across Rows\n",
      "min = [1 2 3 4]\n",
      "\n",
      "Across Columns\n",
      "min = [1 5]\n"
     ]
    }
   ],
   "source": [
    "import numpy as np\n",
    "arr = np.array([[1,2,3,4],[5,6,7,8]])\n",
    "print(\"original array : \",arr)\n",
    "\n",
    "print(\"Across Rows\") #column wise\n",
    "print(\"min =\",np.min(arr , axis=0))\n",
    "print()\n",
    "print(\"Across Columns\") #Row wise\n",
    "print(\"min =\",np.min(arr , axis=1))"
   ]
  },
  {
   "cell_type": "markdown",
   "id": "f9d83c16",
   "metadata": {},
   "source": [
    "## max() FUNCTION"
   ]
  },
  {
   "cell_type": "code",
   "execution_count": 54,
   "id": "c192bfaf",
   "metadata": {},
   "outputs": [
    {
     "name": "stdout",
     "output_type": "stream",
     "text": [
      "original array :  [[1 2 3 4]\n",
      " [5 6 7 8]]\n",
      "\n",
      "maximum :  8\n"
     ]
    }
   ],
   "source": [
    "import numpy as np\n",
    "\n",
    "arr = np.array([[1,2,3,4],[5,6,7,8]])\n",
    "\n",
    "print(\"original array : \",arr)\n",
    "print()\n",
    "print(\"maximum : \",np.max(arr)) "
   ]
  },
  {
   "cell_type": "code",
   "execution_count": 55,
   "id": "04cf86e3",
   "metadata": {},
   "outputs": [
    {
     "name": "stdout",
     "output_type": "stream",
     "text": [
      "original array :  [[1 2 3 4]\n",
      " [5 6 7 8]]\n",
      "Across Rows\n",
      "max = [5 6 7 8]\n",
      "Across Columns\n",
      "max = [4 8]\n"
     ]
    }
   ],
   "source": [
    "import numpy as np\n",
    "\n",
    "arr = np.array([[1,2,3,4],[5,6,7,8]])\n",
    "\n",
    "print(\"original array : \",arr)\n",
    "print(\"Across Rows\") #column wise\n",
    "print(\"max =\",np.max(arr , axis=0))\n",
    "print(\"Across Columns\") #Row wise\n",
    "print(\"max =\",np.max(arr , axis=1))"
   ]
  }
 ],
 "metadata": {
  "kernelspec": {
   "display_name": "Python 3 (ipykernel)",
   "language": "python",
   "name": "python3"
  },
  "language_info": {
   "codemirror_mode": {
    "name": "ipython",
    "version": 3
   },
   "file_extension": ".py",
   "mimetype": "text/x-python",
   "name": "python",
   "nbconvert_exporter": "python",
   "pygments_lexer": "ipython3",
   "version": "3.9.12"
  }
 },
 "nbformat": 4,
 "nbformat_minor": 5
}
