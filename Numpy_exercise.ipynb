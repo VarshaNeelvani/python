{
 "cells": [
  {
   "cell_type": "markdown",
   "id": "e6425cc7",
   "metadata": {},
   "source": [
    "# Lee decides to walk 10000 steps everyday to combat the effect that lockdown has had on his body's agility, mobility, flexibility and strength. Consider the following data from fitness tracker over a period of 10 days."
   ]
  },
  {
   "cell_type": "markdown",
   "id": "7610b974",
   "metadata": {},
   "source": [
    "## Represent the above data in a 10x2 array. In each row, the first element should contain a day number and second element should contain steps walked."
   ]
  },
  {
   "cell_type": "code",
   "execution_count": 2,
   "id": "f136960d",
   "metadata": {},
   "outputs": [
    {
     "data": {
      "text/plain": [
       "array([[   1, 6012],\n",
       "       [   2, 7079],\n",
       "       [   3, 6886],\n",
       "       [   4, 7230],\n",
       "       [   5, 4598],\n",
       "       [   6, 5564],\n",
       "       [   7, 6971],\n",
       "       [   8, 7763],\n",
       "       [   9, 8032],\n",
       "       [  10, 9569]])"
      ]
     },
     "execution_count": 2,
     "metadata": {},
     "output_type": "execute_result"
    }
   ],
   "source": [
    "import numpy as np\n",
    "#Creating a 2D array\n",
    "Day_number = np.arange(1, 11)\n",
    "Steps_walked = [6012, 7079, 6886, 7230, 4598, 5564, 6971, 7763, 8032, 9569]\n",
    "arr = np.array([Day_number, Steps_walked])\n",
    "arr = arr.T\n",
    "arr"
   ]
  },
  {
   "cell_type": "markdown",
   "id": "7cf0758c",
   "metadata": {},
   "source": [
    "## Lee notices that the tracker's battery dies every day at 7 pm. Lee discovers that on an average, he walks 2000 steps every day after 7 pm. Perform an appropriate operation on your array to add 2000 steps to all the observations."
   ]
  },
  {
   "cell_type": "code",
   "execution_count": 3,
   "id": "64879133",
   "metadata": {},
   "outputs": [
    {
     "data": {
      "text/plain": [
       "array([[    1,  8012],\n",
       "       [    2,  9079],\n",
       "       [    3,  8886],\n",
       "       [    4,  9230],\n",
       "       [    5,  6598],\n",
       "       [    6,  7564],\n",
       "       [    7,  8971],\n",
       "       [    8,  9763],\n",
       "       [    9, 10032],\n",
       "       [   10, 11569]])"
      ]
     },
     "execution_count": 3,
     "metadata": {},
     "output_type": "execute_result"
    }
   ],
   "source": [
    "new_arr = arr[:,1] + 2000\n",
    "arr[:,1] = new_arr\n",
    "arr"
   ]
  },
  {
   "cell_type": "markdown",
   "id": "0b7d0e91",
   "metadata": {},
   "source": [
    "## Write a program that returns the steps walked if the steps walked are more than 9000."
   ]
  },
  {
   "cell_type": "code",
   "execution_count": 4,
   "id": "25f871c2",
   "metadata": {},
   "outputs": [
    {
     "data": {
      "text/plain": [
       "array([[    2,  9079],\n",
       "       [    4,  9230],\n",
       "       [    8,  9763],\n",
       "       [    9, 10032],\n",
       "       [   10, 11569]])"
      ]
     },
     "execution_count": 4,
     "metadata": {},
     "output_type": "execute_result"
    }
   ],
   "source": [
    "matched = arr[:,1] > 9000\n",
    "matched \n",
    "new_arr = arr[matched]\n",
    "new_arr"
   ]
  },
  {
   "cell_type": "markdown",
   "id": "e1340fa1",
   "metadata": {},
   "source": [
    "## Print an array containing steps walked in sorted order."
   ]
  },
  {
   "cell_type": "code",
   "execution_count": 5,
   "id": "4fbf6cab",
   "metadata": {},
   "outputs": [
    {
     "name": "stdout",
     "output_type": "stream",
     "text": [
      "Sorted 2D Numpy Array\n",
      "[[    5  6598]\n",
      " [    6  7564]\n",
      " [    1  8012]\n",
      " [    3  8886]\n",
      " [    7  8971]\n",
      " [    2  9079]\n",
      " [    4  9230]\n",
      " [    8  9763]\n",
      " [    9 10032]\n",
      " [   10 11569]]\n"
     ]
    }
   ],
   "source": [
    "sortedArr = arr[arr[:,1].argsort()]\n",
    "print('Sorted 2D Numpy Array')\n",
    "print(sortedArr)"
   ]
  }
 ],
 "metadata": {
  "kernelspec": {
   "display_name": "Python 3 (ipykernel)",
   "language": "python",
   "name": "python3"
  },
  "language_info": {
   "codemirror_mode": {
    "name": "ipython",
    "version": 3
   },
   "file_extension": ".py",
   "mimetype": "text/x-python",
   "name": "python",
   "nbconvert_exporter": "python",
   "pygments_lexer": "ipython3",
   "version": "3.9.12"
  }
 },
 "nbformat": 4,
 "nbformat_minor": 5
}
