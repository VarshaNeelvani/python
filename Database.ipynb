{
 "cells": [
  {
   "cell_type": "markdown",
   "id": "5a6ce588",
   "metadata": {},
   "source": [
    "# Installing MySQL Connector"
   ]
  },
  {
   "cell_type": "code",
   "execution_count": 2,
   "id": "9bc9b036",
   "metadata": {
    "scrolled": true
   },
   "outputs": [
    {
     "name": "stdout",
     "output_type": "stream",
     "text": [
      "Collecting mysql-connector-python\n",
      "  Downloading mysql_connector_python-8.0.31-cp39-cp39-win_amd64.whl (7.9 MB)\n",
      "Requirement already satisfied: protobuf<=3.20.1,>=3.11.0 in c:\\users\\cs-l1-pc13\\anaconda3\\lib\\site-packages (from mysql-connector-python) (3.19.1)\n",
      "Installing collected packages: mysql-connector-python\n",
      "Successfully installed mysql-connector-python-8.0.31\n",
      "Collecting mysql-connector-python\n",
      "  Using cached mysql_connector_python-8.0.31-cp39-cp39-win_amd64.whl (7.9 MB)\n",
      "Requirement already satisfied: protobuf<=3.20.1,>=3.11.0 in c:\\users\\cs-l1-pc13\\anaconda3\\lib\\site-packages (from mysql-connector-python) (3.19.1)\n",
      "Installing collected packages: mysql-connector-python\n",
      "Successfully installed mysql-connector-python-8.0.31\n"
     ]
    }
   ],
   "source": [
    "!python -m pip install mysql-connector-python"
   ]
  },
  {
   "cell_type": "markdown",
   "id": "ec39106c",
   "metadata": {},
   "source": [
    "# Import MySQL Connector"
   ]
  },
  {
   "cell_type": "code",
   "execution_count": 3,
   "id": "ea626a4c",
   "metadata": {},
   "outputs": [],
   "source": [
    "import mysql.connector as con"
   ]
  },
  {
   "cell_type": "markdown",
   "id": "b0669f36",
   "metadata": {},
   "source": [
    "# Connection to DATABASE"
   ]
  },
  {
   "cell_type": "code",
   "execution_count": 6,
   "id": "79ed7aaa",
   "metadata": {},
   "outputs": [
    {
     "name": "stdout",
     "output_type": "stream",
     "text": [
      "<mysql.connector.connection_cext.CMySQLConnection object at 0x000001BB3BDD6130>\n"
     ]
    }
   ],
   "source": [
    "import mysql.connector as con\n",
    "new_db = con.connect(\n",
    "    host = \"localhost\",\n",
    "    user = \"root\",\n",
    "    password = \"tiger\"\n",
    ")\n",
    "print(new_db)"
   ]
  },
  {
   "cell_type": "markdown",
   "id": "c8e5bb8e",
   "metadata": {},
   "source": [
    "# Creating a DataBase"
   ]
  },
  {
   "cell_type": "code",
   "execution_count": 7,
   "id": "ad9e019d",
   "metadata": {},
   "outputs": [],
   "source": [
    "import mysql.connector as con\n",
    "new_db = con.connect(\n",
    "    host = \"localhost\",\n",
    "    user = \"root\", \n",
    "    password = \"tiger\"\n",
    ")\n",
    "new_cursor = new_db.cursor()\n",
    "new_cursor.execute(\"CREATE DATABASE yourData\")"
   ]
  },
  {
   "cell_type": "markdown",
   "id": "9413bc82",
   "metadata": {},
   "source": [
    "# Check if database exists (created)"
   ]
  },
  {
   "cell_type": "code",
   "execution_count": 8,
   "id": "8629b948",
   "metadata": {},
   "outputs": [
    {
     "name": "stdout",
     "output_type": "stream",
     "text": [
      "('information_schema',)\n",
      "('mydata',)\n",
      "('mysql',)\n",
      "('performance_schema',)\n",
      "('sys',)\n",
      "('yourdata',)\n"
     ]
    }
   ],
   "source": [
    "import mysql.connector as con\n",
    "new_db = con.connect(\n",
    "    host = \"localhost\",\n",
    "    user = \"root\", \n",
    "    password = \"tiger\"\n",
    ")\n",
    "new_cursor = new_db.cursor()\n",
    "new_cursor.execute(\"SHOW DATABASES\")\n",
    "for n in new_cursor:\n",
    "    print(n)"
   ]
  },
  {
   "cell_type": "code",
   "execution_count": 16,
   "id": "8d7c545d",
   "metadata": {},
   "outputs": [],
   "source": [
    "import mysql.connector as con\n",
    "new_db = con.connect(\n",
    "    host = \"localhost\",\n",
    "    user = \"root\", \n",
    "    password = \"tiger\"\n",
    ")\n",
    "new_cursor = new_db.cursor()\n",
    "new_cursor.execute(\"USE yourdata\")"
   ]
  },
  {
   "cell_type": "markdown",
   "id": "1f1353bb",
   "metadata": {},
   "source": [
    "# Creating Tables and showing Data"
   ]
  },
  {
   "cell_type": "code",
   "execution_count": 18,
   "id": "2b2d8d4c",
   "metadata": {},
   "outputs": [],
   "source": [
    "import mysql.connector as con\n",
    "new_db = con.connect(\n",
    "    host = \"localhost\",\n",
    "    user = \"root\", \n",
    "    password = \"tiger\",\n",
    "    database = \"yourdata\"\n",
    ")\n",
    "new_cursor = new_db.cursor()\n",
    "new_cursor.execute(\"CREATE TABLE student (name VARCHAR(200), regno VARCHAR(10))\")"
   ]
  },
  {
   "cell_type": "markdown",
   "id": "017d1c22",
   "metadata": {},
   "source": [
    "# List all Tables in new database"
   ]
  },
  {
   "cell_type": "code",
   "execution_count": 20,
   "id": "5763ac76",
   "metadata": {},
   "outputs": [
    {
     "name": "stdout",
     "output_type": "stream",
     "text": [
      "('student',)\n"
     ]
    }
   ],
   "source": [
    "import mysql.connector as con\n",
    "new_db = con.connect(\n",
    "    host = \"localhost\",\n",
    "    user = \"root\", \n",
    "    password = \"tiger\",\n",
    "    database = \"yourdata\"\n",
    ")\n",
    "new_cursor = new_db.cursor()\n",
    "new_cursor.execute(\"SHOW TABLES\")\n",
    "for n in new_cursor:\n",
    "    print(n)"
   ]
  },
  {
   "cell_type": "markdown",
   "id": "eef0c9fe",
   "metadata": {},
   "source": [
    "# Add primary key when creating table"
   ]
  },
  {
   "cell_type": "code",
   "execution_count": 23,
   "id": "e8c2d61c",
   "metadata": {},
   "outputs": [],
   "source": [
    "import mysql.connector as con\n",
    "new_db = con.connect(\n",
    "    host = \"localhost\",\n",
    "    user = \"root\", \n",
    "    password = \"tiger\",\n",
    "    database = \"yourdata\"\n",
    ")\n",
    "new_cursor = new_db.cursor()\n",
    "new_cursor.execute(\"CREATE TABLE students (rollno INT AUTO_INCREMENT PRIMARY KEY, name VARCHAR(200), regno VARCHAR(10))\")"
   ]
  },
  {
   "cell_type": "markdown",
   "id": "780060ca",
   "metadata": {},
   "source": [
    "# Add primary key if table already exists"
   ]
  },
  {
   "cell_type": "code",
   "execution_count": 24,
   "id": "7a8a3646",
   "metadata": {},
   "outputs": [],
   "source": [
    "import mysql.connector as con\n",
    "new_db = con.connect(\n",
    "    host = \"localhost\",\n",
    "    user = \"root\", \n",
    "    password = \"tiger\",\n",
    "    database = \"yourdata\"\n",
    ")\n",
    "new_cursor = new_db.cursor()\n",
    "new_cursor.execute(\"ALTER TABLE student ADD COLUMN rollno INT AUTO_INCREMENT PRIMARY KEY\")"
   ]
  },
  {
   "cell_type": "markdown",
   "id": "3ac91e6e",
   "metadata": {},
   "source": [
    "# Inserting data into Tables"
   ]
  },
  {
   "cell_type": "code",
   "execution_count": 26,
   "id": "9f603662",
   "metadata": {},
   "outputs": [
    {
     "name": "stdout",
     "output_type": "stream",
     "text": [
      "1 new record inserted\n"
     ]
    }
   ],
   "source": [
    "import mysql.connector as con\n",
    "new_db = con.connect(\n",
    "    host = \"localhost\",\n",
    "    user = \"root\", \n",
    "    password = \"tiger\",\n",
    "    database = \"yourdata\"\n",
    ")\n",
    "new_cursor = new_db.cursor()\n",
    "sql = \"INSERT INTO student (name, regno) VALUES (%s, %s)\"\n",
    "values = (\"Aarohi\", \"2001\")\n",
    "new_cursor.execute(sql, values)\n",
    "new_db.commit()\n",
    "print(new_cursor.rowcount, \"new record inserted\")"
   ]
  },
  {
   "cell_type": "markdown",
   "id": "89db1f59",
   "metadata": {},
   "source": [
    "# Inserting multiple records into table"
   ]
  },
  {
   "cell_type": "code",
   "execution_count": 27,
   "id": "d476eb3d",
   "metadata": {},
   "outputs": [
    {
     "name": "stdout",
     "output_type": "stream",
     "text": [
      "3 new record inserted\n"
     ]
    }
   ],
   "source": [
    "import mysql.connector as con\n",
    "new_db = con.connect(\n",
    "    host = \"localhost\",\n",
    "    user = \"root\", \n",
    "    password = \"tiger\",\n",
    "    database = \"yourdata\"\n",
    ")\n",
    "new_cursor = new_db.cursor()\n",
    "sql = \"INSERT INTO student (name, regno) VALUES (%s, %s)\"\n",
    "values = [(\"Amyra\", \"2002\"),\n",
    "         (\"Neil\", \"2003\"),\n",
    "         (\"Nitesh\", \"2004\")]\n",
    "new_cursor.executemany(sql,values)\n",
    "new_db.commit()\n",
    "print(new_cursor.rowcount, \"new record inserted\")"
   ]
  },
  {
   "cell_type": "markdown",
   "id": "4f421b4f",
   "metadata": {},
   "source": [
    "# Retrieve data from Table"
   ]
  },
  {
   "cell_type": "code",
   "execution_count": 4,
   "id": "6c00df0f",
   "metadata": {},
   "outputs": [
    {
     "name": "stdout",
     "output_type": "stream",
     "text": [
      "('Aarohi', '2001', 1)\n",
      "('Amyra', '2002', 2)\n",
      "('Neil', '2003', 3)\n",
      "('Nitesh', '2004', 4)\n",
      "('Varsha', '2005', 5)\n"
     ]
    }
   ],
   "source": [
    "import mysql.connector as con\n",
    "my_db = con.connect(\n",
    "    host = \"localhost\",\n",
    "    user = \"root\",\n",
    "    password = \"tiger\",\n",
    "    database = \"yourdata\"\n",
    ")\n",
    "new_cursor = my_db.cursor()\n",
    "sql = \"SELECT * FROM student\"\n",
    "new_cursor.execute(sql)\n",
    "result = new_cursor.fetchall()\n",
    "for x in result:\n",
    "    print(x)"
   ]
  },
  {
   "cell_type": "markdown",
   "id": "fb58f91c",
   "metadata": {},
   "source": [
    "# Retrieve particular data from table"
   ]
  },
  {
   "cell_type": "code",
   "execution_count": 29,
   "id": "49d65848",
   "metadata": {},
   "outputs": [
    {
     "name": "stdout",
     "output_type": "stream",
     "text": [
      "('Aarohi',)\n",
      "('Amyra',)\n",
      "('Neil',)\n",
      "('Nitesh',)\n"
     ]
    }
   ],
   "source": [
    "import mysql.connector as con\n",
    "my_db = con.connect(\n",
    "    host = \"localhost\",\n",
    "    user = \"root\",\n",
    "    password = \"tiger\",\n",
    "    database = \"yourdata\"\n",
    ")\n",
    "new_cursor = my_db.cursor()\n",
    "sql = \"SELECT name FROM student\"\n",
    "new_cursor.execute(sql)\n",
    "result = new_cursor.fetchall()\n",
    "for x in result:\n",
    "    print(x)"
   ]
  },
  {
   "cell_type": "markdown",
   "id": "5a36733c",
   "metadata": {},
   "source": [
    "# Retrieve first record from table"
   ]
  },
  {
   "cell_type": "code",
   "execution_count": 30,
   "id": "0d0bb7b3",
   "metadata": {},
   "outputs": [
    {
     "name": "stdout",
     "output_type": "stream",
     "text": [
      "('Aarohi', '2001', 1)\n"
     ]
    }
   ],
   "source": [
    "import mysql.connector as con\n",
    "my_db = con.connect(\n",
    "    host = \"localhost\",\n",
    "    user = \"root\",\n",
    "    password = \"tiger\",\n",
    "    database = \"yourdata\"\n",
    ")\n",
    "new_cursor = my_db.cursor()\n",
    "sql = \"SELECT * FROM student\"\n",
    "new_cursor.execute(sql)\n",
    "result = new_cursor.fetchone()\n",
    "print(result)"
   ]
  },
  {
   "cell_type": "markdown",
   "id": "aeedb762",
   "metadata": {},
   "source": [
    "# Filter the records"
   ]
  },
  {
   "cell_type": "code",
   "execution_count": 31,
   "id": "0fbb02be",
   "metadata": {},
   "outputs": [
    {
     "name": "stdout",
     "output_type": "stream",
     "text": [
      "('Neil', '2003', 3)\n"
     ]
    }
   ],
   "source": [
    "import mysql.connector as con\n",
    "my_db = con.connect(\n",
    "    host = \"localhost\",\n",
    "    user = \"root\",\n",
    "    password = \"tiger\",\n",
    "    database = \"yourdata\"\n",
    ")\n",
    "new_cursor = my_db.cursor()\n",
    "sql = \"SELECT * FROM student WHERE name = 'Neil'\"\n",
    "new_cursor.execute(sql)\n",
    "result = new_cursor.fetchall()\n",
    "for x in result:\n",
    "    print(x)"
   ]
  },
  {
   "cell_type": "markdown",
   "id": "3c144fdb",
   "metadata": {},
   "source": [
    "# Retrieve records using wildcard character"
   ]
  },
  {
   "cell_type": "code",
   "execution_count": 38,
   "id": "5b0a0157",
   "metadata": {},
   "outputs": [
    {
     "name": "stdout",
     "output_type": "stream",
     "text": [
      "('Aarohi', '2001', 1)\n",
      "('Amyra', '2002', 2)\n",
      "('Neil', '2003', 3)\n",
      "('Nitesh', '2004', 9)\n"
     ]
    }
   ],
   "source": [
    "import mysql.connector as con\n",
    "my_db = con.connect(\n",
    "    host = \"localhost\",\n",
    "    user = \"root\",\n",
    "    password = \"tiger\",\n",
    "    database = \"yourdata\"\n",
    ")\n",
    "new_cursor = my_db.cursor()\n",
    "sql = \"SELECT * FROM student WHERE regno LIKE '%00%'\"\n",
    "new_cursor.execute(sql)\n",
    "result = new_cursor.fetchall()\n",
    "for x in result:\n",
    "    print(x)"
   ]
  },
  {
   "cell_type": "markdown",
   "id": "b13e1780",
   "metadata": {},
   "source": [
    "# Sorting the Records"
   ]
  },
  {
   "cell_type": "code",
   "execution_count": 36,
   "id": "f2449a3c",
   "metadata": {},
   "outputs": [
    {
     "name": "stdout",
     "output_type": "stream",
     "text": [
      "('Nitesh', '2004', 4)\n",
      "('Neil', '2003', 3)\n",
      "('Amyra', '2002', 2)\n",
      "('Aarohi', '2001', 1)\n"
     ]
    }
   ],
   "source": [
    "import mysql.connector as con\n",
    "my_db = con.connect(\n",
    "    host = \"localhost\",\n",
    "    user = \"root\",\n",
    "    password = \"tiger\",\n",
    "    database = \"yourdata\"\n",
    ")\n",
    "new_cursor = my_db.cursor()\n",
    "sql = \"SELECT * FROM student ORDER BY name DESC\"\n",
    "new_cursor.execute(sql)\n",
    "result = new_cursor.fetchall()\n",
    "for x in result:\n",
    "    print(x)"
   ]
  },
  {
   "cell_type": "code",
   "execution_count": 37,
   "id": "f768ef9c",
   "metadata": {},
   "outputs": [
    {
     "name": "stdout",
     "output_type": "stream",
     "text": [
      "1 new record inserted\n"
     ]
    }
   ],
   "source": [
    "import mysql.connector as con\n",
    "new_db = con.connect(\n",
    "    host = \"localhost\",\n",
    "    user = \"root\", \n",
    "    password = \"tiger\",\n",
    "    database = \"yourdata\"\n",
    ")\n",
    "new_cursor = new_db.cursor()\n",
    "sql = \"INSERT INTO student (name, regno) VALUES (%s, %s)\"\n",
    "values = (\"Nitesh\", \"2004\")\n",
    "new_cursor.execute(sql, values)\n",
    "new_db.commit()\n",
    "print(new_cursor.rowcount, \"new record inserted\")"
   ]
  },
  {
   "cell_type": "markdown",
   "id": "59d94202",
   "metadata": {},
   "source": [
    "# Deleting Record From Table"
   ]
  },
  {
   "cell_type": "code",
   "execution_count": 35,
   "id": "1d0f7685",
   "metadata": {},
   "outputs": [
    {
     "name": "stdout",
     "output_type": "stream",
     "text": [
      "1 records deleted from table\n"
     ]
    }
   ],
   "source": [
    "import mysql.connector as con\n",
    "my_db = con.connect(\n",
    "    host = \"localhost\",\n",
    "    user = \"root\",\n",
    "    password = \"tiger\",\n",
    "    database = \"yourdata\"\n",
    ")\n",
    "new_cursor = my_db.cursor()\n",
    "sql = \"DELETE FROM student WHERE name = %s\"\n",
    "value = (\"Varsha\",)\n",
    "new_cursor.execute(sql, value)\n",
    "my_db.commit()\n",
    "print(new_cursor.rowcount, \"records deleted from table\")"
   ]
  },
  {
   "cell_type": "markdown",
   "id": "b9cf8367",
   "metadata": {},
   "source": [
    "# Deleting Table"
   ]
  },
  {
   "cell_type": "code",
   "execution_count": 1,
   "id": "63c4d480",
   "metadata": {},
   "outputs": [],
   "source": [
    "import mysql.connector as con\n",
    "my_db = con.connect(\n",
    "    host = \"localhost\",\n",
    "    user = \"root\",\n",
    "    password = \"tiger\",\n",
    "    database = \"yourdata\"\n",
    ")\n",
    "new_cursor = my_db.cursor()\n",
    "sql = \"DROP TABLE IF EXISTS students\"\n",
    "new_cursor.execute(sql)"
   ]
  },
  {
   "cell_type": "markdown",
   "id": "6dc29a55",
   "metadata": {},
   "source": [
    "# Updating Table"
   ]
  },
  {
   "cell_type": "code",
   "execution_count": 4,
   "id": "5407e4f1",
   "metadata": {},
   "outputs": [
    {
     "name": "stdout",
     "output_type": "stream",
     "text": [
      "1 records Updated\n"
     ]
    }
   ],
   "source": [
    "import mysql.connector as con\n",
    "my_db = con.connect(\n",
    "    host = \"localhost\",\n",
    "    user = \"root\",\n",
    "    password = \"tiger\",\n",
    "    database = \"yourdata\"\n",
    ")\n",
    "new_cursor = my_db.cursor()\n",
    "sql = \"UPDATE student SET regno = %s WHERE rollno = %s\"\n",
    "value = (\"2003\", \"3\")\n",
    "new_cursor.execute(sql,value)\n",
    "my_db.commit()\n",
    "print(new_cursor.rowcount, \"records Updated\")"
   ]
  },
  {
   "cell_type": "markdown",
   "id": "67e487c5",
   "metadata": {},
   "source": [
    "# Retrieve exact number of records from table"
   ]
  },
  {
   "cell_type": "code",
   "execution_count": 16,
   "id": "05a1f82d",
   "metadata": {},
   "outputs": [
    {
     "name": "stdout",
     "output_type": "stream",
     "text": [
      "('Amyra', '2002', 2)\n",
      "('Neil', '2003', 3)\n",
      "('Nitesh', '2004', 9)\n"
     ]
    }
   ],
   "source": [
    "import mysql.connector as con\n",
    "my_db = con.connect(\n",
    "    host = \"localhost\",\n",
    "    user = \"root\",\n",
    "    password = \"tiger\",\n",
    "    database = \"yourdata\"\n",
    ")\n",
    "new_cursor = my_db.cursor()\n",
    "sql = \"SELECT * FROM student LIMIT 3 OFFSET 1\"\n",
    "new_cursor.execute(sql)\n",
    "result = new_cursor.fetchall()\n",
    "for x in result:\n",
    "    print(x)"
   ]
  },
  {
   "cell_type": "code",
   "execution_count": null,
   "id": "edf8a370",
   "metadata": {},
   "outputs": [],
   "source": []
  }
 ],
 "metadata": {
  "kernelspec": {
   "display_name": "Python 3 (ipykernel)",
   "language": "python",
   "name": "python3"
  },
  "language_info": {
   "codemirror_mode": {
    "name": "ipython",
    "version": 3
   },
   "file_extension": ".py",
   "mimetype": "text/x-python",
   "name": "python",
   "nbconvert_exporter": "python",
   "pygments_lexer": "ipython3",
   "version": "3.9.12"
  }
 },
 "nbformat": 4,
 "nbformat_minor": 5
}
