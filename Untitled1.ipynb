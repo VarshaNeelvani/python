{
 "cells": [
  {
   "cell_type": "code",
   "execution_count": 2,
   "id": "225f8005",
   "metadata": {},
   "outputs": [
    {
     "data": {
      "text/plain": [
       "30"
      ]
     },
     "execution_count": 2,
     "metadata": {},
     "output_type": "execute_result"
    }
   ],
   "source": [
    "import numpy as np\n",
    "np.multiply.reduce([2,3,5])"
   ]
  },
  {
   "cell_type": "code",
   "execution_count": 3,
   "id": "3e5f4a2a",
   "metadata": {},
   "outputs": [
    {
     "data": {
      "text/plain": [
       "array([ 2,  5, 10], dtype=int32)"
      ]
     },
     "execution_count": 3,
     "metadata": {},
     "output_type": "execute_result"
    }
   ],
   "source": [
    "np.add.accumulate([2,3,5])"
   ]
  },
  {
   "cell_type": "code",
   "execution_count": 4,
   "id": "c77e73b4",
   "metadata": {},
   "outputs": [
    {
     "data": {
      "text/plain": [
       "array([ 2,  6, 30], dtype=int32)"
      ]
     },
     "execution_count": 4,
     "metadata": {},
     "output_type": "execute_result"
    }
   ],
   "source": [
    "np.multiply.accumulate([2,3,5])"
   ]
  },
  {
   "cell_type": "code",
   "execution_count": 5,
   "id": "8a9e18a4",
   "metadata": {},
   "outputs": [
    {
     "data": {
      "text/plain": [
       "array([ 1,  3,  6, 10, 15, 21], dtype=int32)"
      ]
     },
     "execution_count": 5,
     "metadata": {},
     "output_type": "execute_result"
    }
   ],
   "source": [
    "a = np.array([[1,2,3],[4,5,6]])\n",
    "a\n",
    "np.cumsum(a)"
   ]
  },
  {
   "cell_type": "code",
   "execution_count": 8,
   "id": "183a713f",
   "metadata": {},
   "outputs": [
    {
     "data": {
      "text/plain": [
       "'1.4.2'"
      ]
     },
     "execution_count": 8,
     "metadata": {},
     "output_type": "execute_result"
    }
   ],
   "source": [
    "import numpy as np\n",
    "import pandas as pd\n",
    "\n",
    "pd.__version__"
   ]
  },
  {
   "cell_type": "code",
   "execution_count": 9,
   "id": "1274329c",
   "metadata": {},
   "outputs": [
    {
     "data": {
      "text/plain": [
       "array([[ 0.28284548,  0.77721094, -0.98611344, -0.97015253,  2.02204424],\n",
       "       [-0.211832  , -0.28928617,  0.85012025, -0.51684931, -1.40014556],\n",
       "       [-1.41404033, -0.23665267,  0.2543469 ,  1.16599743,  0.64117122],\n",
       "       [-0.08082465, -0.34434485, -0.32613583,  2.16125327, -0.65586736],\n",
       "       [ 1.16464976, -0.39023376,  0.46336618,  0.9661958 ,  0.71690988],\n",
       "       [ 0.94232211, -0.78652426, -0.41317265, -0.58959166,  0.62646549],\n",
       "       [-0.26375547, -0.39156369,  1.21679199,  0.33405529, -1.28664203],\n",
       "       [ 0.90506241, -2.19000894,  1.00164636,  0.27251471,  0.15726373],\n",
       "       [-0.82240694,  0.16906367, -0.37492357,  1.44599875, -1.40868244],\n",
       "       [-0.29552546,  0.69714204,  2.56409986, -0.05468872,  0.84337869]])"
      ]
     },
     "execution_count": 9,
     "metadata": {},
     "output_type": "execute_result"
    }
   ],
   "source": [
    "arr = np.random.standard_normal((10,5))\n",
    "arr"
   ]
  },
  {
   "cell_type": "code",
   "execution_count": 10,
   "id": "d597e5cf",
   "metadata": {},
   "outputs": [
    {
     "data": {
      "text/html": [
       "<div>\n",
       "<style scoped>\n",
       "    .dataframe tbody tr th:only-of-type {\n",
       "        vertical-align: middle;\n",
       "    }\n",
       "\n",
       "    .dataframe tbody tr th {\n",
       "        vertical-align: top;\n",
       "    }\n",
       "\n",
       "    .dataframe thead th {\n",
       "        text-align: right;\n",
       "    }\n",
       "</style>\n",
       "<table border=\"1\" class=\"dataframe\">\n",
       "  <thead>\n",
       "    <tr style=\"text-align: right;\">\n",
       "      <th></th>\n",
       "      <th>0</th>\n",
       "      <th>1</th>\n",
       "      <th>2</th>\n",
       "      <th>3</th>\n",
       "      <th>4</th>\n",
       "    </tr>\n",
       "  </thead>\n",
       "  <tbody>\n",
       "    <tr>\n",
       "      <th>0</th>\n",
       "      <td>0.282845</td>\n",
       "      <td>0.777211</td>\n",
       "      <td>-0.986113</td>\n",
       "      <td>-0.970153</td>\n",
       "      <td>2.022044</td>\n",
       "    </tr>\n",
       "    <tr>\n",
       "      <th>1</th>\n",
       "      <td>-0.211832</td>\n",
       "      <td>-0.289286</td>\n",
       "      <td>0.850120</td>\n",
       "      <td>-0.516849</td>\n",
       "      <td>-1.400146</td>\n",
       "    </tr>\n",
       "    <tr>\n",
       "      <th>2</th>\n",
       "      <td>-1.414040</td>\n",
       "      <td>-0.236653</td>\n",
       "      <td>0.254347</td>\n",
       "      <td>1.165997</td>\n",
       "      <td>0.641171</td>\n",
       "    </tr>\n",
       "    <tr>\n",
       "      <th>3</th>\n",
       "      <td>-0.080825</td>\n",
       "      <td>-0.344345</td>\n",
       "      <td>-0.326136</td>\n",
       "      <td>2.161253</td>\n",
       "      <td>-0.655867</td>\n",
       "    </tr>\n",
       "    <tr>\n",
       "      <th>4</th>\n",
       "      <td>1.164650</td>\n",
       "      <td>-0.390234</td>\n",
       "      <td>0.463366</td>\n",
       "      <td>0.966196</td>\n",
       "      <td>0.716910</td>\n",
       "    </tr>\n",
       "    <tr>\n",
       "      <th>5</th>\n",
       "      <td>0.942322</td>\n",
       "      <td>-0.786524</td>\n",
       "      <td>-0.413173</td>\n",
       "      <td>-0.589592</td>\n",
       "      <td>0.626465</td>\n",
       "    </tr>\n",
       "    <tr>\n",
       "      <th>6</th>\n",
       "      <td>-0.263755</td>\n",
       "      <td>-0.391564</td>\n",
       "      <td>1.216792</td>\n",
       "      <td>0.334055</td>\n",
       "      <td>-1.286642</td>\n",
       "    </tr>\n",
       "    <tr>\n",
       "      <th>7</th>\n",
       "      <td>0.905062</td>\n",
       "      <td>-2.190009</td>\n",
       "      <td>1.001646</td>\n",
       "      <td>0.272515</td>\n",
       "      <td>0.157264</td>\n",
       "    </tr>\n",
       "    <tr>\n",
       "      <th>8</th>\n",
       "      <td>-0.822407</td>\n",
       "      <td>0.169064</td>\n",
       "      <td>-0.374924</td>\n",
       "      <td>1.445999</td>\n",
       "      <td>-1.408682</td>\n",
       "    </tr>\n",
       "    <tr>\n",
       "      <th>9</th>\n",
       "      <td>-0.295525</td>\n",
       "      <td>0.697142</td>\n",
       "      <td>2.564100</td>\n",
       "      <td>-0.054689</td>\n",
       "      <td>0.843379</td>\n",
       "    </tr>\n",
       "  </tbody>\n",
       "</table>\n",
       "</div>"
      ],
      "text/plain": [
       "          0         1         2         3         4\n",
       "0  0.282845  0.777211 -0.986113 -0.970153  2.022044\n",
       "1 -0.211832 -0.289286  0.850120 -0.516849 -1.400146\n",
       "2 -1.414040 -0.236653  0.254347  1.165997  0.641171\n",
       "3 -0.080825 -0.344345 -0.326136  2.161253 -0.655867\n",
       "4  1.164650 -0.390234  0.463366  0.966196  0.716910\n",
       "5  0.942322 -0.786524 -0.413173 -0.589592  0.626465\n",
       "6 -0.263755 -0.391564  1.216792  0.334055 -1.286642\n",
       "7  0.905062 -2.190009  1.001646  0.272515  0.157264\n",
       "8 -0.822407  0.169064 -0.374924  1.445999 -1.408682\n",
       "9 -0.295525  0.697142  2.564100 -0.054689  0.843379"
      ]
     },
     "execution_count": 10,
     "metadata": {},
     "output_type": "execute_result"
    }
   ],
   "source": [
    "df = pd.DataFrame(arr)\n",
    "df"
   ]
  },
  {
   "cell_type": "code",
   "execution_count": 11,
   "id": "ea028d01",
   "metadata": {},
   "outputs": [
    {
     "data": {
      "text/html": [
       "<div>\n",
       "<style scoped>\n",
       "    .dataframe tbody tr th:only-of-type {\n",
       "        vertical-align: middle;\n",
       "    }\n",
       "\n",
       "    .dataframe tbody tr th {\n",
       "        vertical-align: top;\n",
       "    }\n",
       "\n",
       "    .dataframe thead th {\n",
       "        text-align: right;\n",
       "    }\n",
       "</style>\n",
       "<table border=\"1\" class=\"dataframe\">\n",
       "  <thead>\n",
       "    <tr style=\"text-align: right;\">\n",
       "      <th></th>\n",
       "      <th>0</th>\n",
       "      <th>1</th>\n",
       "      <th>2</th>\n",
       "      <th>3</th>\n",
       "      <th>4</th>\n",
       "    </tr>\n",
       "  </thead>\n",
       "  <tbody>\n",
       "    <tr>\n",
       "      <th>0</th>\n",
       "      <td>0.282845</td>\n",
       "      <td>0.777211</td>\n",
       "      <td>-0.986113</td>\n",
       "      <td>-0.970153</td>\n",
       "      <td>2.022044</td>\n",
       "    </tr>\n",
       "    <tr>\n",
       "      <th>1</th>\n",
       "      <td>-0.211832</td>\n",
       "      <td>-0.289286</td>\n",
       "      <td>0.850120</td>\n",
       "      <td>-0.516849</td>\n",
       "      <td>-1.400146</td>\n",
       "    </tr>\n",
       "  </tbody>\n",
       "</table>\n",
       "</div>"
      ],
      "text/plain": [
       "          0         1         2         3         4\n",
       "0  0.282845  0.777211 -0.986113 -0.970153  2.022044\n",
       "1 -0.211832 -0.289286  0.850120 -0.516849 -1.400146"
      ]
     },
     "execution_count": 11,
     "metadata": {},
     "output_type": "execute_result"
    }
   ],
   "source": [
    "#df.head() it gives 5, first rows\n",
    "df.head(2)"
   ]
  },
  {
   "cell_type": "code",
   "execution_count": 12,
   "id": "a69a764c",
   "metadata": {},
   "outputs": [
    {
     "data": {
      "text/html": [
       "<div>\n",
       "<style scoped>\n",
       "    .dataframe tbody tr th:only-of-type {\n",
       "        vertical-align: middle;\n",
       "    }\n",
       "\n",
       "    .dataframe tbody tr th {\n",
       "        vertical-align: top;\n",
       "    }\n",
       "\n",
       "    .dataframe thead th {\n",
       "        text-align: right;\n",
       "    }\n",
       "</style>\n",
       "<table border=\"1\" class=\"dataframe\">\n",
       "  <thead>\n",
       "    <tr style=\"text-align: right;\">\n",
       "      <th></th>\n",
       "      <th>0</th>\n",
       "      <th>1</th>\n",
       "      <th>2</th>\n",
       "      <th>3</th>\n",
       "      <th>4</th>\n",
       "    </tr>\n",
       "  </thead>\n",
       "  <tbody>\n",
       "    <tr>\n",
       "      <th>7</th>\n",
       "      <td>0.905062</td>\n",
       "      <td>-2.190009</td>\n",
       "      <td>1.001646</td>\n",
       "      <td>0.272515</td>\n",
       "      <td>0.157264</td>\n",
       "    </tr>\n",
       "    <tr>\n",
       "      <th>8</th>\n",
       "      <td>-0.822407</td>\n",
       "      <td>0.169064</td>\n",
       "      <td>-0.374924</td>\n",
       "      <td>1.445999</td>\n",
       "      <td>-1.408682</td>\n",
       "    </tr>\n",
       "    <tr>\n",
       "      <th>9</th>\n",
       "      <td>-0.295525</td>\n",
       "      <td>0.697142</td>\n",
       "      <td>2.564100</td>\n",
       "      <td>-0.054689</td>\n",
       "      <td>0.843379</td>\n",
       "    </tr>\n",
       "  </tbody>\n",
       "</table>\n",
       "</div>"
      ],
      "text/plain": [
       "          0         1         2         3         4\n",
       "7  0.905062 -2.190009  1.001646  0.272515  0.157264\n",
       "8 -0.822407  0.169064 -0.374924  1.445999 -1.408682\n",
       "9 -0.295525  0.697142  2.564100 -0.054689  0.843379"
      ]
     },
     "execution_count": 12,
     "metadata": {},
     "output_type": "execute_result"
    }
   ],
   "source": [
    "#df.tail() it gives last 5 rows\n",
    "df.tail(3)"
   ]
  },
  {
   "cell_type": "code",
   "execution_count": 13,
   "id": "50c2fc2c",
   "metadata": {},
   "outputs": [
    {
     "name": "stdout",
     "output_type": "stream",
     "text": [
      "Changing column names\n"
     ]
    },
    {
     "data": {
      "text/plain": [
       "['A', 'B', 'C', 'D', 'E']"
      ]
     },
     "execution_count": 13,
     "metadata": {},
     "output_type": "execute_result"
    }
   ],
   "source": [
    "print(\"Changing column names\")\n",
    "cols = 'A B C D E'.split()\n",
    "cols"
   ]
  },
  {
   "cell_type": "code",
   "execution_count": 14,
   "id": "d7f1bbd3",
   "metadata": {},
   "outputs": [
    {
     "data": {
      "text/html": [
       "<div>\n",
       "<style scoped>\n",
       "    .dataframe tbody tr th:only-of-type {\n",
       "        vertical-align: middle;\n",
       "    }\n",
       "\n",
       "    .dataframe tbody tr th {\n",
       "        vertical-align: top;\n",
       "    }\n",
       "\n",
       "    .dataframe thead th {\n",
       "        text-align: right;\n",
       "    }\n",
       "</style>\n",
       "<table border=\"1\" class=\"dataframe\">\n",
       "  <thead>\n",
       "    <tr style=\"text-align: right;\">\n",
       "      <th></th>\n",
       "      <th>A</th>\n",
       "      <th>B</th>\n",
       "      <th>C</th>\n",
       "      <th>D</th>\n",
       "      <th>E</th>\n",
       "    </tr>\n",
       "  </thead>\n",
       "  <tbody>\n",
       "    <tr>\n",
       "      <th>0</th>\n",
       "      <td>0.282845</td>\n",
       "      <td>0.777211</td>\n",
       "      <td>-0.986113</td>\n",
       "      <td>-0.970153</td>\n",
       "      <td>2.022044</td>\n",
       "    </tr>\n",
       "    <tr>\n",
       "      <th>1</th>\n",
       "      <td>-0.211832</td>\n",
       "      <td>-0.289286</td>\n",
       "      <td>0.850120</td>\n",
       "      <td>-0.516849</td>\n",
       "      <td>-1.400146</td>\n",
       "    </tr>\n",
       "    <tr>\n",
       "      <th>2</th>\n",
       "      <td>-1.414040</td>\n",
       "      <td>-0.236653</td>\n",
       "      <td>0.254347</td>\n",
       "      <td>1.165997</td>\n",
       "      <td>0.641171</td>\n",
       "    </tr>\n",
       "    <tr>\n",
       "      <th>3</th>\n",
       "      <td>-0.080825</td>\n",
       "      <td>-0.344345</td>\n",
       "      <td>-0.326136</td>\n",
       "      <td>2.161253</td>\n",
       "      <td>-0.655867</td>\n",
       "    </tr>\n",
       "    <tr>\n",
       "      <th>4</th>\n",
       "      <td>1.164650</td>\n",
       "      <td>-0.390234</td>\n",
       "      <td>0.463366</td>\n",
       "      <td>0.966196</td>\n",
       "      <td>0.716910</td>\n",
       "    </tr>\n",
       "    <tr>\n",
       "      <th>5</th>\n",
       "      <td>0.942322</td>\n",
       "      <td>-0.786524</td>\n",
       "      <td>-0.413173</td>\n",
       "      <td>-0.589592</td>\n",
       "      <td>0.626465</td>\n",
       "    </tr>\n",
       "    <tr>\n",
       "      <th>6</th>\n",
       "      <td>-0.263755</td>\n",
       "      <td>-0.391564</td>\n",
       "      <td>1.216792</td>\n",
       "      <td>0.334055</td>\n",
       "      <td>-1.286642</td>\n",
       "    </tr>\n",
       "    <tr>\n",
       "      <th>7</th>\n",
       "      <td>0.905062</td>\n",
       "      <td>-2.190009</td>\n",
       "      <td>1.001646</td>\n",
       "      <td>0.272515</td>\n",
       "      <td>0.157264</td>\n",
       "    </tr>\n",
       "    <tr>\n",
       "      <th>8</th>\n",
       "      <td>-0.822407</td>\n",
       "      <td>0.169064</td>\n",
       "      <td>-0.374924</td>\n",
       "      <td>1.445999</td>\n",
       "      <td>-1.408682</td>\n",
       "    </tr>\n",
       "    <tr>\n",
       "      <th>9</th>\n",
       "      <td>-0.295525</td>\n",
       "      <td>0.697142</td>\n",
       "      <td>2.564100</td>\n",
       "      <td>-0.054689</td>\n",
       "      <td>0.843379</td>\n",
       "    </tr>\n",
       "  </tbody>\n",
       "</table>\n",
       "</div>"
      ],
      "text/plain": [
       "          A         B         C         D         E\n",
       "0  0.282845  0.777211 -0.986113 -0.970153  2.022044\n",
       "1 -0.211832 -0.289286  0.850120 -0.516849 -1.400146\n",
       "2 -1.414040 -0.236653  0.254347  1.165997  0.641171\n",
       "3 -0.080825 -0.344345 -0.326136  2.161253 -0.655867\n",
       "4  1.164650 -0.390234  0.463366  0.966196  0.716910\n",
       "5  0.942322 -0.786524 -0.413173 -0.589592  0.626465\n",
       "6 -0.263755 -0.391564  1.216792  0.334055 -1.286642\n",
       "7  0.905062 -2.190009  1.001646  0.272515  0.157264\n",
       "8 -0.822407  0.169064 -0.374924  1.445999 -1.408682\n",
       "9 -0.295525  0.697142  2.564100 -0.054689  0.843379"
      ]
     },
     "execution_count": 14,
     "metadata": {},
     "output_type": "execute_result"
    }
   ],
   "source": [
    "df.columns = cols\n",
    "df"
   ]
  },
  {
   "cell_type": "code",
   "execution_count": 16,
   "id": "884ef248",
   "metadata": {},
   "outputs": [
    {
     "data": {
      "text/html": [
       "<div>\n",
       "<style scoped>\n",
       "    .dataframe tbody tr th:only-of-type {\n",
       "        vertical-align: middle;\n",
       "    }\n",
       "\n",
       "    .dataframe tbody tr th {\n",
       "        vertical-align: top;\n",
       "    }\n",
       "\n",
       "    .dataframe thead th {\n",
       "        text-align: right;\n",
       "    }\n",
       "</style>\n",
       "<table border=\"1\" class=\"dataframe\">\n",
       "  <thead>\n",
       "    <tr style=\"text-align: right;\">\n",
       "      <th></th>\n",
       "      <th>A</th>\n",
       "      <th>B</th>\n",
       "      <th>C</th>\n",
       "      <th>D</th>\n",
       "      <th>E</th>\n",
       "    </tr>\n",
       "  </thead>\n",
       "  <tbody>\n",
       "    <tr>\n",
       "      <th>0</th>\n",
       "      <td>0.282845</td>\n",
       "      <td>0.777211</td>\n",
       "      <td>-0.986113</td>\n",
       "      <td>-0.970153</td>\n",
       "      <td>2.022044</td>\n",
       "    </tr>\n",
       "    <tr>\n",
       "      <th>1</th>\n",
       "      <td>-0.211832</td>\n",
       "      <td>-0.289286</td>\n",
       "      <td>0.850120</td>\n",
       "      <td>-0.516849</td>\n",
       "      <td>-1.400146</td>\n",
       "    </tr>\n",
       "    <tr>\n",
       "      <th>2</th>\n",
       "      <td>-1.414040</td>\n",
       "      <td>-0.236653</td>\n",
       "      <td>0.254347</td>\n",
       "      <td>1.165997</td>\n",
       "      <td>0.641171</td>\n",
       "    </tr>\n",
       "    <tr>\n",
       "      <th>...</th>\n",
       "      <td>...</td>\n",
       "      <td>...</td>\n",
       "      <td>...</td>\n",
       "      <td>...</td>\n",
       "      <td>...</td>\n",
       "    </tr>\n",
       "    <tr>\n",
       "      <th>7</th>\n",
       "      <td>0.905062</td>\n",
       "      <td>-2.190009</td>\n",
       "      <td>1.001646</td>\n",
       "      <td>0.272515</td>\n",
       "      <td>0.157264</td>\n",
       "    </tr>\n",
       "    <tr>\n",
       "      <th>8</th>\n",
       "      <td>-0.822407</td>\n",
       "      <td>0.169064</td>\n",
       "      <td>-0.374924</td>\n",
       "      <td>1.445999</td>\n",
       "      <td>-1.408682</td>\n",
       "    </tr>\n",
       "    <tr>\n",
       "      <th>9</th>\n",
       "      <td>-0.295525</td>\n",
       "      <td>0.697142</td>\n",
       "      <td>2.564100</td>\n",
       "      <td>-0.054689</td>\n",
       "      <td>0.843379</td>\n",
       "    </tr>\n",
       "  </tbody>\n",
       "</table>\n",
       "<p>10 rows × 5 columns</p>\n",
       "</div>"
      ],
      "text/plain": [
       "           A         B         C         D         E\n",
       "0   0.282845  0.777211 -0.986113 -0.970153  2.022044\n",
       "1  -0.211832 -0.289286  0.850120 -0.516849 -1.400146\n",
       "2  -1.414040 -0.236653  0.254347  1.165997  0.641171\n",
       "..       ...       ...       ...       ...       ...\n",
       "7   0.905062 -2.190009  1.001646  0.272515  0.157264\n",
       "8  -0.822407  0.169064 -0.374924  1.445999 -1.408682\n",
       "9  -0.295525  0.697142  2.564100 -0.054689  0.843379\n",
       "\n",
       "[10 rows x 5 columns]"
      ]
     },
     "execution_count": 16,
     "metadata": {},
     "output_type": "execute_result"
    }
   ],
   "source": [
    "pd.options.display.max_rows = 6 \n",
    "df"
   ]
  },
  {
   "cell_type": "code",
   "execution_count": 17,
   "id": "db27d000",
   "metadata": {},
   "outputs": [
    {
     "name": "stdout",
     "output_type": "stream",
     "text": [
      "Getting metadata\n",
      "<class 'pandas.core.frame.DataFrame'>\n",
      "RangeIndex: 10 entries, 0 to 9\n",
      "Data columns (total 5 columns):\n",
      " #   Column  Non-Null Count  Dtype  \n",
      "---  ------  --------------  -----  \n",
      " 0   A       10 non-null     float64\n",
      " 1   B       10 non-null     float64\n",
      " 2   C       10 non-null     float64\n",
      " 3   D       10 non-null     float64\n",
      " 4   E       10 non-null     float64\n",
      "dtypes: float64(5)\n",
      "memory usage: 528.0 bytes\n"
     ]
    }
   ],
   "source": [
    "print(\"Getting metadata\")\n",
    "#10 indicate how many observation\n",
    "df.info()"
   ]
  },
  {
   "cell_type": "code",
   "execution_count": 18,
   "id": "e96199fb",
   "metadata": {},
   "outputs": [
    {
     "data": {
      "text/plain": [
       "DatetimeIndex(['2022-01-01', '2022-01-02', '2022-01-03', '2022-01-04',\n",
       "               '2022-01-05', '2022-01-06', '2022-01-07', '2022-01-08',\n",
       "               '2022-01-09', '2022-01-10'],\n",
       "              dtype='datetime64[ns]', freq='D')"
      ]
     },
     "execution_count": 18,
     "metadata": {},
     "output_type": "execute_result"
    }
   ],
   "source": [
    "index = pd.date_range('01/01/2022', periods=10)\n",
    "index"
   ]
  },
  {
   "cell_type": "code",
   "execution_count": 20,
   "id": "6a4e1498",
   "metadata": {},
   "outputs": [
    {
     "data": {
      "text/html": [
       "<div>\n",
       "<style scoped>\n",
       "    .dataframe tbody tr th:only-of-type {\n",
       "        vertical-align: middle;\n",
       "    }\n",
       "\n",
       "    .dataframe tbody tr th {\n",
       "        vertical-align: top;\n",
       "    }\n",
       "\n",
       "    .dataframe thead th {\n",
       "        text-align: right;\n",
       "    }\n",
       "</style>\n",
       "<table border=\"1\" class=\"dataframe\">\n",
       "  <thead>\n",
       "    <tr style=\"text-align: right;\">\n",
       "      <th></th>\n",
       "      <th>A</th>\n",
       "      <th>B</th>\n",
       "      <th>C</th>\n",
       "      <th>D</th>\n",
       "      <th>E</th>\n",
       "    </tr>\n",
       "  </thead>\n",
       "  <tbody>\n",
       "    <tr>\n",
       "      <th>2022-01-01</th>\n",
       "      <td>0.282845</td>\n",
       "      <td>0.777211</td>\n",
       "      <td>-0.986113</td>\n",
       "      <td>-0.970153</td>\n",
       "      <td>2.022044</td>\n",
       "    </tr>\n",
       "    <tr>\n",
       "      <th>2022-01-02</th>\n",
       "      <td>-0.211832</td>\n",
       "      <td>-0.289286</td>\n",
       "      <td>0.850120</td>\n",
       "      <td>-0.516849</td>\n",
       "      <td>-1.400146</td>\n",
       "    </tr>\n",
       "    <tr>\n",
       "      <th>2022-01-03</th>\n",
       "      <td>-1.414040</td>\n",
       "      <td>-0.236653</td>\n",
       "      <td>0.254347</td>\n",
       "      <td>1.165997</td>\n",
       "      <td>0.641171</td>\n",
       "    </tr>\n",
       "    <tr>\n",
       "      <th>...</th>\n",
       "      <td>...</td>\n",
       "      <td>...</td>\n",
       "      <td>...</td>\n",
       "      <td>...</td>\n",
       "      <td>...</td>\n",
       "    </tr>\n",
       "    <tr>\n",
       "      <th>2022-01-08</th>\n",
       "      <td>0.905062</td>\n",
       "      <td>-2.190009</td>\n",
       "      <td>1.001646</td>\n",
       "      <td>0.272515</td>\n",
       "      <td>0.157264</td>\n",
       "    </tr>\n",
       "    <tr>\n",
       "      <th>2022-01-09</th>\n",
       "      <td>-0.822407</td>\n",
       "      <td>0.169064</td>\n",
       "      <td>-0.374924</td>\n",
       "      <td>1.445999</td>\n",
       "      <td>-1.408682</td>\n",
       "    </tr>\n",
       "    <tr>\n",
       "      <th>2022-01-10</th>\n",
       "      <td>-0.295525</td>\n",
       "      <td>0.697142</td>\n",
       "      <td>2.564100</td>\n",
       "      <td>-0.054689</td>\n",
       "      <td>0.843379</td>\n",
       "    </tr>\n",
       "  </tbody>\n",
       "</table>\n",
       "<p>10 rows × 5 columns</p>\n",
       "</div>"
      ],
      "text/plain": [
       "                   A         B         C         D         E\n",
       "2022-01-01  0.282845  0.777211 -0.986113 -0.970153  2.022044\n",
       "2022-01-02 -0.211832 -0.289286  0.850120 -0.516849 -1.400146\n",
       "2022-01-03 -1.414040 -0.236653  0.254347  1.165997  0.641171\n",
       "...              ...       ...       ...       ...       ...\n",
       "2022-01-08  0.905062 -2.190009  1.001646  0.272515  0.157264\n",
       "2022-01-09 -0.822407  0.169064 -0.374924  1.445999 -1.408682\n",
       "2022-01-10 -0.295525  0.697142  2.564100 -0.054689  0.843379\n",
       "\n",
       "[10 rows x 5 columns]"
      ]
     },
     "execution_count": 20,
     "metadata": {},
     "output_type": "execute_result"
    }
   ],
   "source": [
    "df.set_index(index, inplace=True)\n",
    "#inplace=True->we don't get copy\n",
    "df"
   ]
  },
  {
   "cell_type": "code",
   "execution_count": 21,
   "id": "a021fc5f",
   "metadata": {},
   "outputs": [
    {
     "data": {
      "text/html": [
       "<div>\n",
       "<style scoped>\n",
       "    .dataframe tbody tr th:only-of-type {\n",
       "        vertical-align: middle;\n",
       "    }\n",
       "\n",
       "    .dataframe tbody tr th {\n",
       "        vertical-align: top;\n",
       "    }\n",
       "\n",
       "    .dataframe thead th {\n",
       "        text-align: right;\n",
       "    }\n",
       "</style>\n",
       "<table border=\"1\" class=\"dataframe\">\n",
       "  <thead>\n",
       "    <tr style=\"text-align: right;\">\n",
       "      <th></th>\n",
       "      <th>A</th>\n",
       "      <th>C</th>\n",
       "    </tr>\n",
       "  </thead>\n",
       "  <tbody>\n",
       "    <tr>\n",
       "      <th>2022-01-01</th>\n",
       "      <td>0.282845</td>\n",
       "      <td>-0.986113</td>\n",
       "    </tr>\n",
       "    <tr>\n",
       "      <th>2022-01-02</th>\n",
       "      <td>-0.211832</td>\n",
       "      <td>0.850120</td>\n",
       "    </tr>\n",
       "    <tr>\n",
       "      <th>2022-01-03</th>\n",
       "      <td>-1.414040</td>\n",
       "      <td>0.254347</td>\n",
       "    </tr>\n",
       "    <tr>\n",
       "      <th>...</th>\n",
       "      <td>...</td>\n",
       "      <td>...</td>\n",
       "    </tr>\n",
       "    <tr>\n",
       "      <th>2022-01-08</th>\n",
       "      <td>0.905062</td>\n",
       "      <td>1.001646</td>\n",
       "    </tr>\n",
       "    <tr>\n",
       "      <th>2022-01-09</th>\n",
       "      <td>-0.822407</td>\n",
       "      <td>-0.374924</td>\n",
       "    </tr>\n",
       "    <tr>\n",
       "      <th>2022-01-10</th>\n",
       "      <td>-0.295525</td>\n",
       "      <td>2.564100</td>\n",
       "    </tr>\n",
       "  </tbody>\n",
       "</table>\n",
       "<p>10 rows × 2 columns</p>\n",
       "</div>"
      ],
      "text/plain": [
       "                   A         C\n",
       "2022-01-01  0.282845 -0.986113\n",
       "2022-01-02 -0.211832  0.850120\n",
       "2022-01-03 -1.414040  0.254347\n",
       "...              ...       ...\n",
       "2022-01-08  0.905062  1.001646\n",
       "2022-01-09 -0.822407 -0.374924\n",
       "2022-01-10 -0.295525  2.564100\n",
       "\n",
       "[10 rows x 2 columns]"
      ]
     },
     "execution_count": 21,
     "metadata": {},
     "output_type": "execute_result"
    }
   ],
   "source": [
    "#subsetting data\n",
    "#df['A']\n",
    "#df.A\n",
    "df[['A','C']]"
   ]
  },
  {
   "cell_type": "code",
   "execution_count": 22,
   "id": "e746a1a9",
   "metadata": {},
   "outputs": [
    {
     "data": {
      "text/plain": [
       "A    0.282845\n",
       "B    0.777211\n",
       "C   -0.986113\n",
       "D   -0.970153\n",
       "E    2.022044\n",
       "Name: 2022-01-01 00:00:00, dtype: float64"
      ]
     },
     "execution_count": 22,
     "metadata": {},
     "output_type": "execute_result"
    }
   ],
   "source": [
    "#Accessing the values through index location(iloc)\n",
    "df.iloc[0]"
   ]
  },
  {
   "cell_type": "code",
   "execution_count": 23,
   "id": "21e8ee39",
   "metadata": {},
   "outputs": [
    {
     "data": {
      "text/plain": [
       "A    0.282845\n",
       "B    0.777211\n",
       "C   -0.986113\n",
       "D   -0.970153\n",
       "E    2.022044\n",
       "Name: 2022-01-01 00:00:00, dtype: float64"
      ]
     },
     "execution_count": 23,
     "metadata": {},
     "output_type": "execute_result"
    }
   ],
   "source": [
    "df.iloc[0]"
   ]
  },
  {
   "cell_type": "code",
   "execution_count": 25,
   "id": "6d2df6f9",
   "metadata": {},
   "outputs": [
    {
     "data": {
      "text/html": [
       "<div>\n",
       "<style scoped>\n",
       "    .dataframe tbody tr th:only-of-type {\n",
       "        vertical-align: middle;\n",
       "    }\n",
       "\n",
       "    .dataframe tbody tr th {\n",
       "        vertical-align: top;\n",
       "    }\n",
       "\n",
       "    .dataframe thead th {\n",
       "        text-align: right;\n",
       "    }\n",
       "</style>\n",
       "<table border=\"1\" class=\"dataframe\">\n",
       "  <thead>\n",
       "    <tr style=\"text-align: right;\">\n",
       "      <th></th>\n",
       "      <th>A</th>\n",
       "      <th>B</th>\n",
       "      <th>C</th>\n",
       "      <th>D</th>\n",
       "      <th>E</th>\n",
       "    </tr>\n",
       "  </thead>\n",
       "  <tbody>\n",
       "    <tr>\n",
       "      <th>2022-01-01</th>\n",
       "      <td>0.282845</td>\n",
       "      <td>0.777211</td>\n",
       "      <td>-0.986113</td>\n",
       "      <td>-0.970153</td>\n",
       "      <td>2.022044</td>\n",
       "    </tr>\n",
       "    <tr>\n",
       "      <th>2022-01-04</th>\n",
       "      <td>-0.080825</td>\n",
       "      <td>-0.344345</td>\n",
       "      <td>-0.326136</td>\n",
       "      <td>2.161253</td>\n",
       "      <td>-0.655867</td>\n",
       "    </tr>\n",
       "    <tr>\n",
       "      <th>2022-01-05</th>\n",
       "      <td>1.164650</td>\n",
       "      <td>-0.390234</td>\n",
       "      <td>0.463366</td>\n",
       "      <td>0.966196</td>\n",
       "      <td>0.716910</td>\n",
       "    </tr>\n",
       "  </tbody>\n",
       "</table>\n",
       "</div>"
      ],
      "text/plain": [
       "                   A         B         C         D         E\n",
       "2022-01-01  0.282845  0.777211 -0.986113 -0.970153  2.022044\n",
       "2022-01-04 -0.080825 -0.344345 -0.326136  2.161253 -0.655867\n",
       "2022-01-05  1.164650 -0.390234  0.463366  0.966196  0.716910"
      ]
     },
     "execution_count": 25,
     "metadata": {},
     "output_type": "execute_result"
    }
   ],
   "source": [
    "df.iloc[[0,3,4]]"
   ]
  },
  {
   "cell_type": "code",
   "execution_count": 26,
   "id": "1aedfb30",
   "metadata": {},
   "outputs": [
    {
     "data": {
      "text/plain": [
       "-0.9701525331394082"
      ]
     },
     "execution_count": 26,
     "metadata": {},
     "output_type": "execute_result"
    }
   ],
   "source": [
    "df.iloc[0,3]"
   ]
  },
  {
   "cell_type": "code",
   "execution_count": 27,
   "id": "9c365241",
   "metadata": {},
   "outputs": [
    {
     "data": {
      "text/plain": [
       "D   -0.970153\n",
       "E    2.022044\n",
       "Name: 2022-01-01 00:00:00, dtype: float64"
      ]
     },
     "execution_count": 27,
     "metadata": {},
     "output_type": "execute_result"
    }
   ],
   "source": [
    "df.iloc[0,3:]"
   ]
  },
  {
   "cell_type": "code",
   "execution_count": 28,
   "id": "9fc0c31c",
   "metadata": {},
   "outputs": [
    {
     "data": {
      "text/plain": [
       "A    0.282845\n",
       "B    0.777211\n",
       "C   -0.986113\n",
       "D   -0.970153\n",
       "E    2.022044\n",
       "Name: 2022-01-01 00:00:00, dtype: float64"
      ]
     },
     "execution_count": 28,
     "metadata": {},
     "output_type": "execute_result"
    }
   ],
   "source": [
    "df.loc['2022-01-01']"
   ]
  },
  {
   "cell_type": "code",
   "execution_count": 29,
   "id": "592419ca",
   "metadata": {},
   "outputs": [
    {
     "data": {
      "text/html": [
       "<div>\n",
       "<style scoped>\n",
       "    .dataframe tbody tr th:only-of-type {\n",
       "        vertical-align: middle;\n",
       "    }\n",
       "\n",
       "    .dataframe tbody tr th {\n",
       "        vertical-align: top;\n",
       "    }\n",
       "\n",
       "    .dataframe thead th {\n",
       "        text-align: right;\n",
       "    }\n",
       "</style>\n",
       "<table border=\"1\" class=\"dataframe\">\n",
       "  <thead>\n",
       "    <tr style=\"text-align: right;\">\n",
       "      <th></th>\n",
       "      <th>A</th>\n",
       "      <th>B</th>\n",
       "      <th>C</th>\n",
       "      <th>D</th>\n",
       "      <th>E</th>\n",
       "    </tr>\n",
       "  </thead>\n",
       "  <tbody>\n",
       "    <tr>\n",
       "      <th>2022-01-01</th>\n",
       "      <td>0.282845</td>\n",
       "      <td>0.777211</td>\n",
       "      <td>-0.986113</td>\n",
       "      <td>-0.970153</td>\n",
       "      <td>2.022044</td>\n",
       "    </tr>\n",
       "    <tr>\n",
       "      <th>2022-01-02</th>\n",
       "      <td>-0.211832</td>\n",
       "      <td>-0.289286</td>\n",
       "      <td>0.850120</td>\n",
       "      <td>-0.516849</td>\n",
       "      <td>-1.400146</td>\n",
       "    </tr>\n",
       "    <tr>\n",
       "      <th>2022-01-03</th>\n",
       "      <td>-1.414040</td>\n",
       "      <td>-0.236653</td>\n",
       "      <td>0.254347</td>\n",
       "      <td>1.165997</td>\n",
       "      <td>0.641171</td>\n",
       "    </tr>\n",
       "    <tr>\n",
       "      <th>2022-01-04</th>\n",
       "      <td>-0.080825</td>\n",
       "      <td>-0.344345</td>\n",
       "      <td>-0.326136</td>\n",
       "      <td>2.161253</td>\n",
       "      <td>-0.655867</td>\n",
       "    </tr>\n",
       "  </tbody>\n",
       "</table>\n",
       "</div>"
      ],
      "text/plain": [
       "                   A         B         C         D         E\n",
       "2022-01-01  0.282845  0.777211 -0.986113 -0.970153  2.022044\n",
       "2022-01-02 -0.211832 -0.289286  0.850120 -0.516849 -1.400146\n",
       "2022-01-03 -1.414040 -0.236653  0.254347  1.165997  0.641171\n",
       "2022-01-04 -0.080825 -0.344345 -0.326136  2.161253 -0.655867"
      ]
     },
     "execution_count": 29,
     "metadata": {},
     "output_type": "execute_result"
    }
   ],
   "source": [
    "df.loc['2022-01-01':'2022-01-04']"
   ]
  },
  {
   "cell_type": "code",
   "execution_count": 30,
   "id": "98b771cd",
   "metadata": {},
   "outputs": [
    {
     "data": {
      "text/html": [
       "<div>\n",
       "<style scoped>\n",
       "    .dataframe tbody tr th:only-of-type {\n",
       "        vertical-align: middle;\n",
       "    }\n",
       "\n",
       "    .dataframe tbody tr th {\n",
       "        vertical-align: top;\n",
       "    }\n",
       "\n",
       "    .dataframe thead th {\n",
       "        text-align: right;\n",
       "    }\n",
       "</style>\n",
       "<table border=\"1\" class=\"dataframe\">\n",
       "  <thead>\n",
       "    <tr style=\"text-align: right;\">\n",
       "      <th></th>\n",
       "      <th>A</th>\n",
       "      <th>B</th>\n",
       "      <th>C</th>\n",
       "      <th>D</th>\n",
       "      <th>E</th>\n",
       "    </tr>\n",
       "  </thead>\n",
       "  <tbody>\n",
       "    <tr>\n",
       "      <th>2022-01-01</th>\n",
       "      <td>False</td>\n",
       "      <td>False</td>\n",
       "      <td>True</td>\n",
       "      <td>True</td>\n",
       "      <td>False</td>\n",
       "    </tr>\n",
       "    <tr>\n",
       "      <th>2022-01-02</th>\n",
       "      <td>True</td>\n",
       "      <td>True</td>\n",
       "      <td>False</td>\n",
       "      <td>True</td>\n",
       "      <td>True</td>\n",
       "    </tr>\n",
       "    <tr>\n",
       "      <th>2022-01-03</th>\n",
       "      <td>True</td>\n",
       "      <td>True</td>\n",
       "      <td>False</td>\n",
       "      <td>False</td>\n",
       "      <td>False</td>\n",
       "    </tr>\n",
       "    <tr>\n",
       "      <th>...</th>\n",
       "      <td>...</td>\n",
       "      <td>...</td>\n",
       "      <td>...</td>\n",
       "      <td>...</td>\n",
       "      <td>...</td>\n",
       "    </tr>\n",
       "    <tr>\n",
       "      <th>2022-01-08</th>\n",
       "      <td>False</td>\n",
       "      <td>True</td>\n",
       "      <td>False</td>\n",
       "      <td>False</td>\n",
       "      <td>False</td>\n",
       "    </tr>\n",
       "    <tr>\n",
       "      <th>2022-01-09</th>\n",
       "      <td>True</td>\n",
       "      <td>False</td>\n",
       "      <td>True</td>\n",
       "      <td>False</td>\n",
       "      <td>True</td>\n",
       "    </tr>\n",
       "    <tr>\n",
       "      <th>2022-01-10</th>\n",
       "      <td>True</td>\n",
       "      <td>False</td>\n",
       "      <td>False</td>\n",
       "      <td>True</td>\n",
       "      <td>False</td>\n",
       "    </tr>\n",
       "  </tbody>\n",
       "</table>\n",
       "<p>10 rows × 5 columns</p>\n",
       "</div>"
      ],
      "text/plain": [
       "                A      B      C      D      E\n",
       "2022-01-01  False  False   True   True  False\n",
       "2022-01-02   True   True  False   True   True\n",
       "2022-01-03   True   True  False  False  False\n",
       "...           ...    ...    ...    ...    ...\n",
       "2022-01-08  False   True  False  False  False\n",
       "2022-01-09   True  False   True  False   True\n",
       "2022-01-10   True  False  False   True  False\n",
       "\n",
       "[10 rows x 5 columns]"
      ]
     },
     "execution_count": 30,
     "metadata": {},
     "output_type": "execute_result"
    }
   ],
   "source": [
    "df<0"
   ]
  },
  {
   "cell_type": "code",
   "execution_count": 31,
   "id": "9d7538c7",
   "metadata": {},
   "outputs": [
    {
     "data": {
      "text/html": [
       "<div>\n",
       "<style scoped>\n",
       "    .dataframe tbody tr th:only-of-type {\n",
       "        vertical-align: middle;\n",
       "    }\n",
       "\n",
       "    .dataframe tbody tr th {\n",
       "        vertical-align: top;\n",
       "    }\n",
       "\n",
       "    .dataframe thead th {\n",
       "        text-align: right;\n",
       "    }\n",
       "</style>\n",
       "<table border=\"1\" class=\"dataframe\">\n",
       "  <thead>\n",
       "    <tr style=\"text-align: right;\">\n",
       "      <th></th>\n",
       "      <th>A</th>\n",
       "      <th>B</th>\n",
       "      <th>C</th>\n",
       "      <th>D</th>\n",
       "      <th>E</th>\n",
       "    </tr>\n",
       "  </thead>\n",
       "  <tbody>\n",
       "    <tr>\n",
       "      <th>2022-01-01</th>\n",
       "      <td>0.282845</td>\n",
       "      <td>0.777211</td>\n",
       "      <td>0.000000</td>\n",
       "      <td>0.000000</td>\n",
       "      <td>2.022044</td>\n",
       "    </tr>\n",
       "    <tr>\n",
       "      <th>2022-01-02</th>\n",
       "      <td>0.000000</td>\n",
       "      <td>0.000000</td>\n",
       "      <td>0.850120</td>\n",
       "      <td>0.000000</td>\n",
       "      <td>0.000000</td>\n",
       "    </tr>\n",
       "    <tr>\n",
       "      <th>2022-01-03</th>\n",
       "      <td>0.000000</td>\n",
       "      <td>0.000000</td>\n",
       "      <td>0.254347</td>\n",
       "      <td>1.165997</td>\n",
       "      <td>0.641171</td>\n",
       "    </tr>\n",
       "    <tr>\n",
       "      <th>...</th>\n",
       "      <td>...</td>\n",
       "      <td>...</td>\n",
       "      <td>...</td>\n",
       "      <td>...</td>\n",
       "      <td>...</td>\n",
       "    </tr>\n",
       "    <tr>\n",
       "      <th>2022-01-08</th>\n",
       "      <td>0.905062</td>\n",
       "      <td>0.000000</td>\n",
       "      <td>1.001646</td>\n",
       "      <td>0.272515</td>\n",
       "      <td>0.157264</td>\n",
       "    </tr>\n",
       "    <tr>\n",
       "      <th>2022-01-09</th>\n",
       "      <td>0.000000</td>\n",
       "      <td>0.169064</td>\n",
       "      <td>0.000000</td>\n",
       "      <td>1.445999</td>\n",
       "      <td>0.000000</td>\n",
       "    </tr>\n",
       "    <tr>\n",
       "      <th>2022-01-10</th>\n",
       "      <td>0.000000</td>\n",
       "      <td>0.697142</td>\n",
       "      <td>2.564100</td>\n",
       "      <td>0.000000</td>\n",
       "      <td>0.843379</td>\n",
       "    </tr>\n",
       "  </tbody>\n",
       "</table>\n",
       "<p>10 rows × 5 columns</p>\n",
       "</div>"
      ],
      "text/plain": [
       "                   A         B         C         D         E\n",
       "2022-01-01  0.282845  0.777211  0.000000  0.000000  2.022044\n",
       "2022-01-02  0.000000  0.000000  0.850120  0.000000  0.000000\n",
       "2022-01-03  0.000000  0.000000  0.254347  1.165997  0.641171\n",
       "...              ...       ...       ...       ...       ...\n",
       "2022-01-08  0.905062  0.000000  1.001646  0.272515  0.157264\n",
       "2022-01-09  0.000000  0.169064  0.000000  1.445999  0.000000\n",
       "2022-01-10  0.000000  0.697142  2.564100  0.000000  0.843379\n",
       "\n",
       "[10 rows x 5 columns]"
      ]
     },
     "execution_count": 31,
     "metadata": {},
     "output_type": "execute_result"
    }
   ],
   "source": [
    "mask = df<0\n",
    "df[mask]=0\n",
    "df"
   ]
  },
  {
   "cell_type": "code",
   "execution_count": 33,
   "id": "9fedd6c0",
   "metadata": {},
   "outputs": [
    {
     "data": {
      "text/html": [
       "<div>\n",
       "<style scoped>\n",
       "    .dataframe tbody tr th:only-of-type {\n",
       "        vertical-align: middle;\n",
       "    }\n",
       "\n",
       "    .dataframe tbody tr th {\n",
       "        vertical-align: top;\n",
       "    }\n",
       "\n",
       "    .dataframe thead th {\n",
       "        text-align: right;\n",
       "    }\n",
       "</style>\n",
       "<table border=\"1\" class=\"dataframe\">\n",
       "  <thead>\n",
       "    <tr style=\"text-align: right;\">\n",
       "      <th></th>\n",
       "      <th>A</th>\n",
       "      <th>B</th>\n",
       "    </tr>\n",
       "  </thead>\n",
       "  <tbody>\n",
       "    <tr>\n",
       "      <th>0</th>\n",
       "      <td>0</td>\n",
       "      <td>16</td>\n",
       "    </tr>\n",
       "    <tr>\n",
       "      <th>1</th>\n",
       "      <td>1</td>\n",
       "      <td>17</td>\n",
       "    </tr>\n",
       "    <tr>\n",
       "      <th>2</th>\n",
       "      <td>2</td>\n",
       "      <td>18</td>\n",
       "    </tr>\n",
       "    <tr>\n",
       "      <th>...</th>\n",
       "      <td>...</td>\n",
       "      <td>...</td>\n",
       "    </tr>\n",
       "    <tr>\n",
       "      <th>12</th>\n",
       "      <td>12</td>\n",
       "      <td>28</td>\n",
       "    </tr>\n",
       "    <tr>\n",
       "      <th>13</th>\n",
       "      <td>13</td>\n",
       "      <td>29</td>\n",
       "    </tr>\n",
       "    <tr>\n",
       "      <th>14</th>\n",
       "      <td>14</td>\n",
       "      <td>30</td>\n",
       "    </tr>\n",
       "  </tbody>\n",
       "</table>\n",
       "<p>15 rows × 2 columns</p>\n",
       "</div>"
      ],
      "text/plain": [
       "     A   B\n",
       "0    0  16\n",
       "1    1  17\n",
       "2    2  18\n",
       "..  ..  ..\n",
       "12  12  28\n",
       "13  13  29\n",
       "14  14  30\n",
       "\n",
       "[15 rows x 2 columns]"
      ]
     },
     "execution_count": 33,
     "metadata": {},
     "output_type": "execute_result"
    }
   ],
   "source": [
    "#Creating dataframes from dicts\n",
    "pd.DataFrame({'A':range(15),'B':range(16,31)})\n",
    "df2 = pd.DataFrame({'A':range(15),'B':range(16,31)})\n",
    "df2"
   ]
  },
  {
   "cell_type": "code",
   "execution_count": 35,
   "id": "2d91f5ca",
   "metadata": {},
   "outputs": [
    {
     "data": {
      "text/html": [
       "<div>\n",
       "<style scoped>\n",
       "    .dataframe tbody tr th:only-of-type {\n",
       "        vertical-align: middle;\n",
       "    }\n",
       "\n",
       "    .dataframe tbody tr th {\n",
       "        vertical-align: top;\n",
       "    }\n",
       "\n",
       "    .dataframe thead th {\n",
       "        text-align: right;\n",
       "    }\n",
       "</style>\n",
       "<table border=\"1\" class=\"dataframe\">\n",
       "  <thead>\n",
       "    <tr style=\"text-align: right;\">\n",
       "      <th></th>\n",
       "      <th>A</th>\n",
       "      <th>B</th>\n",
       "      <th>C</th>\n",
       "    </tr>\n",
       "  </thead>\n",
       "  <tbody>\n",
       "    <tr>\n",
       "      <th>0</th>\n",
       "      <td>0</td>\n",
       "      <td>16</td>\n",
       "      <td>256</td>\n",
       "    </tr>\n",
       "    <tr>\n",
       "      <th>1</th>\n",
       "      <td>1</td>\n",
       "      <td>17</td>\n",
       "      <td>289</td>\n",
       "    </tr>\n",
       "    <tr>\n",
       "      <th>2</th>\n",
       "      <td>2</td>\n",
       "      <td>18</td>\n",
       "      <td>324</td>\n",
       "    </tr>\n",
       "    <tr>\n",
       "      <th>...</th>\n",
       "      <td>...</td>\n",
       "      <td>...</td>\n",
       "      <td>...</td>\n",
       "    </tr>\n",
       "    <tr>\n",
       "      <th>12</th>\n",
       "      <td>12</td>\n",
       "      <td>28</td>\n",
       "      <td>784</td>\n",
       "    </tr>\n",
       "    <tr>\n",
       "      <th>13</th>\n",
       "      <td>13</td>\n",
       "      <td>29</td>\n",
       "      <td>841</td>\n",
       "    </tr>\n",
       "    <tr>\n",
       "      <th>14</th>\n",
       "      <td>14</td>\n",
       "      <td>30</td>\n",
       "      <td>900</td>\n",
       "    </tr>\n",
       "  </tbody>\n",
       "</table>\n",
       "<p>15 rows × 3 columns</p>\n",
       "</div>"
      ],
      "text/plain": [
       "     A   B    C\n",
       "0    0  16  256\n",
       "1    1  17  289\n",
       "2    2  18  324\n",
       "..  ..  ..  ...\n",
       "12  12  28  784\n",
       "13  13  29  841\n",
       "14  14  30  900\n",
       "\n",
       "[15 rows x 3 columns]"
      ]
     },
     "execution_count": 35,
     "metadata": {},
     "output_type": "execute_result"
    }
   ],
   "source": [
    "#Adding columns \n",
    "df2['C'] = df2['B'] ** 2\n",
    "df2"
   ]
  },
  {
   "cell_type": "code",
   "execution_count": 36,
   "id": "27368112",
   "metadata": {},
   "outputs": [
    {
     "data": {
      "text/html": [
       "<div>\n",
       "<style scoped>\n",
       "    .dataframe tbody tr th:only-of-type {\n",
       "        vertical-align: middle;\n",
       "    }\n",
       "\n",
       "    .dataframe tbody tr th {\n",
       "        vertical-align: top;\n",
       "    }\n",
       "\n",
       "    .dataframe thead th {\n",
       "        text-align: right;\n",
       "    }\n",
       "</style>\n",
       "<table border=\"1\" class=\"dataframe\">\n",
       "  <thead>\n",
       "    <tr style=\"text-align: right;\">\n",
       "      <th></th>\n",
       "      <th>A</th>\n",
       "      <th>B</th>\n",
       "      <th>C</th>\n",
       "    </tr>\n",
       "  </thead>\n",
       "  <tbody>\n",
       "    <tr>\n",
       "      <th>count</th>\n",
       "      <td>15.000000</td>\n",
       "      <td>15.000000</td>\n",
       "      <td>15.000000</td>\n",
       "    </tr>\n",
       "    <tr>\n",
       "      <th>mean</th>\n",
       "      <td>7.000000</td>\n",
       "      <td>23.000000</td>\n",
       "      <td>547.666667</td>\n",
       "    </tr>\n",
       "    <tr>\n",
       "      <th>std</th>\n",
       "      <td>4.472136</td>\n",
       "      <td>4.472136</td>\n",
       "      <td>206.433201</td>\n",
       "    </tr>\n",
       "    <tr>\n",
       "      <th>...</th>\n",
       "      <td>...</td>\n",
       "      <td>...</td>\n",
       "      <td>...</td>\n",
       "    </tr>\n",
       "    <tr>\n",
       "      <th>50%</th>\n",
       "      <td>7.000000</td>\n",
       "      <td>23.000000</td>\n",
       "      <td>529.000000</td>\n",
       "    </tr>\n",
       "    <tr>\n",
       "      <th>75%</th>\n",
       "      <td>10.500000</td>\n",
       "      <td>26.500000</td>\n",
       "      <td>702.500000</td>\n",
       "    </tr>\n",
       "    <tr>\n",
       "      <th>max</th>\n",
       "      <td>14.000000</td>\n",
       "      <td>30.000000</td>\n",
       "      <td>900.000000</td>\n",
       "    </tr>\n",
       "  </tbody>\n",
       "</table>\n",
       "<p>8 rows × 3 columns</p>\n",
       "</div>"
      ],
      "text/plain": [
       "               A          B           C\n",
       "count  15.000000  15.000000   15.000000\n",
       "mean    7.000000  23.000000  547.666667\n",
       "std     4.472136   4.472136  206.433201\n",
       "...          ...        ...         ...\n",
       "50%     7.000000  23.000000  529.000000\n",
       "75%    10.500000  26.500000  702.500000\n",
       "max    14.000000  30.000000  900.000000\n",
       "\n",
       "[8 rows x 3 columns]"
      ]
     },
     "execution_count": 36,
     "metadata": {},
     "output_type": "execute_result"
    }
   ],
   "source": [
    "df2.describe()"
   ]
  },
  {
   "cell_type": "code",
   "execution_count": 37,
   "id": "f3796934",
   "metadata": {},
   "outputs": [
    {
     "data": {
      "text/plain": [
       "count    15.000000\n",
       "mean      7.000000\n",
       "std       4.472136\n",
       "           ...    \n",
       "50%       7.000000\n",
       "75%      10.500000\n",
       "max      14.000000\n",
       "Name: A, Length: 8, dtype: float64"
      ]
     },
     "execution_count": 37,
     "metadata": {},
     "output_type": "execute_result"
    }
   ],
   "source": [
    "df2['A'].describe()"
   ]
  },
  {
   "cell_type": "code",
   "execution_count": 47,
   "id": "d318afd0",
   "metadata": {},
   "outputs": [
    {
     "data": {
      "text/html": [
       "<div>\n",
       "<style scoped>\n",
       "    .dataframe tbody tr th:only-of-type {\n",
       "        vertical-align: middle;\n",
       "    }\n",
       "\n",
       "    .dataframe tbody tr th {\n",
       "        vertical-align: top;\n",
       "    }\n",
       "\n",
       "    .dataframe thead th {\n",
       "        text-align: right;\n",
       "    }\n",
       "</style>\n",
       "<table border=\"1\" class=\"dataframe\">\n",
       "  <thead>\n",
       "    <tr style=\"text-align: right;\">\n",
       "      <th></th>\n",
       "      <th>Rollno Name</th>\n",
       "    </tr>\n",
       "  </thead>\n",
       "  <tbody>\n",
       "    <tr>\n",
       "      <th>0</th>\n",
       "      <td>1 Aarohi</td>\n",
       "    </tr>\n",
       "    <tr>\n",
       "      <th>1</th>\n",
       "      <td>2 Amyra</td>\n",
       "    </tr>\n",
       "    <tr>\n",
       "      <th>2</th>\n",
       "      <td>3 Neil</td>\n",
       "    </tr>\n",
       "    <tr>\n",
       "      <th>3</th>\n",
       "      <td>4 Nitesh</td>\n",
       "    </tr>\n",
       "  </tbody>\n",
       "</table>\n",
       "</div>"
      ],
      "text/plain": [
       "  Rollno Name\n",
       "0    1 Aarohi\n",
       "1     2 Amyra\n",
       "2      3 Neil\n",
       "3    4 Nitesh"
      ]
     },
     "execution_count": 47,
     "metadata": {},
     "output_type": "execute_result"
    }
   ],
   "source": [
    "#Creating filters/multivalues columns\n",
    "import numpy as np\n",
    "import pandas as pd\n",
    "data = pd.read_csv('varsha.csv')\n",
    "data"
   ]
  },
  {
   "cell_type": "code",
   "execution_count": null,
   "id": "b995e09d",
   "metadata": {},
   "outputs": [],
   "source": []
  }
 ],
 "metadata": {
  "kernelspec": {
   "display_name": "Python 3 (ipykernel)",
   "language": "python",
   "name": "python3"
  },
  "language_info": {
   "codemirror_mode": {
    "name": "ipython",
    "version": 3
   },
   "file_extension": ".py",
   "mimetype": "text/x-python",
   "name": "python",
   "nbconvert_exporter": "python",
   "pygments_lexer": "ipython3",
   "version": "3.9.12"
  }
 },
 "nbformat": 4,
 "nbformat_minor": 5
}
