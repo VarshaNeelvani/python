{
 "cells": [
  {
   "cell_type": "markdown",
   "id": "044b8a0e",
   "metadata": {},
   "source": [
    "# Basic Numpy Module"
   ]
  },
  {
   "cell_type": "code",
   "execution_count": 14,
   "id": "4f2e9671",
   "metadata": {},
   "outputs": [
    {
     "data": {
      "text/plain": [
       "'1.21.5'"
      ]
     },
     "execution_count": 14,
     "metadata": {},
     "output_type": "execute_result"
    }
   ],
   "source": [
    "import numpy as np\n",
    "np.__version__"
   ]
  },
  {
   "cell_type": "code",
   "execution_count": 15,
   "id": "dc1c8bc0",
   "metadata": {},
   "outputs": [
    {
     "name": "stdout",
     "output_type": "stream",
     "text": [
      "[0 1 2 3 4 5 6 7 8 9]\n"
     ]
    },
    {
     "data": {
      "text/plain": [
       "numpy.ndarray"
      ]
     },
     "execution_count": 15,
     "metadata": {},
     "output_type": "execute_result"
    }
   ],
   "source": [
    "x = np.arange(10)\n",
    "print(x)\n",
    "type(x)"
   ]
  },
  {
   "cell_type": "code",
   "execution_count": 16,
   "id": "eb7bdcb3",
   "metadata": {},
   "outputs": [
    {
     "name": "stdout",
     "output_type": "stream",
     "text": [
      "Computationally faster than working with Python Lists\n"
     ]
    },
    {
     "data": {
      "text/plain": [
       "array([         0,          1,          4, ..., 1409465417, 1409665412,\n",
       "       1409865409], dtype=int32)"
      ]
     },
     "execution_count": 16,
     "metadata": {},
     "output_type": "execute_result"
    }
   ],
   "source": [
    "print(\"Computationally faster than working with Python Lists\")\n",
    "y = np.arange(100000)\n",
    "y = y**2\n",
    "y"
   ]
  },
  {
   "cell_type": "code",
   "execution_count": 17,
   "id": "9c9a1a5b",
   "metadata": {},
   "outputs": [
    {
     "name": "stdout",
     "output_type": "stream",
     "text": [
      "['Dog', 'Mammal', 45, 7]\n"
     ]
    }
   ],
   "source": [
    "animal = ['Dog', 'Mammal', 45, 7]\n",
    "print(animal)"
   ]
  },
  {
   "cell_type": "code",
   "execution_count": 18,
   "id": "aa66bfef",
   "metadata": {},
   "outputs": [
    {
     "name": "stdout",
     "output_type": "stream",
     "text": [
      "Data must be all of the same type\n"
     ]
    },
    {
     "data": {
      "text/plain": [
       "array(['Dog', 'Mammal', '45', '7'], dtype='<U11')"
      ]
     },
     "execution_count": 18,
     "metadata": {},
     "output_type": "execute_result"
    }
   ],
   "source": [
    "print(\"Data must be all of the same type\")\n",
    "np.array(animal)"
   ]
  },
  {
   "cell_type": "code",
   "execution_count": 19,
   "id": "e08afd66",
   "metadata": {},
   "outputs": [
    {
     "name": "stdout",
     "output_type": "stream",
     "text": [
      "Array can be n dimensional --but most commonly one two or three dimensional\n",
      "[ 0  1  2  3  4  5  6  7  8  9 10 11 12 13 14 15 16 17 18 19 20 21 22 23\n",
      " 24 25 26]\n"
     ]
    }
   ],
   "source": [
    "print(\"Array can be n dimensional --but most commonly one two or three dimensional\")\n",
    "ndim = np.arange(27)\n",
    "print(ndim)"
   ]
  },
  {
   "cell_type": "code",
   "execution_count": 20,
   "id": "d017225d",
   "metadata": {},
   "outputs": [
    {
     "name": "stdout",
     "output_type": "stream",
     "text": [
      "[[[ 0  1  2]\n",
      "  [ 3  4  5]\n",
      "  [ 6  7  8]]\n",
      "\n",
      " [[ 9 10 11]\n",
      "  [12 13 14]\n",
      "  [15 16 17]]\n",
      "\n",
      " [[18 19 20]\n",
      "  [21 22 23]\n",
      "  [24 25 26]]]\n"
     ]
    }
   ],
   "source": [
    "ndim = np.arange(27).reshape(3,3,3)\n",
    "print(ndim)"
   ]
  },
  {
   "cell_type": "code",
   "execution_count": 21,
   "id": "78e69e82",
   "metadata": {},
   "outputs": [
    {
     "name": "stdout",
     "output_type": "stream",
     "text": [
      "[[[[ 0  1]\n",
      "   [ 2  3]]\n",
      "\n",
      "  [[ 4  5]\n",
      "   [ 6  7]]]\n",
      "\n",
      "\n",
      " [[[ 8  9]\n",
      "   [10 11]]\n",
      "\n",
      "  [[12 13]\n",
      "   [14 15]]]]\n"
     ]
    }
   ],
   "source": [
    "twos = np.arange(16).reshape(2,2,2,2)\n",
    "print(twos)"
   ]
  },
  {
   "cell_type": "code",
   "execution_count": 22,
   "id": "c38f82ed",
   "metadata": {},
   "outputs": [
    {
     "name": "stdout",
     "output_type": "stream",
     "text": [
      "Sometimes its easier to define a data holder before actually getting or generating the data\n",
      "[[1. 1. 1. 1. 1.]\n",
      " [1. 1. 1. 1. 1.]\n",
      " [1. 1. 1. 1. 1.]]\n",
      "\n",
      "[[0. 0. 0. 0. 0.]\n",
      " [0. 0. 0. 0. 0.]\n",
      " [0. 0. 0. 0. 0.]]\n",
      "\n",
      "[[1. 0. 0. 0. 0.]\n",
      " [0. 1. 0. 0. 0.]\n",
      " [0. 0. 1. 0. 0.]]\n"
     ]
    }
   ],
   "source": [
    "print(\"Sometimes its easier to define a data holder before actually getting or generating the data\")\n",
    "print(np.ones((3,5)), end='\\n\\n')\n",
    "print(np.zeros((3,5)), end='\\n\\n')\n",
    "print(np.eye(3,5))"
   ]
  },
  {
   "cell_type": "code",
   "execution_count": 23,
   "id": "9c1f64c8",
   "metadata": {},
   "outputs": [
    {
     "name": "stdout",
     "output_type": "stream",
     "text": [
      "Subsetting can be on one or more dimensions\n",
      "[3 3 9 1 3 8 8 2 6 9 3 7 1 9 4]\n"
     ]
    }
   ],
   "source": [
    "print(\"Subsetting can be on one or more dimensions\")\n",
    "data = np.random.randint(10,size=15)\n",
    "print(data)"
   ]
  },
  {
   "cell_type": "code",
   "execution_count": 24,
   "id": "ca0ef516",
   "metadata": {},
   "outputs": [
    {
     "data": {
      "text/plain": [
       "3"
      ]
     },
     "execution_count": 24,
     "metadata": {},
     "output_type": "execute_result"
    }
   ],
   "source": [
    "data[0]"
   ]
  },
  {
   "cell_type": "code",
   "execution_count": 25,
   "id": "34980d8d",
   "metadata": {},
   "outputs": [
    {
     "data": {
      "text/plain": [
       "array([3, 3, 9])"
      ]
     },
     "execution_count": 25,
     "metadata": {},
     "output_type": "execute_result"
    }
   ],
   "source": [
    "data[:3]"
   ]
  },
  {
   "cell_type": "code",
   "execution_count": 26,
   "id": "c3a15c4b",
   "metadata": {},
   "outputs": [
    {
     "data": {
      "text/plain": [
       "array([1, 3, 8, 8, 2])"
      ]
     },
     "execution_count": 26,
     "metadata": {},
     "output_type": "execute_result"
    }
   ],
   "source": [
    "data[3:8]"
   ]
  },
  {
   "cell_type": "code",
   "execution_count": 27,
   "id": "af912acb",
   "metadata": {},
   "outputs": [
    {
     "data": {
      "text/plain": [
       "array([[3, 3, 9, 1, 3],\n",
       "       [8, 8, 2, 6, 9],\n",
       "       [3, 7, 1, 9, 4]])"
      ]
     },
     "execution_count": 27,
     "metadata": {},
     "output_type": "execute_result"
    }
   ],
   "source": [
    "data = data.reshape(3,5)\n",
    "data"
   ]
  },
  {
   "cell_type": "code",
   "execution_count": 28,
   "id": "4c0bcbf4",
   "metadata": {},
   "outputs": [
    {
     "data": {
      "text/plain": [
       "array([3, 3, 9, 1, 3])"
      ]
     },
     "execution_count": 28,
     "metadata": {},
     "output_type": "execute_result"
    }
   ],
   "source": [
    "data[0]"
   ]
  },
  {
   "cell_type": "code",
   "execution_count": 29,
   "id": "a51e5682",
   "metadata": {},
   "outputs": [
    {
     "data": {
      "text/plain": [
       "array([3, 8, 3])"
      ]
     },
     "execution_count": 29,
     "metadata": {},
     "output_type": "execute_result"
    }
   ],
   "source": [
    "data[:,0]"
   ]
  },
  {
   "cell_type": "code",
   "execution_count": 30,
   "id": "76537c33",
   "metadata": {},
   "outputs": [
    {
     "data": {
      "text/plain": [
       "3"
      ]
     },
     "execution_count": 30,
     "metadata": {},
     "output_type": "execute_result"
    }
   ],
   "source": [
    "data[0,0]"
   ]
  },
  {
   "cell_type": "code",
   "execution_count": 31,
   "id": "5da1283e",
   "metadata": {},
   "outputs": [
    {
     "name": "stdout",
     "output_type": "stream",
     "text": [
      "Creating indirect sorting\n",
      "Argsort returns indices that would sort an array leaves array unchanged\n",
      "[2 4 0 1 3 5]\n",
      "[1 2 3 5 6 7]\n",
      "[3 5 1 6 2 7]\n"
     ]
    }
   ],
   "source": [
    "print(\"Creating indirect sorting\")\n",
    "print(\"Argsort returns indices that would sort an array leaves array unchanged\")\n",
    "x = np.array([3,5,1,6,2,7])\n",
    "print(np.argsort(x))\n",
    "print(x[x.argsort()])\n",
    "print(x)"
   ]
  },
  {
   "cell_type": "code",
   "execution_count": 32,
   "id": "add06cb5",
   "metadata": {},
   "outputs": [
    {
     "name": "stdout",
     "output_type": "stream",
     "text": [
      "You can use it to match up values from separate arrays\n"
     ]
    }
   ],
   "source": [
    "print(\"You can use it to match up values from separate arrays\")\n",
    "grade = np.array([3,5,1,6,2,7])\n",
    "ages = np.array([8,10,6,11,7,12])"
   ]
  },
  {
   "cell_type": "code",
   "execution_count": 33,
   "id": "89189499",
   "metadata": {},
   "outputs": [],
   "source": [
    "sort_index = np.argsort(ages)"
   ]
  },
  {
   "cell_type": "code",
   "execution_count": 34,
   "id": "1d8960f3",
   "metadata": {},
   "outputs": [
    {
     "name": "stdout",
     "output_type": "stream",
     "text": [
      "[1 2 3 5 6 7]\n",
      "[ 6  7  8 10 11 12]\n"
     ]
    }
   ],
   "source": [
    "print(grade[sort_index])\n",
    "print(ages[sort_index])"
   ]
  },
  {
   "cell_type": "code",
   "execution_count": 35,
   "id": "3ed9143b",
   "metadata": {},
   "outputs": [
    {
     "name": "stdout",
     "output_type": "stream",
     "text": [
      "If you want the comma seperators between values\n",
      "[1, 2, 3, 5, 6, 7]\n"
     ]
    }
   ],
   "source": [
    "print(\"If you want the comma seperators between values\")\n",
    "print(list(grade[sort_index]))"
   ]
  },
  {
   "cell_type": "code",
   "execution_count": 36,
   "id": "f4341c28",
   "metadata": {},
   "outputs": [
    {
     "name": "stdout",
     "output_type": "stream",
     "text": [
      "Indirectly sort in descending order\n",
      "[12, 11, 10, 8, 7, 6]\n"
     ]
    }
   ],
   "source": [
    "print(\"Indirectly sort in descending order\")\n",
    "print(list(ages[sort_index])[::-1])"
   ]
  },
  {
   "cell_type": "code",
   "execution_count": 37,
   "id": "38dc4e54",
   "metadata": {
    "scrolled": true
   },
   "outputs": [
    {
     "name": "stdout",
     "output_type": "stream",
     "text": [
      "Working with Random Distributions\n"
     ]
    }
   ],
   "source": [
    "print(\"Working with Random Distributions\")\n",
    "import numpy as np\n",
    "import numpy.random as npr\n",
    "import matplotlib.pyplot as plt"
   ]
  },
  {
   "cell_type": "code",
   "execution_count": 38,
   "id": "7abd80b0",
   "metadata": {
    "scrolled": true
   },
   "outputs": [
    {
     "name": "stdout",
     "output_type": "stream",
     "text": [
      "We can simulate values from a normal distribution\n",
      "{'   0.0178434054'}\n",
      "{'   1.0152915192'}\n"
     ]
    }
   ],
   "source": [
    "print(\"We can simulate values from a normal distribution\")\n",
    "x = npr.standard_normal(5000)\n",
    "print({\"{:15.10f}\".format(x.mean())})\n",
    "print({\"{:15.10f}\".format(x.std())})"
   ]
  },
  {
   "cell_type": "code",
   "execution_count": 13,
   "id": "bb11f152",
   "metadata": {},
   "outputs": [
    {
     "name": "stdout",
     "output_type": "stream",
     "text": [
      "Represent the values roughly normal over/under representation\n",
      "The towers or bars of a histogram are called bins. The height of each bin shows how many values from that data fall into that range. The default value of the number of bins to be created in a histogram is 10. However, we can change the size of bins\n"
     ]
    },
    {
     "data": {
      "text/plain": [
       "(array([  1.,   1.,   1.,   0.,   0.,   1.,   1.,   1.,   8.,   5.,   9.,\n",
       "         17.,  13.,  30.,  28.,  42.,  70.,  93., 100., 150., 180., 210.,\n",
       "        215., 250., 260., 297., 301., 318., 316., 290., 280., 282., 223.,\n",
       "        198., 156., 144., 137., 111.,  62.,  57.,  43.,  33.,  24.,  13.,\n",
       "         11.,   6.,   5.,   2.,   2.,   3.]),\n",
       " array([-4.38171275, -4.22314853, -4.0645843 , -3.90602007, -3.74745584,\n",
       "        -3.58889162, -3.43032739, -3.27176316, -3.11319893, -2.9546347 ,\n",
       "        -2.79607048, -2.63750625, -2.47894202, -2.32037779, -2.16181357,\n",
       "        -2.00324934, -1.84468511, -1.68612088, -1.52755666, -1.36899243,\n",
       "        -1.2104282 , -1.05186397, -0.89329975, -0.73473552, -0.57617129,\n",
       "        -0.41760706, -0.25904283, -0.10047861,  0.05808562,  0.21664985,\n",
       "         0.37521408,  0.5337783 ,  0.69234253,  0.85090676,  1.00947099,\n",
       "         1.16803521,  1.32659944,  1.48516367,  1.6437279 ,  1.80229213,\n",
       "         1.96085635,  2.11942058,  2.27798481,  2.43654904,  2.59511326,\n",
       "         2.75367749,  2.91224172,  3.07080595,  3.22937017,  3.3879344 ,\n",
       "         3.54649863]),\n",
       " <BarContainer object of 50 artists>)"
      ]
     },
     "execution_count": 13,
     "metadata": {},
     "output_type": "execute_result"
    },
    {
     "data": {
      "image/png": "[encoded data removed]",
      "text/plain": [
       "<Figure size 432x288 with 1 Axes>"
      ]
     },
     "metadata": {
      "needs_background": "light"
     },
     "output_type": "display_data"
    }
   ],
   "source": [
    "print(\"Represent the values roughly normal over/under representation\")\n",
    "print(\"The towers or bars of a histogram are called bins. The height of each bin shows how many values from that data fall into that range. The default value of the number of bins to be created in a histogram is 10. However, we can change the size of bins\")\n",
    "plt.hist(x, bins=50)"
   ]
  },
  {
   "cell_type": "code",
   "execution_count": 39,
   "id": "3ad4948d",
   "metadata": {},
   "outputs": [
    {
     "name": "stdout",
     "output_type": "stream",
     "text": [
      "{'  -0.0000000000'}\n",
      "{'   1.0154483030'}\n"
     ]
    }
   ],
   "source": [
    "y = np.concatenate([x, -x])\n",
    "print({\"{:15.10f}\".format(y.mean())})\n",
    "print({\"{:15.10f}\".format(y.std())})"
   ]
  },
  {
   "cell_type": "code",
   "execution_count": 44,
   "id": "ec60cfc5",
   "metadata": {},
   "outputs": [
    {
     "data": {
      "text/plain": [
       "(array([  3.,   1.,   3.,   3.,   5.,   5.,  13.,  20.,  21.,  27.,  56.,\n",
       "         74., 103., 146., 200., 225., 291., 316., 394., 406., 453., 500.,\n",
       "        538., 579., 618., 618., 579., 538., 500., 453., 406., 394., 316.,\n",
       "        291., 225., 200., 146., 103.,  74.,  56.,  27.,  21.,  20.,  13.,\n",
       "          5.,   5.,   3.,   3.,   1.,   3.]),\n",
       " array([-3.80420326, -3.65203513, -3.499867  , -3.34769887, -3.19553074,\n",
       "        -3.04336261, -2.89119448, -2.73902635, -2.58685822, -2.43469009,\n",
       "        -2.28252196, -2.13035383, -1.97818569, -1.82601756, -1.67384943,\n",
       "        -1.5216813 , -1.36951317, -1.21734504, -1.06517691, -0.91300878,\n",
       "        -0.76084065, -0.60867252, -0.45650439, -0.30433626, -0.15216813,\n",
       "         0.        ,  0.15216813,  0.30433626,  0.45650439,  0.60867252,\n",
       "         0.76084065,  0.91300878,  1.06517691,  1.21734504,  1.36951317,\n",
       "         1.5216813 ,  1.67384943,  1.82601756,  1.97818569,  2.13035383,\n",
       "         2.28252196,  2.43469009,  2.58685822,  2.73902635,  2.89119448,\n",
       "         3.04336261,  3.19553074,  3.34769887,  3.499867  ,  3.65203513,\n",
       "         3.80420326]),\n",
       " <BarContainer object of 50 artists>)"
      ]
     },
     "execution_count": 44,
     "metadata": {},
     "output_type": "execute_result"
    },
    {
     "data": {
      "image/png": "[encoded data removed]",
      "text/plain": [
       "<Figure size 432x288 with 1 Axes>"
      ]
     },
     "metadata": {
      "needs_background": "light"
     },
     "output_type": "display_data"
    }
   ],
   "source": [
    "plt.hist(y, bins=50)"
   ]
  },
  {
   "cell_type": "code",
   "execution_count": 45,
   "id": "cdf6c4e2",
   "metadata": {},
   "outputs": [
    {
     "name": "stdout",
     "output_type": "stream",
     "text": [
      "Normalizing data will be a variance of 1\n",
      "{'   1.0154483030'}\n",
      "{'   1.0000000000'}\n",
      "{'  -0.0000000000'}\n"
     ]
    }
   ],
   "source": [
    "print(\"Normalizing data will be a variance of 1\")\n",
    "z = (y-y.mean())/y.std()\n",
    "print({\"{:15.10f}\".format(y.std())})\n",
    "print({\"{:15.10f}\".format(z.std())})\n",
    "print({\"{:15.10f}\".format(z.mean())})"
   ]
  },
  {
   "cell_type": "code",
   "execution_count": 46,
   "id": "3908ef6b",
   "metadata": {},
   "outputs": [
    {
     "name": "stdout",
     "output_type": "stream",
     "text": [
      "To isolate the randomness for sensitivity analysis use a seed value\n"
     ]
    },
    {
     "data": {
      "text/plain": [
       "array([0.28479137, 0.23284104, 0.07934295, 0.65770309, 0.86953021,\n",
       "       0.558536  , 0.06798009, 0.82895809, 0.42847758, 0.58154975])"
      ]
     },
     "execution_count": 46,
     "metadata": {},
     "output_type": "execute_result"
    }
   ],
   "source": [
    "print(\"To isolate the randomness for sensitivity analysis use a seed value\")\n",
    "c = npr.random(10)\n",
    "c"
   ]
  },
  {
   "cell_type": "code",
   "execution_count": 47,
   "id": "a79be1ca",
   "metadata": {},
   "outputs": [
    {
     "data": {
      "text/plain": [
       "array([0.80226205, 0.56799072, 0.88498032, 0.34449624, 0.84720971,\n",
       "       0.02900356, 0.41223333, 0.96048162, 0.68808139, 0.44462541])"
      ]
     },
     "execution_count": 47,
     "metadata": {},
     "output_type": "execute_result"
    }
   ],
   "source": [
    "npr.seed()\n",
    "d = npr.random(10)\n",
    "d"
   ]
  },
  {
   "cell_type": "code",
   "execution_count": 48,
   "id": "252bb269",
   "metadata": {},
   "outputs": [],
   "source": [
    "import numpy as np\n",
    "import numpy.random as npr"
   ]
  },
  {
   "cell_type": "code",
   "execution_count": 49,
   "id": "20a6a52b",
   "metadata": {},
   "outputs": [
    {
     "name": "stdout",
     "output_type": "stream",
     "text": [
      "[ -9  -6   6   2   8   6  -5  -6  -8   1  -7  -7  -8   4   7  -1   5   3\n",
      "  -6  -9  -5   4   0   0  -6   8   3   9   1  -5   5  -5   2  -7  -3   4\n",
      "   6   5  -5  -9   1   1   3   5   5   8  -5  -5   3  -1   6  -4  -9  -8\n",
      "   2   9  -7   0   5   9 -10   2  -8   5   0   6   3  -4  -3   5   6   6\n",
      "  -6  -2   8   9  -5   1  -7  -2  -1  -6  -9   0   2   4  -2   9   2  -5\n",
      "   5  -9  -6   6   5  -9   1  -8   9  -5]\n"
     ]
    }
   ],
   "source": [
    "x = npr.randint(-10,10, size=100)\n",
    "print(x)"
   ]
  },
  {
   "cell_type": "code",
   "execution_count": 50,
   "id": "7045e2da",
   "metadata": {},
   "outputs": [
    {
     "name": "stdout",
     "output_type": "stream",
     "text": [
      "Get observation that meet an upper and lower bound\n"
     ]
    },
    {
     "data": {
      "text/plain": [
       "array([-4, -4,  0,  0,  0,  0, -4, -4, -4,  0, -4, -4, -4,  0,  0, -1,  0,\n",
       "        0, -4, -4, -4,  0,  0,  0, -4,  0,  0,  0,  0, -4,  0, -4,  0, -4,\n",
       "       -3,  0,  0,  0, -4, -4,  0,  0,  0,  0,  0,  0, -4, -4,  0, -1,  0,\n",
       "       -4, -4, -4,  0,  0, -4,  0,  0,  0, -4,  0, -4,  0,  0,  0,  0, -4,\n",
       "       -3,  0,  0,  0, -4, -2,  0,  0, -4,  0, -4, -2, -1, -4, -4,  0,  0,\n",
       "        0, -2,  0,  0, -4,  0, -4, -4,  0,  0, -4,  0, -4,  0, -4])"
      ]
     },
     "execution_count": 50,
     "metadata": {},
     "output_type": "execute_result"
    }
   ],
   "source": [
    "print(\"Get observation that meet an upper and lower bound\")\n",
    "np.clip(x,-4,0)"
   ]
  },
  {
   "cell_type": "code",
   "execution_count": 51,
   "id": "2402b77e",
   "metadata": {},
   "outputs": [
    {
     "name": "stdout",
     "output_type": "stream",
     "text": [
      "Replace observations with a threshold value\n",
      "Replace negative value with zero\n"
     ]
    },
    {
     "data": {
      "text/plain": [
       "array([0, 0, 6, 2, 8, 6, 0, 0, 0, 1, 0, 0, 0, 4, 7, 0, 5, 3, 0, 0, 0, 4,\n",
       "       0, 0, 0, 8, 3, 9, 1, 0, 5, 0, 2, 0, 0, 4, 6, 5, 0, 0, 1, 1, 3, 5,\n",
       "       5, 8, 0, 0, 3, 0, 6, 0, 0, 0, 2, 9, 0, 0, 5, 9, 0, 2, 0, 5, 0, 6,\n",
       "       3, 0, 0, 5, 6, 6, 0, 0, 8, 9, 0, 1, 0, 0, 0, 0, 0, 0, 2, 4, 0, 9,\n",
       "       2, 0, 5, 0, 0, 6, 5, 0, 1, 0, 9, 0])"
      ]
     },
     "execution_count": 51,
     "metadata": {},
     "output_type": "execute_result"
    }
   ],
   "source": [
    "print(\"Replace observations with a threshold value\")\n",
    "print(\"Replace negative value with zero\")\n",
    "x.clip(0)"
   ]
  },
  {
   "cell_type": "code",
   "execution_count": 55,
   "id": "5a61f4a5",
   "metadata": {},
   "outputs": [
    {
     "name": "stdout",
     "output_type": "stream",
     "text": [
      "Random Sampling\n"
     ]
    },
    {
     "data": {
      "text/plain": [
       "<function print>"
      ]
     },
     "execution_count": 55,
     "metadata": {},
     "output_type": "execute_result"
    }
   ],
   "source": [
    "print(\"Random Sampling\")\n",
    "y = npr.randint(1000, size=100)\n",
    "print"
   ]
  },
  {
   "cell_type": "code",
   "execution_count": 53,
   "id": "9fe3e7b7",
   "metadata": {},
   "outputs": [
    {
     "data": {
      "text/plain": [
       "array([924, 676, 102, 361, 410,  77, 869, 267, 703, 255, 659, 900, 642,\n",
       "       796,  38, 363, 892, 209, 963, 297])"
      ]
     },
     "execution_count": 53,
     "metadata": {},
     "output_type": "execute_result"
    }
   ],
   "source": [
    "npr.choice(y,20)"
   ]
  },
  {
   "cell_type": "code",
   "execution_count": 56,
   "id": "3a4ee81c",
   "metadata": {},
   "outputs": [
    {
     "data": {
      "text/plain": [
       "array([764, 884, 294, 894, 127, 164, 374, 650, 919, 419, 192, 358, 138,\n",
       "        33, 186, 388, 961, 266, 293, 589])"
      ]
     },
     "execution_count": 56,
     "metadata": {},
     "output_type": "execute_result"
    }
   ],
   "source": [
    "npr.choice(y,20, replace=False)"
   ]
  },
  {
   "cell_type": "code",
   "execution_count": 57,
   "id": "b5d973d5",
   "metadata": {},
   "outputs": [
    {
     "name": "stdout",
     "output_type": "stream",
     "text": [
      "Choice can also be used to generate a non-uniform probabilty distribution\n",
      "getting one value out of 1 to 7 i.e prob 1 is 0.2 and so on \n"
     ]
    },
    {
     "data": {
      "text/plain": [
       "array([-0.26232869, -0.7045062 ,  0.99751406, ..., -0.03570604,\n",
       "        0.78801208, -0.1280171 ])"
      ]
     },
     "execution_count": 57,
     "metadata": {},
     "output_type": "execute_result"
    }
   ],
   "source": [
    "print(\"Choice can also be used to generate a non-uniform probabilty distribution\")\n",
    "print(\"getting one value out of 1 to 7 i.e prob 1 is 0.2 and so on \")\n",
    "npr.choice(np.arange(1,7), 1, p=[.2, .1 , .3, .15, .05, .2])\n",
    "npr.standard_normal(5000)"
   ]
  },
  {
   "cell_type": "code",
   "execution_count": 58,
   "id": "06f26747",
   "metadata": {},
   "outputs": [
    {
     "name": "stdout",
     "output_type": "stream",
     "text": [
      "Stable sample\n"
     ]
    }
   ],
   "source": [
    "print(\"Stable sample\")\n",
    "z = npr.random(100)\n",
    "sample = np.argsort(z)"
   ]
  },
  {
   "cell_type": "code",
   "execution_count": 59,
   "id": "dd2e99dc",
   "metadata": {},
   "outputs": [
    {
     "name": "stdout",
     "output_type": "stream",
     "text": [
      "Getting sorted random number\n"
     ]
    },
    {
     "data": {
      "text/plain": [
       "array([0.0182608 , 0.01908059, 0.03385928, 0.03631223, 0.06181544,\n",
       "       0.07440717, 0.07742262, 0.0872818 , 0.11133778, 0.12649107,\n",
       "       0.12807661, 0.15443858, 0.17036814, 0.17040881, 0.1732385 ,\n",
       "       0.17599054, 0.17651566, 0.18145921, 0.19239608, 0.21267093,\n",
       "       0.22185076, 0.22253875, 0.23971589, 0.2483578 , 0.25046562,\n",
       "       0.26829819, 0.29232528, 0.29417081, 0.29439766, 0.30102512,\n",
       "       0.31199208, 0.31587491, 0.31967322, 0.32715078, 0.33417344,\n",
       "       0.33542346, 0.34522677, 0.34666766, 0.35262867, 0.35980833,\n",
       "       0.36386257, 0.37632715, 0.3801947 , 0.38292463, 0.38658823,\n",
       "       0.40605072, 0.42143916, 0.42578614, 0.44542913, 0.44671255,\n",
       "       0.46297351, 0.47934965, 0.47948187, 0.48200696, 0.53472927,\n",
       "       0.53555589, 0.5368393 , 0.54995133, 0.57036347, 0.57206459,\n",
       "       0.58378909, 0.58670639, 0.61959199, 0.62188801, 0.63955423,\n",
       "       0.65201693, 0.65665902, 0.66165212, 0.66281097, 0.71876498,\n",
       "       0.73106737, 0.73195385, 0.76926822, 0.78630564, 0.79257152,\n",
       "       0.80635764, 0.80681347, 0.81604524, 0.81715233, 0.81988412,\n",
       "       0.84863698, 0.85599314, 0.86258564, 0.86900947, 0.88615693,\n",
       "       0.88722754, 0.89902381, 0.91506982, 0.9185415 , 0.92067734,\n",
       "       0.92886928, 0.93577353, 0.94296971, 0.94758219, 0.97269532,\n",
       "       0.97643354, 0.98326185, 0.98464171, 0.99923877, 0.99994998])"
      ]
     },
     "execution_count": 59,
     "metadata": {},
     "output_type": "execute_result"
    }
   ],
   "source": [
    "print(\"Getting sorted random number\")\n",
    "z[sample]"
   ]
  },
  {
   "cell_type": "code",
   "execution_count": 60,
   "id": "bdfe81eb",
   "metadata": {},
   "outputs": [
    {
     "name": "stdout",
     "output_type": "stream",
     "text": [
      "Getting sorted random number of 20\n"
     ]
    },
    {
     "data": {
      "text/plain": [
       "array([0.0182608 , 0.01908059, 0.03385928, 0.03631223, 0.06181544,\n",
       "       0.07440717, 0.07742262, 0.0872818 , 0.11133778, 0.12649107,\n",
       "       0.12807661, 0.15443858, 0.17036814, 0.17040881, 0.1732385 ,\n",
       "       0.17599054, 0.17651566, 0.18145921, 0.19239608, 0.21267093])"
      ]
     },
     "execution_count": 60,
     "metadata": {},
     "output_type": "execute_result"
    }
   ],
   "source": [
    "print(\"Getting sorted random number of 20\")\n",
    "z[sample] [:20]"
   ]
  },
  {
   "cell_type": "code",
   "execution_count": 61,
   "id": "769ae43f",
   "metadata": {},
   "outputs": [
    {
     "name": "stdout",
     "output_type": "stream",
     "text": [
      "To get a stable sampling\n"
     ]
    },
    {
     "data": {
      "text/plain": [
       "array([103, 792, 545,  36, 274,  95, 961, 206, 150, 358, 894, 419, 802,\n",
       "       986,  23, 127, 402,  71, 222,  99])"
      ]
     },
     "execution_count": 61,
     "metadata": {},
     "output_type": "execute_result"
    }
   ],
   "source": [
    "print(\"To get a stable sampling\")\n",
    "y[sample][:20]"
   ]
  },
  {
   "cell_type": "code",
   "execution_count": 62,
   "id": "995c409a",
   "metadata": {},
   "outputs": [
    {
     "name": "stdout",
     "output_type": "stream",
     "text": [
      "Finding Unique Values and Insertion Point\n"
     ]
    }
   ],
   "source": [
    "print(\"Finding Unique Values and Insertion Point\")\n",
    "import numpy as np\n",
    "import numpy.random as npr\n",
    "from itertools import combinations"
   ]
  },
  {
   "cell_type": "code",
   "execution_count": 63,
   "id": "d2cabb96",
   "metadata": {},
   "outputs": [
    {
     "data": {
      "text/plain": [
       "['ABC', 'ABD', 'ABE', 'ABF', 'ABG']"
      ]
     },
     "execution_count": 63,
     "metadata": {},
     "output_type": "execute_result"
    }
   ],
   "source": [
    "available = [x[0] + x[1] + x[2] for x in combinations(\"ABCDEFGHIJKLM\", 3)]\n",
    "available[:5]"
   ]
  },
  {
   "cell_type": "code",
   "execution_count": 64,
   "id": "d263aab7",
   "metadata": {},
   "outputs": [
    {
     "data": {
      "text/plain": [
       "array(['DFJ', 'DKM', 'CDJ', 'BFL', 'DIK', 'BIM', 'AEL', 'FGM', 'DJK',\n",
       "       'BDE', 'CGL', 'EHJ', 'AGI', 'AEJ', 'EHM', 'ACJ', 'BDG', 'BIK',\n",
       "       'DFJ', 'CEI', 'EGM', 'CKM', 'HJK', 'BDK', 'DJL', 'AGL', 'BGM',\n",
       "       'ADL', 'AEK', 'DIJ', 'GIL', 'BCE', 'BJM', 'EIM', 'AEM', 'BGH',\n",
       "       'DHL', 'GHK', 'DIJ', 'DLM', 'AEM', 'FKM', 'BKM', 'AFL', 'DEI',\n",
       "       'AEG', 'FHL', 'FGL', 'BEF', 'CDH', 'ILM', 'DJM', 'AJM', 'FIK',\n",
       "       'DFG', 'DIM', 'ABE', 'DFJ', 'HIK', 'DHI'], dtype='<U3')"
      ]
     },
     "execution_count": 64,
     "metadata": {},
     "output_type": "execute_result"
    }
   ],
   "source": [
    "available = [x[0] + x[1] + x[2] for x in combinations(\"ABCDEFGHIJKLM\", 3)]\n",
    "symbols = npr.choice(available, 60)\n",
    "symbols"
   ]
  },
  {
   "cell_type": "code",
   "execution_count": 65,
   "id": "00bb3850",
   "metadata": {},
   "outputs": [
    {
     "name": "stdout",
     "output_type": "stream",
     "text": [
      "Return sorted array of unique observations\n"
     ]
    },
    {
     "data": {
      "text/plain": [
       "array(['ABE', 'ACJ', 'ADL', 'AEG', 'AEJ', 'AEK', 'AEL', 'AEM', 'AFL',\n",
       "       'AGI', 'AGL', 'AJM', 'BCE', 'BDE', 'BDG', 'BDK', 'BEF', 'BFL',\n",
       "       'BGH', 'BGM', 'BIK', 'BIM', 'BJM', 'BKM', 'CDH', 'CDJ', 'CEI',\n",
       "       'CGL', 'CKM', 'DEI', 'DFG', 'DFJ', 'DHI', 'DHL', 'DIJ', 'DIK',\n",
       "       'DIM', 'DJK', 'DJL', 'DJM', 'DKM', 'DLM', 'EGM', 'EHJ', 'EHM',\n",
       "       'EIM', 'FGL', 'FGM', 'FHL', 'FIK', 'FKM', 'GHK', 'GIL', 'HIK',\n",
       "       'HJK', 'ILM'], dtype='<U3')"
      ]
     },
     "execution_count": 65,
     "metadata": {},
     "output_type": "execute_result"
    }
   ],
   "source": [
    "print(\"Return sorted array of unique observations\")\n",
    "np.unique(symbols)"
   ]
  },
  {
   "cell_type": "code",
   "execution_count": 66,
   "id": "5e6b869e",
   "metadata": {},
   "outputs": [
    {
     "data": {
      "text/plain": [
       "56"
      ]
     },
     "execution_count": 66,
     "metadata": {},
     "output_type": "execute_result"
    }
   ],
   "source": [
    "len(np.unique(symbols))"
   ]
  },
  {
   "cell_type": "code",
   "execution_count": 67,
   "id": "5d8482a0",
   "metadata": {},
   "outputs": [
    {
     "name": "stdout",
     "output_type": "stream",
     "text": [
      "Returns sorted array and index where obseration occurred\n"
     ]
    },
    {
     "data": {
      "text/plain": [
       "(array(['ABE', 'ACJ', 'ADL', 'AEG', 'AEJ', 'AEK', 'AEL', 'AEM', 'AFL',\n",
       "        'AGI', 'AGL', 'AJM', 'BCE', 'BDE', 'BDG', 'BDK', 'BEF', 'BFL',\n",
       "        'BGH', 'BGM', 'BIK', 'BIM', 'BJM', 'BKM', 'CDH', 'CDJ', 'CEI',\n",
       "        'CGL', 'CKM', 'DEI', 'DFG', 'DFJ', 'DHI', 'DHL', 'DIJ', 'DIK',\n",
       "        'DIM', 'DJK', 'DJL', 'DJM', 'DKM', 'DLM', 'EGM', 'EHJ', 'EHM',\n",
       "        'EIM', 'FGL', 'FGM', 'FHL', 'FIK', 'FKM', 'GHK', 'GIL', 'HIK',\n",
       "        'HJK', 'ILM'], dtype='<U3'),\n",
       " array([56, 15, 27, 45, 13, 28,  6, 34, 43, 12, 25, 52, 31,  9, 16, 23, 48,\n",
       "         3, 35, 26, 17,  5, 32, 42, 49,  2, 19, 10, 21, 44, 54,  0, 59, 36,\n",
       "        29,  4, 55,  8, 24, 51,  1, 39, 20, 11, 14, 33, 47,  7, 46, 53, 41,\n",
       "        37, 30, 58, 22, 50], dtype=int64))"
      ]
     },
     "execution_count": 67,
     "metadata": {},
     "output_type": "execute_result"
    }
   ],
   "source": [
    "print(\"Returns sorted array and index where obseration occurred\")\n",
    "np.unique(symbols,return_index=True)"
   ]
  },
  {
   "cell_type": "code",
   "execution_count": 68,
   "id": "71474e93",
   "metadata": {},
   "outputs": [
    {
     "name": "stdout",
     "output_type": "stream",
     "text": [
      "Returns sorted array and index where obseration occurred\n"
     ]
    },
    {
     "data": {
      "text/plain": [
       "(array(['ABE', 'ACJ', 'ADL', 'AEG', 'AEJ', 'AEK', 'AEL', 'AEM', 'AFL',\n",
       "        'AGI', 'AGL', 'AJM', 'BCE', 'BDE', 'BDG', 'BDK', 'BEF', 'BFL',\n",
       "        'BGH', 'BGM', 'BIK', 'BIM', 'BJM', 'BKM', 'CDH', 'CDJ', 'CEI',\n",
       "        'CGL', 'CKM', 'DEI', 'DFG', 'DFJ', 'DHI', 'DHL', 'DIJ', 'DIK',\n",
       "        'DIM', 'DJK', 'DJL', 'DJM', 'DKM', 'DLM', 'EGM', 'EHJ', 'EHM',\n",
       "        'EIM', 'FGL', 'FGM', 'FHL', 'FIK', 'FKM', 'GHK', 'GIL', 'HIK',\n",
       "        'HJK', 'ILM'], dtype='<U3'),\n",
       " array([56, 15, 27, 45, 13, 28,  6, 34, 43, 12, 25, 52, 31,  9, 16, 23, 48,\n",
       "         3, 35, 26, 17,  5, 32, 42, 49,  2, 19, 10, 21, 44, 54,  0, 59, 36,\n",
       "        29,  4, 55,  8, 24, 51,  1, 39, 20, 11, 14, 33, 47,  7, 46, 53, 41,\n",
       "        37, 30, 58, 22, 50], dtype=int64))"
      ]
     },
     "execution_count": 68,
     "metadata": {},
     "output_type": "execute_result"
    }
   ],
   "source": [
    "print(\"Returns sorted array and index where obseration occurred\")\n",
    "np.unique(symbols,return_index=True)"
   ]
  },
  {
   "cell_type": "code",
   "execution_count": 69,
   "id": "ac0b8b40",
   "metadata": {},
   "outputs": [
    {
     "name": "stdout",
     "output_type": "stream",
     "text": [
      "return_inverse\n"
     ]
    }
   ],
   "source": [
    "print(\"return_inverse\")\n",
    "unique, index = np.unique(symbols, return_inverse=True)"
   ]
  },
  {
   "cell_type": "code",
   "execution_count": 70,
   "id": "bedf816a",
   "metadata": {},
   "outputs": [
    {
     "name": "stdout",
     "output_type": "stream",
     "text": [
      "To get original unsorted array\n"
     ]
    },
    {
     "data": {
      "text/plain": [
       "array(['DFJ', 'DKM', 'CDJ', 'BFL', 'DIK', 'BIM', 'AEL', 'FGM', 'DJK',\n",
       "       'BDE', 'CGL', 'EHJ', 'AGI', 'AEJ', 'EHM', 'ACJ', 'BDG', 'BIK',\n",
       "       'DFJ', 'CEI', 'EGM', 'CKM', 'HJK', 'BDK', 'DJL', 'AGL', 'BGM',\n",
       "       'ADL', 'AEK', 'DIJ', 'GIL', 'BCE', 'BJM', 'EIM', 'AEM', 'BGH',\n",
       "       'DHL', 'GHK', 'DIJ', 'DLM', 'AEM', 'FKM', 'BKM', 'AFL', 'DEI',\n",
       "       'AEG', 'FHL', 'FGL', 'BEF', 'CDH', 'ILM', 'DJM', 'AJM', 'FIK',\n",
       "       'DFG', 'DIM', 'ABE', 'DFJ', 'HIK', 'DHI'], dtype='<U3')"
      ]
     },
     "execution_count": 70,
     "metadata": {},
     "output_type": "execute_result"
    }
   ],
   "source": [
    "print(\"To get original unsorted array\")\n",
    "unique[index]"
   ]
  },
  {
   "cell_type": "code",
   "execution_count": 71,
   "id": "b7a5b8bb",
   "metadata": {},
   "outputs": [
    {
     "name": "stdout",
     "output_type": "stream",
     "text": [
      "Return counts of observations\n"
     ]
    },
    {
     "data": {
      "text/plain": [
       "(array(['ABE', 'ACJ', 'ADL', 'AEG', 'AEJ', 'AEK', 'AEL', 'AEM', 'AFL',\n",
       "        'AGI', 'AGL', 'AJM', 'BCE', 'BDE', 'BDG', 'BDK', 'BEF', 'BFL',\n",
       "        'BGH', 'BGM', 'BIK', 'BIM', 'BJM', 'BKM', 'CDH', 'CDJ', 'CEI',\n",
       "        'CGL', 'CKM', 'DEI', 'DFG', 'DFJ', 'DHI', 'DHL', 'DIJ', 'DIK',\n",
       "        'DIM', 'DJK', 'DJL', 'DJM', 'DKM', 'DLM', 'EGM', 'EHJ', 'EHM',\n",
       "        'EIM', 'FGL', 'FGM', 'FHL', 'FIK', 'FKM', 'GHK', 'GIL', 'HIK',\n",
       "        'HJK', 'ILM'], dtype='<U3'),\n",
       " array([1, 1, 1, 1, 1, 1, 1, 2, 1, 1, 1, 1, 1, 1, 1, 1, 1, 1, 1, 1, 1, 1,\n",
       "        1, 1, 1, 1, 1, 1, 1, 1, 1, 3, 1, 1, 2, 1, 1, 1, 1, 1, 1, 1, 1, 1,\n",
       "        1, 1, 1, 1, 1, 1, 1, 1, 1, 1, 1, 1], dtype=int64))"
      ]
     },
     "execution_count": 71,
     "metadata": {},
     "output_type": "execute_result"
    }
   ],
   "source": [
    "print(\"Return counts of observations\")\n",
    "np.unique(symbols, return_counts=True)"
   ]
  },
  {
   "cell_type": "code",
   "execution_count": 72,
   "id": "6e8103f7",
   "metadata": {},
   "outputs": [
    {
     "name": "stdout",
     "output_type": "stream",
     "text": [
      "Return the index where a value should be inserted to maintain order in sorted array\n"
     ]
    },
    {
     "data": {
      "text/plain": [
       "29"
      ]
     },
     "execution_count": 72,
     "metadata": {},
     "output_type": "execute_result"
    }
   ],
   "source": [
    "print(\"Return the index where a value should be inserted to maintain order in sorted array\")\n",
    "np.searchsorted(symbols, \"BFD\")"
   ]
  },
  {
   "cell_type": "code",
   "execution_count": 73,
   "id": "b028a04e",
   "metadata": {},
   "outputs": [
    {
     "data": {
      "text/plain": [
       "array([29, 16, 60], dtype=int64)"
      ]
     },
     "execution_count": 73,
     "metadata": {},
     "output_type": "execute_result"
    }
   ],
   "source": [
    "np.searchsorted(symbols, ['BFD', 'AKA', 'IMO'])"
   ]
  }
 ],
 "metadata": {
  "kernelspec": {
   "display_name": "Python 3 (ipykernel)",
   "language": "python",
   "name": "python3"
  },
  "language_info": {
   "codemirror_mode": {
    "name": "ipython",
    "version": 3
   },
   "file_extension": ".py",
   "mimetype": "text/x-python",
   "name": "python",
   "nbconvert_exporter": "python",
   "pygments_lexer": "ipython3",
   "version": "3.9.12"
  }
 },
 "nbformat": 4,
 "nbformat_minor": 5
}
