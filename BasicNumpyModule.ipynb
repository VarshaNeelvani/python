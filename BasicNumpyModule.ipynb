{
 "cells": [
  {
   "cell_type": "markdown",
   "id": "0891f423",
   "metadata": {},
   "source": [
    "# Basic Numpy Module"
   ]
  },
  {
   "cell_type": "code",
   "execution_count": 1,
   "id": "8513216a",
   "metadata": {},
   "outputs": [
    {
     "data": {
      "text/plain": [
       "'1.21.5'"
      ]
     },
     "execution_count": 1,
     "metadata": {},
     "output_type": "execute_result"
    }
   ],
   "source": [
    "import numpy as np\n",
    "np.__version__"
   ]
  },
  {
   "cell_type": "code",
   "execution_count": 2,
   "id": "347f2f9c",
   "metadata": {},
   "outputs": [
    {
     "name": "stdout",
     "output_type": "stream",
     "text": [
      "[0 1 2 3 4 5 6 7 8 9]\n"
     ]
    },
    {
     "data": {
      "text/plain": [
       "numpy.ndarray"
      ]
     },
     "execution_count": 2,
     "metadata": {},
     "output_type": "execute_result"
    }
   ],
   "source": [
    "x = np.arange(10)\n",
    "print(x)\n",
    "type(x)"
   ]
  },
  {
   "cell_type": "code",
   "execution_count": 3,
   "id": "3cae4e5a",
   "metadata": {},
   "outputs": [
    {
     "name": "stdout",
     "output_type": "stream",
     "text": [
      "Computationally faster than working with Python Lists\n"
     ]
    },
    {
     "data": {
      "text/plain": [
       "array([         0,          1,          4, ..., 1409465417, 1409665412,\n",
       "       1409865409], dtype=int32)"
      ]
     },
     "execution_count": 3,
     "metadata": {},
     "output_type": "execute_result"
    }
   ],
   "source": [
    "print(\"Computationally faster than working with Python Lists\")\n",
    "y = np.arange(100000)\n",
    "y = y**2\n",
    "y"
   ]
  },
  {
   "cell_type": "code",
   "execution_count": 4,
   "id": "89a807e8",
   "metadata": {},
   "outputs": [
    {
     "name": "stdout",
     "output_type": "stream",
     "text": [
      "['Dog', 'Mammal', 45, 7]\n"
     ]
    }
   ],
   "source": [
    "animal = ['Dog', 'Mammal', 45, 7]\n",
    "print(animal)"
   ]
  },
  {
   "cell_type": "code",
   "execution_count": 5,
   "id": "1b14bb01",
   "metadata": {},
   "outputs": [
    {
     "name": "stdout",
     "output_type": "stream",
     "text": [
      "Data must be all of the same type\n"
     ]
    },
    {
     "data": {
      "text/plain": [
       "array(['Dog', 'Mammal', '45', '7'], dtype='<U11')"
      ]
     },
     "execution_count": 5,
     "metadata": {},
     "output_type": "execute_result"
    }
   ],
   "source": [
    "print(\"Data must be all of the same type\")\n",
    "np.array(animal)"
   ]
  },
  {
   "cell_type": "code",
   "execution_count": 6,
   "id": "d24faf11",
   "metadata": {},
   "outputs": [
    {
     "name": "stdout",
     "output_type": "stream",
     "text": [
      "Array can be n dimensional --but most commonly one two or three dimensional\n",
      "[ 0  1  2  3  4  5  6  7  8  9 10 11 12 13 14 15 16 17 18 19 20 21 22 23\n",
      " 24 25 26]\n"
     ]
    }
   ],
   "source": [
    "print(\"Array can be n dimensional --but most commonly one two or three dimensional\")\n",
    "ndim = np.arange(27)\n",
    "print(ndim)"
   ]
  },
  {
   "cell_type": "code",
   "execution_count": 8,
   "id": "4ba8bc42",
   "metadata": {},
   "outputs": [
    {
     "name": "stdout",
     "output_type": "stream",
     "text": [
      "[[[ 0  1  2]\n",
      "  [ 3  4  5]\n",
      "  [ 6  7  8]]\n",
      "\n",
      " [[ 9 10 11]\n",
      "  [12 13 14]\n",
      "  [15 16 17]]\n",
      "\n",
      " [[18 19 20]\n",
      "  [21 22 23]\n",
      "  [24 25 26]]]\n"
     ]
    }
   ],
   "source": [
    "ndim = np.arange(27).reshape(3,3,3)\n",
    "print(ndim)"
   ]
  },
  {
   "cell_type": "code",
   "execution_count": 9,
   "id": "00c8c4ce",
   "metadata": {},
   "outputs": [
    {
     "name": "stdout",
     "output_type": "stream",
     "text": [
      "[[[[ 0  1]\n",
      "   [ 2  3]]\n",
      "\n",
      "  [[ 4  5]\n",
      "   [ 6  7]]]\n",
      "\n",
      "\n",
      " [[[ 8  9]\n",
      "   [10 11]]\n",
      "\n",
      "  [[12 13]\n",
      "   [14 15]]]]\n"
     ]
    }
   ],
   "source": [
    "twos = np.arange(16).reshape(2,2,2,2)\n",
    "print(twos)"
   ]
  },
  {
   "cell_type": "code",
   "execution_count": 10,
   "id": "38a7492e",
   "metadata": {},
   "outputs": [
    {
     "name": "stdout",
     "output_type": "stream",
     "text": [
      "Sometimes its easier to define a data holder before actually getting or generating the data\n",
      "[[1. 1. 1. 1. 1.]\n",
      " [1. 1. 1. 1. 1.]\n",
      " [1. 1. 1. 1. 1.]]\n",
      "\n",
      "[[0. 0. 0. 0. 0.]\n",
      " [0. 0. 0. 0. 0.]\n",
      " [0. 0. 0. 0. 0.]]\n",
      "\n",
      "[[1. 0. 0. 0. 0.]\n",
      " [0. 1. 0. 0. 0.]\n",
      " [0. 0. 1. 0. 0.]]\n"
     ]
    }
   ],
   "source": [
    "print(\"Sometimes its easier to define a data holder before actually getting or generating the data\")\n",
    "print(np.ones((3,5)), end='\\n\\n')\n",
    "print(np.zeros((3,5)), end='\\n\\n')\n",
    "print(np.eye(3,5))"
   ]
  },
  {
   "cell_type": "code",
   "execution_count": 11,
   "id": "4796e3d4",
   "metadata": {},
   "outputs": [
    {
     "name": "stdout",
     "output_type": "stream",
     "text": [
      "Subsetting can be on one or more dimensions\n",
      "[1 3 6 2 7 3 9 5 3 8 7 7 7 2 0]\n"
     ]
    }
   ],
   "source": [
    "print(\"Subsetting can be on one or more dimensions\")\n",
    "data = np.random.randint(10,size=15)\n",
    "print(data)"
   ]
  },
  {
   "cell_type": "code",
   "execution_count": 12,
   "id": "6735a78a",
   "metadata": {},
   "outputs": [
    {
     "data": {
      "text/plain": [
       "1"
      ]
     },
     "execution_count": 12,
     "metadata": {},
     "output_type": "execute_result"
    }
   ],
   "source": [
    "data[0]"
   ]
  },
  {
   "cell_type": "code",
   "execution_count": 13,
   "id": "b9aca512",
   "metadata": {},
   "outputs": [
    {
     "data": {
      "text/plain": [
       "array([1, 3, 6])"
      ]
     },
     "execution_count": 13,
     "metadata": {},
     "output_type": "execute_result"
    }
   ],
   "source": [
    "data[:3]"
   ]
  },
  {
   "cell_type": "code",
   "execution_count": 14,
   "id": "c466aa43",
   "metadata": {},
   "outputs": [
    {
     "data": {
      "text/plain": [
       "array([2, 7, 3, 9, 5])"
      ]
     },
     "execution_count": 14,
     "metadata": {},
     "output_type": "execute_result"
    }
   ],
   "source": [
    "data[3:8]"
   ]
  },
  {
   "cell_type": "code",
   "execution_count": 16,
   "id": "06fb5fdf",
   "metadata": {},
   "outputs": [
    {
     "data": {
      "text/plain": [
       "array([[1, 3, 6, 2, 7],\n",
       "       [3, 9, 5, 3, 8],\n",
       "       [7, 7, 7, 2, 0]])"
      ]
     },
     "execution_count": 16,
     "metadata": {},
     "output_type": "execute_result"
    }
   ],
   "source": [
    "data = data.reshape(3,5)\n",
    "data"
   ]
  },
  {
   "cell_type": "code",
   "execution_count": 17,
   "id": "a20631f3",
   "metadata": {},
   "outputs": [
    {
     "data": {
      "text/plain": [
       "array([1, 3, 6, 2, 7])"
      ]
     },
     "execution_count": 17,
     "metadata": {},
     "output_type": "execute_result"
    }
   ],
   "source": [
    "data[0]"
   ]
  },
  {
   "cell_type": "code",
   "execution_count": 18,
   "id": "8d304274",
   "metadata": {},
   "outputs": [
    {
     "data": {
      "text/plain": [
       "array([1, 3, 7])"
      ]
     },
     "execution_count": 18,
     "metadata": {},
     "output_type": "execute_result"
    }
   ],
   "source": [
    "data[:,0]"
   ]
  },
  {
   "cell_type": "code",
   "execution_count": 19,
   "id": "3983a6df",
   "metadata": {},
   "outputs": [
    {
     "data": {
      "text/plain": [
       "1"
      ]
     },
     "execution_count": 19,
     "metadata": {},
     "output_type": "execute_result"
    }
   ],
   "source": [
    "data[0,0]"
   ]
  },
  {
   "cell_type": "code",
   "execution_count": 20,
   "id": "4ba53ee1",
   "metadata": {},
   "outputs": [
    {
     "name": "stdout",
     "output_type": "stream",
     "text": [
      "Creating indirect sorting\n",
      "Argsort returns indices that would sort an array leaves array unchanged\n",
      "[2 4 0 1 3 5]\n",
      "[1 2 3 5 6 7]\n",
      "[3 5 1 6 2 7]\n"
     ]
    }
   ],
   "source": [
    "print(\"Creating indirect sorting\")\n",
    "print(\"Argsort returns indices that would sort an array leaves array unchanged\")\n",
    "x = np.array([3,5,1,6,2,7])\n",
    "print(np.argsort(x))\n",
    "print(x[x.argsort()])\n",
    "print(x)"
   ]
  },
  {
   "cell_type": "code",
   "execution_count": 21,
   "id": "7731141b",
   "metadata": {},
   "outputs": [
    {
     "name": "stdout",
     "output_type": "stream",
     "text": [
      "You can use it to match up values from separate arrays\n"
     ]
    }
   ],
   "source": [
    "print(\"You can use it to match up values from separate arrays\")\n",
    "grade = np.array([3,5,1,6,2,7])\n",
    "ages = np.array([8,10,6,11,7,12])"
   ]
  },
  {
   "cell_type": "code",
   "execution_count": 22,
   "id": "6c5aceed",
   "metadata": {},
   "outputs": [],
   "source": [
    "sort_index = np.argsort(ages)"
   ]
  },
  {
   "cell_type": "code",
   "execution_count": 23,
   "id": "ee700e84",
   "metadata": {},
   "outputs": [
    {
     "name": "stdout",
     "output_type": "stream",
     "text": [
      "[1 2 3 5 6 7]\n",
      "[ 6  7  8 10 11 12]\n"
     ]
    }
   ],
   "source": [
    "print(grade[sort_index])\n",
    "print(ages[sort_index])"
   ]
  },
  {
   "cell_type": "code",
   "execution_count": 24,
   "id": "f2103ab0",
   "metadata": {},
   "outputs": [
    {
     "name": "stdout",
     "output_type": "stream",
     "text": [
      "If you want the comma seperators between values\n",
      "[1, 2, 3, 5, 6, 7]\n"
     ]
    }
   ],
   "source": [
    "print(\"If you want the comma seperators between values\")\n",
    "print(list(grade[sort_index]))"
   ]
  },
  {
   "cell_type": "code",
   "execution_count": 25,
   "id": "0196fbb1",
   "metadata": {},
   "outputs": [
    {
     "name": "stdout",
     "output_type": "stream",
     "text": [
      "Indirectly sort in descending order\n",
      "[12, 11, 10, 8, 7, 6]\n"
     ]
    }
   ],
   "source": [
    "print(\"Indirectly sort in descending order\")\n",
    "print(list(ages[sort_index])[::-1])"
   ]
  },
  {
   "cell_type": "code",
   "execution_count": 29,
   "id": "2c753826",
   "metadata": {},
   "outputs": [
    {
     "name": "stdout",
     "output_type": "stream",
     "text": [
      "Working with Random Distributions\n"
     ]
    }
   ],
   "source": [
    "print(\"Working with Random Distributions\")\n",
    "import numpy as np\n",
    "import numpy.random as npr\n",
    "import matplotlib.pyplot as plt"
   ]
  },
  {
   "cell_type": "code",
   "execution_count": 30,
   "id": "c7c32d14",
   "metadata": {},
   "outputs": [
    {
     "name": "stdout",
     "output_type": "stream",
     "text": [
      "We can simulate values from a normal distribution\n",
      "{'  -0.0057985282'}\n",
      "{'   1.0126354911'}\n"
     ]
    }
   ],
   "source": [
    "print(\"We can simulate values from a normal distribution\")\n",
    "x = npr.standard_normal(5000)\n",
    "print({\"{:15.10f}\".format(x.mean())})\n",
    "print({\"{:15.10f}\".format(x.std())})"
   ]
  },
  {
   "cell_type": "code",
   "execution_count": 31,
   "id": "17e9981d",
   "metadata": {},
   "outputs": [
    {
     "name": "stdout",
     "output_type": "stream",
     "text": [
      "Represent the values roughly normal over/under representation\n",
      "The towers or bars of a histogram are called bins. The height of each bin shows how many values from that data fall into that range. The default value of the number of bins to be created in a histogram is 10. However, we can change the size of bins\n"
     ]
    },
    {
     "data": {
      "text/plain": [
       "(array([  3.,   1.,   0.,   2.,   2.,   1.,   8.,   7.,  11.,  17.,  14.,\n",
       "         45.,  27.,  68.,  67.,  96.,  78., 119., 153., 153., 191., 210.,\n",
       "        236., 259., 282., 265., 307., 315., 246., 283., 231., 187., 217.,\n",
       "        188., 156., 128.,  96.,  88.,  64.,  47.,  36.,  30.,  20.,  13.,\n",
       "         16.,   8.,   3.,   1.,   3.,   2.]),\n",
       " array([-3.82713772, -3.6829764 , -3.53881507, -3.39465375, -3.25049242,\n",
       "        -3.1063311 , -2.96216977, -2.81800845, -2.67384712, -2.5296858 ,\n",
       "        -2.38552447, -2.24136315, -2.09720182, -1.9530405 , -1.80887917,\n",
       "        -1.66471785, -1.52055652, -1.37639519, -1.23223387, -1.08807254,\n",
       "        -0.94391122, -0.79974989, -0.65558857, -0.51142724, -0.36726592,\n",
       "        -0.22310459, -0.07894327,  0.06521806,  0.20937938,  0.35354071,\n",
       "         0.49770203,  0.64186336,  0.78602468,  0.93018601,  1.07434733,\n",
       "         1.21850866,  1.36266999,  1.50683131,  1.65099264,  1.79515396,\n",
       "         1.93931529,  2.08347661,  2.22763794,  2.37179926,  2.51596059,\n",
       "         2.66012191,  2.80428324,  2.94844456,  3.09260589,  3.23676721,\n",
       "         3.38092854]),\n",
       " <BarContainer object of 50 artists>)"
      ]
     },
     "execution_count": 31,
     "metadata": {},
     "output_type": "execute_result"
    },
    {
     "data": {
      "image/png": "[encoded data removed]",
      "text/plain": [
       "<Figure size 432x288 with 1 Axes>"
      ]
     },
     "metadata": {
      "needs_background": "light"
     },
     "output_type": "display_data"
    }
   ],
   "source": [
    "print(\"Represent the values roughly normal over/under representation\")\n",
    "print(\"The towers or bars of a histogram are called bins. The height of each bin shows how many values from that data fall into that range. The default value of the number of bins to be created in a histogram is 10. However, we can change the size of bins\")\n",
    "plt.hist(x, bins=50)"
   ]
  }
 ],
 "metadata": {
  "kernelspec": {
   "display_name": "Python 3 (ipykernel)",
   "language": "python",
   "name": "python3"
  },
  "language_info": {
   "codemirror_mode": {
    "name": "ipython",
    "version": 3
   },
   "file_extension": ".py",
   "mimetype": "text/x-python",
   "name": "python",
   "nbconvert_exporter": "python",
   "pygments_lexer": "ipython3",
   "version": "3.9.12"
  }
 },
 "nbformat": 4,
 "nbformat_minor": 5
}
