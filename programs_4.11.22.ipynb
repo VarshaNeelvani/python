{
 "cells": [
  {
   "cell_type": "markdown",
   "id": "62ec235e",
   "metadata": {},
   "source": [
    "# Find the Addition of five numbers"
   ]
  },
  {
   "cell_type": "code",
   "execution_count": 3,
   "id": "a2619e9a",
   "metadata": {},
   "outputs": [
    {
     "name": "stdout",
     "output_type": "stream",
     "text": [
      "Enter num1: 1\n",
      "Enter num2: 3\n",
      "Enter num3: 5\n",
      "Enter num4: 7\n",
      "Enter num5: 9\n",
      "The sum of given five numbers is  25\n"
     ]
    }
   ],
   "source": [
    "a = int(input(\"Enter num1: \"))\n",
    "b = int(input(\"Enter num2: \"))\n",
    "c = int(input(\"Enter num3: \"))\n",
    "d = int(input(\"Enter num4: \"))\n",
    "e = int(input(\"Enter num5: \"))\n",
    "sum = a+b+c+d+e\n",
    "print(\"The sum of given five numbers is \" ,sum)"
   ]
  },
  {
   "cell_type": "markdown",
   "id": "9eceff41",
   "metadata": {},
   "source": [
    "# Find the Simple & Compound Interest"
   ]
  },
  {
   "cell_type": "code",
   "execution_count": 8,
   "id": "2e26b1c2",
   "metadata": {},
   "outputs": [
    {
     "name": "stdout",
     "output_type": "stream",
     "text": [
      "Enter amount: 5000\n",
      "Enter time: 2\n",
      "Enter rate: 18\n",
      "Simple Interest is: 1800.000000\n",
      "Compound Interest is: 1962.000000\n"
     ]
    }
   ],
   "source": [
    "P = float(input(\"Enter amount: \"))\n",
    "T = float(input(\"Enter time: \"))\n",
    "R = float(input(\"Enter rate: \"))\n",
    "SI = P*T*R/100\n",
    "CI = P*((1+R/100)**T-1)\n",
    "print(\"Simple Interest is: %2f\" %(SI))\n",
    "print(\"Compound Interest is: %2f\" %(CI))"
   ]
  },
  {
   "cell_type": "markdown",
   "id": "8ce8087b",
   "metadata": {},
   "source": [
    "# Find the Area of Rectangle"
   ]
  },
  {
   "cell_type": "code",
   "execution_count": 9,
   "id": "54b39858",
   "metadata": {},
   "outputs": [
    {
     "name": "stdout",
     "output_type": "stream",
     "text": [
      "Length: 2\n",
      "Breadth: 4\n",
      "Area of rectangle:  8\n"
     ]
    }
   ],
   "source": [
    "l = int(input(\"Length: \"))\n",
    "b = int(input(\"Breadth: \"))\n",
    "arearect= l*b\n",
    "print(\"Area of rectangle: \",arearect)"
   ]
  },
  {
   "cell_type": "markdown",
   "id": "cf549c67",
   "metadata": {},
   "source": [
    "# Find the Area of Triangle"
   ]
  },
  {
   "cell_type": "code",
   "execution_count": 10,
   "id": "d41bd799",
   "metadata": {},
   "outputs": [
    {
     "name": "stdout",
     "output_type": "stream",
     "text": [
      "Base: 2\n",
      "Height: 5\n",
      "Area of Triangle:  5.0\n"
     ]
    }
   ],
   "source": [
    "b = int(input(\"Base: \"))\n",
    "h = int(input(\"Height: \"))\n",
    "areatri=  1/2 * (b * h)\n",
    "print(\"Area of Triangle: \", areatri)"
   ]
  },
  {
   "cell_type": "markdown",
   "id": "af95b8d4",
   "metadata": {},
   "source": [
    "# Find square and cube of given number"
   ]
  },
  {
   "cell_type": "code",
   "execution_count": 11,
   "id": "38ef8a85",
   "metadata": {},
   "outputs": [
    {
     "name": "stdout",
     "output_type": "stream",
     "text": [
      "Enter the number: 2\n",
      "Square of the given number is  4\n",
      "Cube of the given number is  8\n"
     ]
    }
   ],
   "source": [
    "num = int(input(\"Enter the number: \"))\n",
    "s = num*num\n",
    "c = num*num*num\n",
    "print(\"Square of the given number is \", s)\n",
    "print(\"Cube of the given number is \", c)"
   ]
  },
  {
   "cell_type": "markdown",
   "id": "b1f19f59",
   "metadata": {},
   "source": [
    "# Check whether the person is eligible to vote or not"
   ]
  },
  {
   "cell_type": "code",
   "execution_count": 13,
   "id": "4c42f938",
   "metadata": {},
   "outputs": [
    {
     "name": "stdout",
     "output_type": "stream",
     "text": [
      "Enter your age: 20\n",
      "You are eligible to vote\n"
     ]
    }
   ],
   "source": [
    "age = int(input(\"Enter your age: \"))\n",
    "if (age>17):\n",
    "    print(\"You are eligible to vote\")\n",
    "else:\n",
    "    print(\"You are not eligible to vote\")"
   ]
  },
  {
   "cell_type": "markdown",
   "id": "31ba421e",
   "metadata": {},
   "source": [
    "# Check whether the number is even or odd"
   ]
  },
  {
   "cell_type": "code",
   "execution_count": 14,
   "id": "f5b9a87a",
   "metadata": {},
   "outputs": [
    {
     "name": "stdout",
     "output_type": "stream",
     "text": [
      "Enter the number: 32\n",
      "The given number is even\n"
     ]
    }
   ],
   "source": [
    "num = int(input(\"Enter the number: \"))\n",
    "if (num%2==0):\n",
    "    print(\"The given number is even\")\n",
    "else: \n",
    "    print(\"The given number is odd\")"
   ]
  },
  {
   "cell_type": "markdown",
   "id": "914e8208",
   "metadata": {},
   "source": [
    "# Check whether the number is positive or not"
   ]
  },
  {
   "cell_type": "code",
   "execution_count": 16,
   "id": "62dfef2b",
   "metadata": {},
   "outputs": [
    {
     "name": "stdout",
     "output_type": "stream",
     "text": [
      "Enter the number: -8\n",
      "The given number is negative\n"
     ]
    }
   ],
   "source": [
    "num = int(input(\"Enter the number: \"))\n",
    "if (num>0):\n",
    "    print(\"The given number is positive\")\n",
    "else: \n",
    "    print(\"The given number is negative\")"
   ]
  },
  {
   "cell_type": "markdown",
   "id": "c4d38456",
   "metadata": {},
   "source": [
    "# Check whether the number is single digit or not"
   ]
  },
  {
   "cell_type": "code",
   "execution_count": 18,
   "id": "0ac74eaa",
   "metadata": {},
   "outputs": [
    {
     "name": "stdout",
     "output_type": "stream",
     "text": [
      "Enter the number: 2\n",
      "The given number is single digit\n"
     ]
    }
   ],
   "source": [
    "num = int(input(\"Enter the number: \"))\n",
    "if (num<10):\n",
    "    print(\"The given number is single digit\")\n",
    "else:\n",
    "    print(\"The given number is not a single digit\")"
   ]
  },
  {
   "cell_type": "markdown",
   "id": "eff4154a",
   "metadata": {},
   "source": [
    "# Enter the time in 24hr format and convert it into 12hr"
   ]
  },
  {
   "cell_type": "code",
   "execution_count": null,
   "id": "b35492f9",
   "metadata": {},
   "outputs": [],
   "source": []
  }
 ],
 "metadata": {
  "kernelspec": {
   "display_name": "Python 3 (ipykernel)",
   "language": "python",
   "name": "python3"
  },
  "language_info": {
   "codemirror_mode": {
    "name": "ipython",
    "version": 3
   },
   "file_extension": ".py",
   "mimetype": "text/x-python",
   "name": "python",
   "nbconvert_exporter": "python",
   "pygments_lexer": "ipython3",
   "version": "3.9.12"
  }
 },
 "nbformat": 4,
 "nbformat_minor": 5
}
