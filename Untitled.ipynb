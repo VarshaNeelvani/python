{
 "cells": [
  {
   "cell_type": "code",
   "execution_count": 1,
   "id": "2a628cca",
   "metadata": {},
   "outputs": [],
   "source": [
    "import mysql.connector as con\n",
    "new_db = con.connect(\n",
    "    host = \"localhost\",\n",
    "    user = \"root\", \n",
    "    password = \"tiger\"\n",
    ")\n",
    "new_cursor = new_db.cursor()\n",
    "new_cursor.execute(\"CREATE DATABASE ourdata\")"
   ]
  },
  {
   "cell_type": "code",
   "execution_count": 2,
   "id": "3eec2dc7",
   "metadata": {},
   "outputs": [
    {
     "name": "stdout",
     "output_type": "stream",
     "text": [
      "('information_schema',)\n",
      "('mydata',)\n",
      "('mysql',)\n",
      "('ourdata',)\n",
      "('performance_schema',)\n",
      "('sys',)\n",
      "('yourdata',)\n"
     ]
    }
   ],
   "source": [
    "import mysql.connector as con\n",
    "new_db = con.connect(\n",
    "    host = \"localhost\",\n",
    "    user = \"root\", \n",
    "    password = \"tiger\"\n",
    ")\n",
    "new_cursor = new_db.cursor()\n",
    "new_cursor.execute(\"SHOW DATABASES\")\n",
    "for n in new_cursor:\n",
    "    print(n)"
   ]
  },
  {
   "cell_type": "code",
   "execution_count": 3,
   "id": "6d9d6a1f",
   "metadata": {},
   "outputs": [],
   "source": [
    "import mysql.connector as con\n",
    "new_db = con.connect(\n",
    "    host = \"localhost\",\n",
    "    user = \"root\", \n",
    "    password = \"tiger\",\n",
    "    database = \"ourdata\"\n",
    ")\n",
    "new_cursor = new_db.cursor()\n",
    "new_cursor.execute(\"CREATE TABLE student (name VARCHAR(200), regno VARCHAR(10))\")"
   ]
  },
  {
   "cell_type": "code",
   "execution_count": 4,
   "id": "2bace333",
   "metadata": {},
   "outputs": [
    {
     "name": "stdout",
     "output_type": "stream",
     "text": [
      "('student',)\n"
     ]
    }
   ],
   "source": [
    "import mysql.connector as con\n",
    "new_db = con.connect(\n",
    "    host = \"localhost\",\n",
    "    user = \"root\", \n",
    "    password = \"tiger\",\n",
    "    database = \"ourdata\"\n",
    ")\n",
    "new_cursor = new_db.cursor()\n",
    "new_cursor.execute(\"SHOW TABLES\")\n",
    "for n in new_cursor:\n",
    "    print(n)"
   ]
  },
  {
   "cell_type": "code",
   "execution_count": 5,
   "id": "12687ee2",
   "metadata": {},
   "outputs": [],
   "source": [
    "import mysql.connector as con\n",
    "new_db = con.connect(\n",
    "    host = \"localhost\",\n",
    "    user = \"root\", \n",
    "    password = \"tiger\",\n",
    "    database = \"ourdata\"\n",
    ")\n",
    "new_cursor = new_db.cursor()\n",
    "new_cursor.execute(\"CREATE TABLE students (rollno INT AUTO_INCREMENT PRIMARY KEY, name VARCHAR(200), regno VARCHAR(10))\")"
   ]
  },
  {
   "cell_type": "code",
   "execution_count": 7,
   "id": "125fb079",
   "metadata": {},
   "outputs": [],
   "source": [
    "import mysql.connector as con\n",
    "new_db = con.connect(\n",
    "    host = \"localhost\",\n",
    "    user = \"root\", \n",
    "    password = \"tiger\",\n",
    "    database = \"ourdata\"\n",
    ")\n",
    "new_cursor = new_db.cursor()\n",
    "new_cursor.execute(\"ALTER TABLE student ADD COLUMN rollno INT AUTO_INCREMENT PRIMARY KEY\")"
   ]
  },
  {
   "cell_type": "code",
   "execution_count": 8,
   "id": "1cca4c1d",
   "metadata": {},
   "outputs": [
    {
     "name": "stdout",
     "output_type": "stream",
     "text": [
      "1 new record inserted\n"
     ]
    }
   ],
   "source": [
    "import mysql.connector as con\n",
    "new_db = con.connect(\n",
    "    host = \"localhost\",\n",
    "    user = \"root\", \n",
    "    password = \"tiger\",\n",
    "    database = \"ourdata\"\n",
    ")\n",
    "new_cursor = new_db.cursor()\n",
    "sql = \"INSERT INTO student (name, regno) VALUES (%s, %s)\"\n",
    "values = (\"Aarohi\", \"2001\")\n",
    "new_cursor.execute(sql, values)\n",
    "new_db.commit()\n",
    "print(new_cursor.rowcount, \"new record inserted\")"
   ]
  },
  {
   "cell_type": "code",
   "execution_count": 9,
   "id": "191432ff",
   "metadata": {},
   "outputs": [
    {
     "name": "stdout",
     "output_type": "stream",
     "text": [
      "3 new record inserted\n"
     ]
    }
   ],
   "source": [
    "import mysql.connector as con\n",
    "new_db = con.connect(\n",
    "    host = \"localhost\",\n",
    "    user = \"root\", \n",
    "    password = \"tiger\",\n",
    "    database = \"ourdata\"\n",
    ")\n",
    "new_cursor = new_db.cursor()\n",
    "sql = \"INSERT INTO student (name, regno) VALUES (%s, %s)\"\n",
    "values = [(\"Amyra\", \"2002\"),\n",
    "         (\"Neil\", \"2003\"),\n",
    "         (\"Nitesh\", \"2004\")]\n",
    "new_cursor.executemany(sql,values)\n",
    "new_db.commit()\n",
    "print(new_cursor.rowcount, \"new record inserted\")"
   ]
  },
  {
   "cell_type": "code",
   "execution_count": 28,
   "id": "1d680c98",
   "metadata": {},
   "outputs": [
    {
     "name": "stdout",
     "output_type": "stream",
     "text": [
      "('Aarohi', '2001', 1)\n",
      "('Amyra', '2002', 2)\n",
      "('Neil', '2003', 3)\n",
      "('Nitesh', '2004', 4)\n"
     ]
    }
   ],
   "source": [
    "import mysql.connector as con\n",
    "my_db = con.connect(\n",
    "    host = \"localhost\",\n",
    "    user = \"root\",\n",
    "    password = \"tiger\",\n",
    "    database = \"ourdata\"\n",
    ")\n",
    "new_cursor = my_db.cursor()\n",
    "sql = \"SELECT * FROM student\"\n",
    "new_cursor.execute(sql)\n",
    "result = new_cursor.fetchall()\n",
    "for x in result:\n",
    "    print(x)"
   ]
  },
  {
   "cell_type": "code",
   "execution_count": 11,
   "id": "62b521e2",
   "metadata": {},
   "outputs": [
    {
     "name": "stdout",
     "output_type": "stream",
     "text": [
      "('Aarohi',)\n",
      "('Amyra',)\n",
      "('Neil',)\n",
      "('Nitesh',)\n"
     ]
    }
   ],
   "source": [
    "import mysql.connector as con\n",
    "my_db = con.connect(\n",
    "    host = \"localhost\",\n",
    "    user = \"root\",\n",
    "    password = \"tiger\",\n",
    "    database = \"ourdata\"\n",
    ")\n",
    "new_cursor = my_db.cursor()\n",
    "sql = \"SELECT name FROM student\"\n",
    "new_cursor.execute(sql)\n",
    "result = new_cursor.fetchall()\n",
    "for x in result:\n",
    "    print(x)"
   ]
  },
  {
   "cell_type": "code",
   "execution_count": 12,
   "id": "67c05ed2",
   "metadata": {},
   "outputs": [
    {
     "name": "stdout",
     "output_type": "stream",
     "text": [
      "('Aarohi', '2001', 1)\n"
     ]
    }
   ],
   "source": [
    "import mysql.connector as con\n",
    "my_db = con.connect(\n",
    "    host = \"localhost\",\n",
    "    user = \"root\",\n",
    "    password = \"tiger\",\n",
    "    database = \"yourdata\"\n",
    ")\n",
    "new_cursor = my_db.cursor()\n",
    "sql = \"SELECT * FROM student\"\n",
    "new_cursor.execute(sql)\n",
    "result = new_cursor.fetchone()\n",
    "print(result)"
   ]
  },
  {
   "cell_type": "code",
   "execution_count": 13,
   "id": "de12ac7d",
   "metadata": {},
   "outputs": [
    {
     "name": "stdout",
     "output_type": "stream",
     "text": [
      "('Neil', '2003', 3)\n"
     ]
    }
   ],
   "source": [
    "import mysql.connector as con\n",
    "my_db = con.connect(\n",
    "    host = \"localhost\",\n",
    "    user = \"root\",\n",
    "    password = \"tiger\",\n",
    "    database = \"ourdata\"\n",
    ")\n",
    "new_cursor = my_db.cursor()\n",
    "sql = \"SELECT * FROM student WHERE name = 'Neil'\"\n",
    "new_cursor.execute(sql)\n",
    "result = new_cursor.fetchall()\n",
    "for x in result:\n",
    "    print(x)"
   ]
  },
  {
   "cell_type": "code",
   "execution_count": 14,
   "id": "580dd830",
   "metadata": {},
   "outputs": [
    {
     "name": "stdout",
     "output_type": "stream",
     "text": [
      "('Aarohi', '2001', 1)\n",
      "('Amyra', '2002', 2)\n",
      "('Neil', '2003', 3)\n",
      "('Nitesh', '2004', 4)\n"
     ]
    }
   ],
   "source": [
    "import mysql.connector as con\n",
    "my_db = con.connect(\n",
    "    host = \"localhost\",\n",
    "    user = \"root\",\n",
    "    password = \"tiger\",\n",
    "    database = \"yourdata\"\n",
    ")\n",
    "new_cursor = my_db.cursor()\n",
    "sql = \"SELECT * FROM student WHERE regno LIKE '%00%'\"\n",
    "new_cursor.execute(sql)\n",
    "result = new_cursor.fetchall()\n",
    "for x in result:\n",
    "    print(x)"
   ]
  },
  {
   "cell_type": "code",
   "execution_count": 15,
   "id": "ac2ad134",
   "metadata": {},
   "outputs": [
    {
     "name": "stdout",
     "output_type": "stream",
     "text": [
      "('Nitesh', '2004', 4)\n",
      "('Neil', '2003', 3)\n",
      "('Amyra', '2002', 2)\n",
      "('Aarohi', '2001', 1)\n"
     ]
    }
   ],
   "source": [
    "import mysql.connector as con\n",
    "my_db = con.connect(\n",
    "    host = \"localhost\",\n",
    "    user = \"root\",\n",
    "    password = \"tiger\",\n",
    "    database = \"yourdata\"\n",
    ")\n",
    "new_cursor = my_db.cursor()\n",
    "sql = \"SELECT * FROM student ORDER BY name DESC\"\n",
    "new_cursor.execute(sql)\n",
    "result = new_cursor.fetchall()\n",
    "for x in result:\n",
    "    print(x)"
   ]
  },
  {
   "cell_type": "code",
   "execution_count": 16,
   "id": "a82fdc42",
   "metadata": {},
   "outputs": [
    {
     "name": "stdout",
     "output_type": "stream",
     "text": [
      "1 new record inserted\n"
     ]
    }
   ],
   "source": [
    "import mysql.connector as con\n",
    "new_db = con.connect(\n",
    "    host = \"localhost\",\n",
    "    user = \"root\", \n",
    "    password = \"tiger\",\n",
    "    database = \"yourdata\"\n",
    ")\n",
    "new_cursor = new_db.cursor()\n",
    "sql = \"INSERT INTO student (name, regno) VALUES (%s, %s)\"\n",
    "values = (\"Varsha\", \"2005\")\n",
    "new_cursor.execute(sql, values)\n",
    "new_db.commit()\n",
    "print(new_cursor.rowcount, \"new record inserted\")"
   ]
  },
  {
   "cell_type": "code",
   "execution_count": 31,
   "id": "11119ea8",
   "metadata": {},
   "outputs": [
    {
     "name": "stdout",
     "output_type": "stream",
     "text": [
      "1 records deleted from table\n"
     ]
    }
   ],
   "source": [
    "import mysql.connector as con\n",
    "my_db = con.connect(\n",
    "    host = \"localhost\",\n",
    "    user = \"root\",\n",
    "    password = \"tiger\",\n",
    "    database = \"ourdata\"\n",
    ")\n",
    "new_cursor = my_db.cursor()\n",
    "sql = \"DELETE FROM student WHERE rollno = 4\"\n",
    "new_cursor.execute(sql)\n",
    "my_db.commit()\n",
    "print(new_cursor.rowcount, \"records deleted from table\")\n"
   ]
  },
  {
   "cell_type": "code",
   "execution_count": 33,
   "id": "7c25971f",
   "metadata": {},
   "outputs": [
    {
     "name": "stdout",
     "output_type": "stream",
     "text": [
      "('Aarohi', '2001', 1)\n",
      "('Amyra', '2002', 2)\n",
      "('Neil', '2003', 3)\n"
     ]
    }
   ],
   "source": [
    "import mysql.connector as con\n",
    "my_db = con.connect(\n",
    "    host = \"localhost\",\n",
    "    user = \"root\",\n",
    "    password = \"tiger\",\n",
    "    database = \"ourdata\"\n",
    ")\n",
    "new_cursor = my_db.cursor()\n",
    "sql = \"SELECT * FROM student\"\n",
    "new_cursor.execute(sql)\n",
    "result = new_cursor.fetchall()\n",
    "for x in result:\n",
    "    print(x)"
   ]
  },
  {
   "cell_type": "code",
   "execution_count": null,
   "id": "67d1ad83",
   "metadata": {},
   "outputs": [],
   "source": []
  }
 ],
 "metadata": {
  "kernelspec": {
   "display_name": "Python 3 (ipykernel)",
   "language": "python",
   "name": "python3"
  },
  "language_info": {
   "codemirror_mode": {
    "name": "ipython",
    "version": 3
   },
   "file_extension": ".py",
   "mimetype": "text/x-python",
   "name": "python",
   "nbconvert_exporter": "python",
   "pygments_lexer": "ipython3",
   "version": "3.9.12"
  }
 },
 "nbformat": 4,
 "nbformat_minor": 5
}
