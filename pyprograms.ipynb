{
 "cells": [
  {
   "cell_type": "markdown",
   "id": "0bbf4130",
   "metadata": {},
   "source": [
    "# Find the Addition of five numbers"
   ]
  },
  {
   "cell_type": "code",
   "execution_count": 1,
   "id": "5753a0d0",
   "metadata": {},
   "outputs": [
    {
     "name": "stdout",
     "output_type": "stream",
     "text": [
      "Enter num1: 5\n",
      "Enter num2: 6\n",
      "Enter num3: 4\n",
      "Enter num4: 3\n",
      "Enter num5: 2\n",
      "The sum of given five numbers is  20\n"
     ]
    }
   ],
   "source": [
    "a = int(input(\"Enter num1: \"))\n",
    "b = int(input(\"Enter num2: \"))\n",
    "c = int(input(\"Enter num3: \"))\n",
    "d = int(input(\"Enter num4: \"))\n",
    "e = int(input(\"Enter num5: \"))\n",
    "sum = a+b+c+d+e\n",
    "print(\"The sum of given five numbers is \" ,sum)"
   ]
  },
  {
   "cell_type": "markdown",
   "id": "5b4b56a3",
   "metadata": {},
   "source": [
    "# Find the Simple & Compound Interest"
   ]
  },
  {
   "cell_type": "code",
   "execution_count": 2,
   "id": "6ac70464",
   "metadata": {},
   "outputs": [
    {
     "name": "stdout",
     "output_type": "stream",
     "text": [
      "Enter amount: 5000\n",
      "Enter time: 2\n",
      "Enter rate: 18\n",
      "Simple Interest is: 1800.000000\n",
      "Compound Interest is: 1962.000000\n"
     ]
    }
   ],
   "source": [
    "P = float(input(\"Enter amount: \"))\n",
    "T = float(input(\"Enter time: \"))\n",
    "R = float(input(\"Enter rate: \"))\n",
    "SI = P*T*R/100\n",
    "CI = P*((1+R/100)**T-1)\n",
    "print(\"Simple Interest is: %2f\" %(SI))\n",
    "print(\"Compound Interest is: %2f\" %(CI))"
   ]
  },
  {
   "cell_type": "markdown",
   "id": "65fe3a7b",
   "metadata": {},
   "source": [
    "# Find the Area of Rectangle"
   ]
  },
  {
   "cell_type": "code",
   "execution_count": 3,
   "id": "aa3103f4",
   "metadata": {},
   "outputs": [
    {
     "name": "stdout",
     "output_type": "stream",
     "text": [
      "Length: 2\n",
      "Breadth: 5\n",
      "Area of rectangle:  10\n"
     ]
    }
   ],
   "source": [
    "l = int(input(\"Length: \"))\n",
    "b = int(input(\"Breadth: \"))\n",
    "arearect= l*b\n",
    "print(\"Area of rectangle: \",arearect)"
   ]
  },
  {
   "cell_type": "markdown",
   "id": "89ca7f3a",
   "metadata": {},
   "source": [
    "# Find the Area of Triangle"
   ]
  },
  {
   "cell_type": "code",
   "execution_count": 4,
   "id": "2f29c24b",
   "metadata": {},
   "outputs": [
    {
     "name": "stdout",
     "output_type": "stream",
     "text": [
      "Base: 5\n",
      "Height: 6\n",
      "Area of Triangle:  15.0\n"
     ]
    }
   ],
   "source": [
    "b = int(input(\"Base: \"))\n",
    "h = int(input(\"Height: \"))\n",
    "areatri=  1/2 * (b * h)\n",
    "print(\"Area of Triangle: \", areatri)"
   ]
  },
  {
   "cell_type": "markdown",
   "id": "430341c1",
   "metadata": {},
   "source": [
    "# Find square and cube of given number"
   ]
  },
  {
   "cell_type": "code",
   "execution_count": 5,
   "id": "3adf81f1",
   "metadata": {},
   "outputs": [
    {
     "name": "stdout",
     "output_type": "stream",
     "text": [
      "Enter the number: 2\n",
      "Square of the given number is  4\n",
      "Cube of the given number is  8\n"
     ]
    }
   ],
   "source": [
    "num = int(input(\"Enter the number: \"))\n",
    "s = num*num\n",
    "c = num*num*num\n",
    "print(\"Square of the given number is \", s)\n",
    "print(\"Cube of the given number is \", c)"
   ]
  },
  {
   "cell_type": "markdown",
   "id": "048c7547",
   "metadata": {},
   "source": [
    "# Check whether the person is eligible to vote or not"
   ]
  },
  {
   "cell_type": "code",
   "execution_count": 6,
   "id": "09f947bd",
   "metadata": {},
   "outputs": [
    {
     "name": "stdout",
     "output_type": "stream",
     "text": [
      "Enter your age: 18\n",
      "You are eligible to vote\n"
     ]
    }
   ],
   "source": [
    "age = int(input(\"Enter your age: \"))\n",
    "if (age>17):\n",
    "    print(\"You are eligible to vote\")\n",
    "else:\n",
    "    print(\"You are not eligible to vote\")\n"
   ]
  },
  {
   "cell_type": "markdown",
   "id": "0f887c57",
   "metadata": {},
   "source": [
    "# Check whether the number is even or odd"
   ]
  },
  {
   "cell_type": "code",
   "execution_count": 7,
   "id": "a0be2ed6",
   "metadata": {},
   "outputs": [
    {
     "name": "stdout",
     "output_type": "stream",
     "text": [
      "Enter the number: 5\n",
      "The given number is odd\n"
     ]
    }
   ],
   "source": [
    "num = int(input(\"Enter the number: \"))\n",
    "if (num%2==0):\n",
    "    print(\"The given number is even\")\n",
    "else: \n",
    "    print(\"The given number is odd\")"
   ]
  },
  {
   "cell_type": "markdown",
   "id": "cca1d2d6",
   "metadata": {},
   "source": [
    "# Check whether the number is positive or not"
   ]
  },
  {
   "cell_type": "code",
   "execution_count": 8,
   "id": "a47d0173",
   "metadata": {},
   "outputs": [
    {
     "name": "stdout",
     "output_type": "stream",
     "text": [
      "Enter the number: -9\n",
      "The given number is negative\n"
     ]
    }
   ],
   "source": [
    "num = int(input(\"Enter the number: \"))\n",
    "if (num>0):\n",
    "    print(\"The given number is positive\")\n",
    "else: \n",
    "    print(\"The given number is negative\")"
   ]
  },
  {
   "cell_type": "markdown",
   "id": "b7bca4c3",
   "metadata": {},
   "source": [
    "# Check whether the number is single digit or not"
   ]
  },
  {
   "cell_type": "code",
   "execution_count": 9,
   "id": "5716eccb",
   "metadata": {},
   "outputs": [
    {
     "name": "stdout",
     "output_type": "stream",
     "text": [
      "Enter the number: -5\n",
      "The given number is single digit\n"
     ]
    }
   ],
   "source": [
    "num = int(input(\"Enter the number: \"))\n",
    "if (num>=-9 and num<10):\n",
    "    print(\"The given number is single digit\")\n",
    "else:\n",
    "    print(\"The given number is not a single digit\")"
   ]
  },
  {
   "cell_type": "markdown",
   "id": "d141f153",
   "metadata": {},
   "source": [
    "# Enter the time in 24hr format and convert it into 12hr"
   ]
  },
  {
   "cell_type": "code",
   "execution_count": 10,
   "id": "d4666551",
   "metadata": {},
   "outputs": [
    {
     "name": "stdout",
     "output_type": "stream",
     "text": [
      "Enter the hour: 21\n",
      "Enter the minute: 45\n",
      "Given time= 21:45\n",
      "Time= 9:45 PM\n"
     ]
    }
   ],
   "source": [
    "hour = int(input(\"Enter the hour: \"))\n",
    "minute = input(\"Enter the minute: \")\n",
    "print(\"Given time= {0}:{1}\" .format(hour,minute))\n",
    "if hour>12:\n",
    "    t1 = hour - 12\n",
    "    print(\"Time= {0}:{1} PM\" .format(t1, minute))\n",
    "else:\n",
    "    print(\"Time= {0}:{1} AM\" .format(hour, minute))"
   ]
  },
  {
   "cell_type": "markdown",
   "id": "ec1c11f8",
   "metadata": {},
   "source": [
    "# From Notes"
   ]
  },
  {
   "cell_type": "markdown",
   "id": "b873f48f",
   "metadata": {},
   "source": [
    "# Printing a message"
   ]
  },
  {
   "cell_type": "code",
   "execution_count": 11,
   "id": "b4b19bb4",
   "metadata": {},
   "outputs": [
    {
     "name": "stdout",
     "output_type": "stream",
     "text": [
      "God helps those who help themselves\n"
     ]
    }
   ],
   "source": [
    "print(\"God helps those who help themselves\")"
   ]
  },
  {
   "cell_type": "markdown",
   "id": "d766d993",
   "metadata": {},
   "source": [
    "# Python program to add two numbers"
   ]
  },
  {
   "cell_type": "code",
   "execution_count": 12,
   "id": "719bf320",
   "metadata": {},
   "outputs": [
    {
     "name": "stdout",
     "output_type": "stream",
     "text": [
      "Sum of 15 and 12 is 27\n"
     ]
    }
   ],
   "source": [
    "num1 = 15\n",
    "num2 = 12\n",
    "sum = num1 +num2\n",
    "print(\"Sum of {0} and {1} is {2}\" .format(num1, num2, sum))"
   ]
  },
  {
   "cell_type": "markdown",
   "id": "776b323d",
   "metadata": {},
   "source": [
    "# Python program to print ASCII value of character"
   ]
  },
  {
   "cell_type": "code",
   "execution_count": 13,
   "id": "a3c8b88a",
   "metadata": {},
   "outputs": [
    {
     "name": "stdout",
     "output_type": "stream",
     "text": [
      "The ASCII value of 'g' is 103\n"
     ]
    }
   ],
   "source": [
    "c = 'g'\n",
    "print(\"The ASCII value of '\" +c+ \"' is\",ord(c))"
   ]
  },
  {
   "cell_type": "markdown",
   "id": "69db9fed",
   "metadata": {},
   "source": [
    "# To check whether the number is prime or not"
   ]
  },
  {
   "cell_type": "code",
   "execution_count": 14,
   "id": "fa0db746",
   "metadata": {},
   "outputs": [
    {
     "name": "stdout",
     "output_type": "stream",
     "text": [
      "2 3 5 7 11 13 17 19 23 29 31 37 41 43 47 53 59 61 67 71 73 79 83 89 97 "
     ]
    }
   ],
   "source": [
    "def isPrime(n):\n",
    "    if (n==1 or n==0):\n",
    "        return False\n",
    "    for i in range(2,n):\n",
    "        if (n%i==0):\n",
    "            return False\n",
    "    return True\n",
    "\n",
    "N = 100\n",
    "for i in range(1, N+1):\n",
    "    if (isPrime(i)):\n",
    "        print(i, end = \" \")"
   ]
  },
  {
   "cell_type": "markdown",
   "id": "0c3d3ce2",
   "metadata": {},
   "source": [
    "# Python program to find Area of a circle"
   ]
  },
  {
   "cell_type": "code",
   "execution_count": 15,
   "id": "cc6b90a5",
   "metadata": {},
   "outputs": [
    {
     "name": "stdout",
     "output_type": "stream",
     "text": [
      "Area is 78.550000\n"
     ]
    }
   ],
   "source": [
    "def findArea(r):\n",
    "    PI = 3.142\n",
    "    return PI * (r*r)\n",
    "print (\"Area is %.6f\" % findArea(5))"
   ]
  },
  {
   "cell_type": "markdown",
   "id": "3bdab33b",
   "metadata": {},
   "source": [
    "# Python program to find maximum in arr[] of size n"
   ]
  },
  {
   "cell_type": "code",
   "execution_count": 16,
   "id": "58a96ab8",
   "metadata": {},
   "outputs": [
    {
     "name": "stdout",
     "output_type": "stream",
     "text": [
      "Largest in given array  9808\n"
     ]
    }
   ],
   "source": [
    "def largest(arr, n):\n",
    "    max = arr [0]\n",
    "    for i in range(1, n):\n",
    "        if arr[i] > max:\n",
    "            max = arr[i]\n",
    "    return max\n",
    "\n",
    "arr = [10, 324, 45, 90, 9808]\n",
    "n = len(arr)\n",
    "Ans = largest (arr, n)\n",
    "print(\"Largest in given array \",Ans)"
   ]
  },
  {
   "cell_type": "markdown",
   "id": "f783fd8d",
   "metadata": {},
   "source": [
    "# Python program to find the sum of array"
   ]
  },
  {
   "cell_type": "code",
   "execution_count": 17,
   "id": "7c1c9d0a",
   "metadata": {},
   "outputs": [
    {
     "name": "stdout",
     "output_type": "stream",
     "text": [
      "Sum of the array is 34\n"
     ]
    }
   ],
   "source": [
    "def Sum(arr):\n",
    "    sum = 0\n",
    "    for i in arr:\n",
    "        sum = sum + i\n",
    "    return(sum)\n",
    "\n",
    "arr = []\n",
    "arr = [12, 3, 4, 15]\n",
    "n = len(arr)\n",
    "ans = Sum(arr)\n",
    "print(\"Sum of the array is\", ans)"
   ]
  },
  {
   "cell_type": "markdown",
   "id": "97278a51",
   "metadata": {},
   "source": [
    "# Python program to find the nth Fibonacci number"
   ]
  },
  {
   "cell_type": "code",
   "execution_count": 18,
   "id": "153523d9",
   "metadata": {},
   "outputs": [
    {
     "name": "stdout",
     "output_type": "stream",
     "text": [
      "34\n"
     ]
    }
   ],
   "source": [
    "def fibonacci(n):\n",
    "    if n<0:\n",
    "        print(\"Incorrect input\")\n",
    "    elif n==0:\n",
    "        return 0\n",
    "    elif n==1 or n==2:\n",
    "        return 1\n",
    "    else:\n",
    "        return fibonacci(n-1) + fibonacci(n-2)\n",
    "print(fibonacci(9))"
   ]
  },
  {
   "cell_type": "markdown",
   "id": "d474b2f0",
   "metadata": {},
   "source": [
    "# PYTHON LIST"
   ]
  },
  {
   "cell_type": "markdown",
   "id": "1f614e39",
   "metadata": {},
   "source": [
    "Python list is an ordered sequence of items."
   ]
  },
  {
   "cell_type": "markdown",
   "id": "ac887423",
   "metadata": {},
   "source": [
    "# Exercise 1: Find the sum of numbers in the list."
   ]
  },
  {
   "cell_type": "code",
   "execution_count": 19,
   "id": "8c6b917c",
   "metadata": {},
   "outputs": [
    {
     "name": "stdout",
     "output_type": "stream",
     "text": [
      "-5\n"
     ]
    }
   ],
   "source": [
    "def sum_list(items):\n",
    "    sum_numbers = 0\n",
    "    for x in items:\n",
    "        sum_numbers += x\n",
    "    return sum_numbers\n",
    "print(sum_list([1,2,-8]))"
   ]
  },
  {
   "cell_type": "markdown",
   "id": "9d36034c",
   "metadata": {},
   "source": [
    "# Exercise 2: Find the largest element in the list."
   ]
  },
  {
   "cell_type": "code",
   "execution_count": 1,
   "id": "582b4314",
   "metadata": {},
   "outputs": [
    {
     "name": "stdout",
     "output_type": "stream",
     "text": [
      "2\n"
     ]
    }
   ],
   "source": [
    "def max_num_in_list(list):\n",
    "    max = list [0]\n",
    "    for a in list:\n",
    "        if a > max:\n",
    "            max = a\n",
    "    return max\n",
    "print(max_num_in_list([1,2,-8,0]))"
   ]
  },
  {
   "cell_type": "markdown",
   "id": "93f34eef",
   "metadata": {},
   "source": [
    "# Exercise 3: Reverse a list in Python"
   ]
  },
  {
   "cell_type": "code",
   "execution_count": 4,
   "id": "0011eb60",
   "metadata": {},
   "outputs": [
    {
     "name": "stdout",
     "output_type": "stream",
     "text": [
      "[500, 400, 300, 200, 100]\n",
      "[500, 400, 300, 200, 100]\n"
     ]
    }
   ],
   "source": [
    "list1 = [100, 200, 300, 400, 500]\n",
    "list1.reverse()\n",
    "print(list1)\n",
    "\n",
    "list1 = [100, 200, 300, 400, 500]\n",
    "list1 = list1[::-1]\n",
    "print(list1)"
   ]
  },
  {
   "cell_type": "markdown",
   "id": "6d5b9aaf",
   "metadata": {},
   "source": [
    "# Exercise 4: Concatenate two lists index-wise."
   ]
  },
  {
   "cell_type": "markdown",
   "id": "5f4148da",
   "metadata": {},
   "source": [
    "Use the zip() function. This function takes two or more iterables(like list, dict, string), aggregates them in a tuple, and returns it."
   ]
  },
  {
   "cell_type": "code",
   "execution_count": 3,
   "id": "1b9a1e07",
   "metadata": {},
   "outputs": [
    {
     "name": "stdout",
     "output_type": "stream",
     "text": [
      "['My', 'name', 'is', 'Varsha']\n"
     ]
    }
   ],
   "source": [
    "list1 = [\"M\", \"na\", \"i\", \"Var\"]\n",
    "list2 = [\"y\", \"me\", \"s\", \"sha\"]\n",
    "list3 = [i + j for i, j in zip(list1, list2)]\n",
    "print(list3)"
   ]
  },
  {
   "cell_type": "code",
   "execution_count": 5,
   "id": "bc3af52b",
   "metadata": {},
   "outputs": [
    {
     "name": "stdout",
     "output_type": "stream",
     "text": [
      "['Hello Madam', 'Hello Sir', 'Namaste Madam', 'Namaste Sir']\n"
     ]
    }
   ],
   "source": [
    "list1 = [\"Hello \", \"Namaste \"]\n",
    "list2 = [\"Madam\", \"Sir\"]\n",
    "res = [x+y for x in list1 for y in list2]\n",
    "print(res)"
   ]
  },
  {
   "cell_type": "markdown",
   "id": "c8ad75b6",
   "metadata": {},
   "source": [
    "# Exercise 5: Turn every item of a list into its square."
   ]
  },
  {
   "cell_type": "code",
   "execution_count": 4,
   "id": "2d17f48a",
   "metadata": {},
   "outputs": [
    {
     "name": "stdout",
     "output_type": "stream",
     "text": [
      "[1, 4, 9, 16, 25, 36, 49]\n"
     ]
    }
   ],
   "source": [
    "numbers = [1, 2, 3, 4, 5, 6, 7]\n",
    "res = []\n",
    "for i in numbers:\n",
    "    res.append(i*i)\n",
    "print(res)"
   ]
  },
  {
   "cell_type": "code",
   "execution_count": 5,
   "id": "cb70260a",
   "metadata": {},
   "outputs": [
    {
     "name": "stdout",
     "output_type": "stream",
     "text": [
      "[1, 4, 9, 16, 25, 36, 49]\n"
     ]
    }
   ],
   "source": [
    "numbers = [1, 2, 3, 4, 5, 6, 7]\n",
    "res = [x*x for x in numbers]\n",
    "print(res)"
   ]
  },
  {
   "cell_type": "markdown",
   "id": "d765275d",
   "metadata": {},
   "source": [
    "# Exercise 6: Remove empty strings from the list of strings."
   ]
  },
  {
   "cell_type": "code",
   "execution_count": 24,
   "id": "aa3c16a0",
   "metadata": {},
   "outputs": [
    {
     "name": "stdout",
     "output_type": "stream",
     "text": [
      "['Aarohi', 'Neil', 'Amyra', 'Nitesh']\n"
     ]
    }
   ],
   "source": [
    "list1 = [\"Aarohi\", \"\", \"Neil\", \"Amyra\", \"\", \"Nitesh\"]\n",
    "res = list(filter(None, list1))\n",
    "print(res)"
   ]
  },
  {
   "cell_type": "code",
   "execution_count": 10,
   "id": "4bd31587",
   "metadata": {},
   "outputs": [
    {
     "name": "stdout",
     "output_type": "stream",
     "text": [
      "[10, 20, [300, 400, [5000, 6000, 7000], 500], 30, 40]\n",
      "7000\n"
     ]
    }
   ],
   "source": [
    "list1 = [10, 20, [300, 400, [5000, 6000], 500], 30, 40]\n",
    "list1[2][2].append(7000)\n",
    "print(list1)\n",
    "print(list1[2][2][2])"
   ]
  },
  {
   "cell_type": "markdown",
   "id": "46cfbd58",
   "metadata": {},
   "source": [
    "# Exercise 7: Remove all occurrences of a specific item from a list."
   ]
  },
  {
   "cell_type": "code",
   "execution_count": 6,
   "id": "28cf4437",
   "metadata": {},
   "outputs": [
    {
     "name": "stdout",
     "output_type": "stream",
     "text": [
      "[5, 15, 25, 50]\n"
     ]
    }
   ],
   "source": [
    "list1 = [5, 20, 15, 20, 25, 50, 20]\n",
    "def remove_value(sample_list, val):\n",
    "    return [i for i in sample_list if i!=val]\n",
    "res = remove_value(list1, 20)\n",
    "print(res)"
   ]
  },
  {
   "cell_type": "code",
   "execution_count": 11,
   "id": "a8a249d2",
   "metadata": {},
   "outputs": [
    {
     "name": "stdout",
     "output_type": "stream",
     "text": [
      "[5, 15, 25, 50]\n"
     ]
    }
   ],
   "source": [
    "list1 = [5, 20, 15, 20, 25, 50, 20]\n",
    "while 20 in list1:\n",
    "    list1.remove(20)\n",
    "print(list1)"
   ]
  },
  {
   "cell_type": "markdown",
   "id": "4dace309",
   "metadata": {},
   "source": [
    "# PYTHON DICTIONARY"
   ]
  },
  {
   "cell_type": "markdown",
   "id": "0bea1d71",
   "metadata": {},
   "source": [
    "Python dictionary is a mutable object, and it contains the data in the form of key-value pairs. Each key is seperated from its value by a colon."
   ]
  },
  {
   "cell_type": "markdown",
   "id": "6c4f3a8c",
   "metadata": {},
   "source": [
    "# Exercise 1: Convert two lists into a dictionary"
   ]
  },
  {
   "cell_type": "code",
   "execution_count": 12,
   "id": "f6d58aa8",
   "metadata": {},
   "outputs": [
    {
     "name": "stdout",
     "output_type": "stream",
     "text": [
      "{'Ten': 10, 'Twenty': 20, 'Thirty': 30}\n"
     ]
    }
   ],
   "source": [
    "keys = ['Ten', 'Twenty', 'Thirty']\n",
    "values = [10, 20, 30]\n",
    "res_dict = dict(zip(keys, values))\n",
    "print(res_dict)"
   ]
  },
  {
   "cell_type": "code",
   "execution_count": 13,
   "id": "189b596a",
   "metadata": {},
   "outputs": [
    {
     "name": "stdout",
     "output_type": "stream",
     "text": [
      "{'Ten': 10, 'Twenty': 20, 'Thirty': 30}\n"
     ]
    }
   ],
   "source": [
    "keys = ['Ten', 'Twenty', 'Thirty']\n",
    "values = [10, 20, 30]\n",
    "res_dict = dict()\n",
    "for i in range(len(keys)):\n",
    "    res_dict.update({keys[i]:values[i]})\n",
    "print(res_dict)"
   ]
  },
  {
   "cell_type": "markdown",
   "id": "669cbdf4",
   "metadata": {},
   "source": [
    "# Exercise 2: Merge two python dictionaries into one"
   ]
  },
  {
   "cell_type": "code",
   "execution_count": 15,
   "id": "bfc6211a",
   "metadata": {},
   "outputs": [
    {
     "name": "stdout",
     "output_type": "stream",
     "text": [
      "{'Ten': 10, 'Twenty': 20, 'Thirty': 30, 'Forty': 40, 'Fifty': 50}\n"
     ]
    }
   ],
   "source": [
    "dict1 = {'Ten' : 10, 'Twenty' : 20, 'Thirty' : 30}\n",
    "dict2 = {'Thirty' : 30, 'Forty' : 40, 'Fifty' : 50}\n",
    "\n",
    "dict3 = dict1.copy()\n",
    "dict3.update(dict2)\n",
    "print(dict3)"
   ]
  },
  {
   "cell_type": "markdown",
   "id": "e3df2097",
   "metadata": {},
   "source": [
    "# Exercise 3: Print the value of key 'history' from the below dict"
   ]
  },
  {
   "cell_type": "code",
   "execution_count": 23,
   "id": "55ffc636",
   "metadata": {},
   "outputs": [
    {
     "name": "stdout",
     "output_type": "stream",
     "text": [
      "{'class': {'student': {'name': 'Avni', 'marks': {'physics': 70, 'history': 80}}}}\n",
      "80\n"
     ]
    }
   ],
   "source": [
    "sampleDict = {\n",
    "    \"class\" : {\n",
    "        \"student\" : {\n",
    "            \"name\" : \"Avni\",\n",
    "            \"marks\" : {\n",
    "                \"physics\" : 70,\n",
    "                \"history\" : 80\n",
    "            }\n",
    "        }\n",
    "    }\n",
    "}\n",
    "\n",
    "print(sampleDict)\n",
    "print(sampleDict['class']['student']['marks']['history'])"
   ]
  },
  {
   "cell_type": "markdown",
   "id": "9e678b72",
   "metadata": {},
   "source": [
    "# Exercise 4: Initialize dictionary with default values"
   ]
  },
  {
   "cell_type": "code",
   "execution_count": 22,
   "id": "19b45081",
   "metadata": {},
   "outputs": [
    {
     "name": "stdout",
     "output_type": "stream",
     "text": [
      "{'Aarohi': {'designation': 'Developer', 'salary': 8000}, 'Neil': {'designation': 'Developer', 'salary': 8000}}\n",
      "Aarohi =  {'designation': 'Developer', 'salary': 8000}\n",
      "Neil =  {'designation': 'Developer', 'salary': 8000}\n"
     ]
    }
   ],
   "source": [
    "employees = ['Aarohi', 'Neil']\n",
    "defaults = {\"designation\" : 'Developer', \"salary\" : 8000}\n",
    "res = dict.fromkeys(employees, defaults)\n",
    "print(res)\n",
    "print(\"Aarohi = \", res[\"Aarohi\"])\n",
    "print(\"Neil = \", res[\"Neil\"])"
   ]
  },
  {
   "cell_type": "markdown",
   "id": "144b18ae",
   "metadata": {},
   "source": [
    "# Exercise 5: Create a dictionary by extracting the keys from a given dictionary"
   ]
  },
  {
   "cell_type": "code",
   "execution_count": 9,
   "id": "90c537d0",
   "metadata": {},
   "outputs": [
    {
     "name": "stdout",
     "output_type": "stream",
     "text": [
      "{'name': 'Aarohi', 'salary': 10000}\n"
     ]
    }
   ],
   "source": [
    "sample_dict = {\n",
    "    \"name\" : \"Aarohi\",\n",
    "    \"age\" : 20,\n",
    "    \"salary\" : 10000,\n",
    "    \"city\" : \"Mumbai\"\n",
    "}\n",
    "\n",
    "keys = [\"name\", \"salary\"]\n",
    "\n",
    "newDict = {k: sample_dict[k] for k in keys}\n",
    "print(newDict)"
   ]
  },
  {
   "cell_type": "markdown",
   "id": "58eab1ea",
   "metadata": {},
   "source": [
    "# Exercise 6: Delete a list of keys from a dictionary"
   ]
  },
  {
   "cell_type": "code",
   "execution_count": 7,
   "id": "15bec1eb",
   "metadata": {},
   "outputs": [
    {
     "name": "stdout",
     "output_type": "stream",
     "text": [
      "{'age': 20, 'city': 'Mumbai'}\n"
     ]
    }
   ],
   "source": [
    "sample_dict = {\n",
    "    \"name\" : \"Aarohi\",\n",
    "    \"age\" : 20,\n",
    "    \"salary\" : 10000,\n",
    "    \"city\" : \"Mumbai\"\n",
    "}\n",
    "\n",
    "keys = [\"name\", \"salary\"]\n",
    "\n",
    "for k in keys:\n",
    "    sample_dict.pop(k)\n",
    "print(sample_dict)"
   ]
  },
  {
   "cell_type": "markdown",
   "id": "06223a13",
   "metadata": {},
   "source": [
    "# Exercise 7: Check if a value exists in a dictionary"
   ]
  },
  {
   "cell_type": "code",
   "execution_count": 28,
   "id": "92f0a585",
   "metadata": {},
   "outputs": [
    {
     "name": "stdout",
     "output_type": "stream",
     "text": [
      "200 present in a dict\n"
     ]
    }
   ],
   "source": [
    "sample_dict = {'a': 100, 'b': 200, 'c' : 300}\n",
    "if 200 in sample_dict.values():\n",
    "    print('200 present in a dict')"
   ]
  },
  {
   "cell_type": "markdown",
   "id": "3fb30561",
   "metadata": {},
   "source": [
    "# Exercise 8: Rename key of a dictionary"
   ]
  },
  {
   "cell_type": "code",
   "execution_count": 29,
   "id": "4fcf5d39",
   "metadata": {},
   "outputs": [
    {
     "name": "stdout",
     "output_type": "stream",
     "text": [
      "{'name': 'Aarohi', 'age': 20, 'salary': 10000, 'location': 'Mumbai'}\n"
     ]
    }
   ],
   "source": [
    "sample_dict = {\n",
    "    \"name\" : \"Aarohi\",\n",
    "    \"age\" : 20,\n",
    "    \"salary\" : 10000,\n",
    "    \"city\" : \"Mumbai\"\n",
    "}\n",
    "\n",
    "sample_dict ['location'] = sample_dict.pop('city')\n",
    "print(sample_dict)"
   ]
  },
  {
   "cell_type": "markdown",
   "id": "3ef3c6c3",
   "metadata": {},
   "source": [
    "# Exercise 9: Get the key of a minimum value from the dictionary"
   ]
  },
  {
   "cell_type": "code",
   "execution_count": 30,
   "id": "83fd0dc2",
   "metadata": {},
   "outputs": [
    {
     "name": "stdout",
     "output_type": "stream",
     "text": [
      "Math\n"
     ]
    }
   ],
   "source": [
    "sample_dict = {\n",
    "    'Physics' : 82,\n",
    "    'Math' : 65,\n",
    "    'History' : 75\n",
    "}\n",
    "print(min(sample_dict, key=sample_dict.get))"
   ]
  },
  {
   "cell_type": "markdown",
   "id": "78036667",
   "metadata": {},
   "source": [
    "# Exercise 10: Change value of a key in a nested dictionary"
   ]
  },
  {
   "cell_type": "code",
   "execution_count": 32,
   "id": "931be593",
   "metadata": {},
   "outputs": [
    {
     "name": "stdout",
     "output_type": "stream",
     "text": [
      "{'emp1': {'name': 'Aarohi', 'salary': 75000}, 'emp2': {'name': 'Amyra', 'salary': 60000}, 'emp3': {'name': 'Neil', 'salary': 55000}, 'emp4': {'name': 'Nitesh', 'salary': 45000}}\n"
     ]
    }
   ],
   "source": [
    "sample_dict = {\n",
    "    'emp1' : {'name' : 'Aarohi', 'salary' : 75000},\n",
    "    'emp2' : {'name' : 'Amyra', 'salary' : 60000},\n",
    "    'emp3' : {'name' : 'Neil', 'salary' : 55000},\n",
    "    'emp4' : {'name' : 'Nitesh', 'salary' : 40000}\n",
    "}\n",
    "\n",
    "sample_dict['emp4']['salary'] = 45000\n",
    "print(sample_dict)"
   ]
  },
  {
   "cell_type": "markdown",
   "id": "ab387551",
   "metadata": {},
   "source": [
    "# PYTHON SET"
   ]
  },
  {
   "cell_type": "markdown",
   "id": "dc4457ee",
   "metadata": {},
   "source": [
    "Set in python is an unordered collection of items. Everu item is unique in it. i.e., the set doesn't allow duplicates"
   ]
  },
  {
   "cell_type": "markdown",
   "id": "2958ca9a",
   "metadata": {},
   "source": [
    "# Exercise 1: Add a list of elements to a set"
   ]
  },
  {
   "cell_type": "code",
   "execution_count": 33,
   "id": "816b4bb9",
   "metadata": {},
   "outputs": [
    {
     "name": "stdout",
     "output_type": "stream",
     "text": [
      "{'Yellow', 'Black', 'Green', 'Orange', 'Blue', 'Red'}\n"
     ]
    }
   ],
   "source": [
    "sample_set = {\"Yellow\", \"Orange\", \"Black\"}\n",
    "sample_list = [\"Blue\", \"Green\", \"Red\"]\n",
    "sample_set.update(sample_list)\n",
    "print(sample_set)"
   ]
  },
  {
   "cell_type": "markdown",
   "id": "0b9a5210",
   "metadata": {},
   "source": [
    "# Exercise 2: Return a new set of identical items from two sets"
   ]
  },
  {
   "cell_type": "code",
   "execution_count": 40,
   "id": "5e811089",
   "metadata": {},
   "outputs": [
    {
     "name": "stdout",
     "output_type": "stream",
     "text": [
      "{40, 50, 30}\n"
     ]
    }
   ],
   "source": [
    "set1 = {10, 20, 30, 40, 50}\n",
    "set2 = {30, 40, 50, 60, 70}\n",
    "print(set1.intersection(set2))"
   ]
  },
  {
   "cell_type": "markdown",
   "id": "5d1779a8",
   "metadata": {},
   "source": [
    "# Exercise 3: Get only unique items from two sets"
   ]
  },
  {
   "cell_type": "code",
   "execution_count": 35,
   "id": "13b8f008",
   "metadata": {},
   "outputs": [
    {
     "name": "stdout",
     "output_type": "stream",
     "text": [
      "{70, 40, 10, 50, 20, 60, 30}\n"
     ]
    }
   ],
   "source": [
    "set1 = {10, 20, 30, 40, 50}\n",
    "set2 = {30, 40, 50, 60, 70}\n",
    "print(set1.union(set2))"
   ]
  },
  {
   "cell_type": "markdown",
   "id": "a717edac",
   "metadata": {},
   "source": [
    "# Exercise 4: Update the first set with items that don't exist in the second set"
   ]
  },
  {
   "cell_type": "code",
   "execution_count": 36,
   "id": "6bcf315a",
   "metadata": {},
   "outputs": [
    {
     "name": "stdout",
     "output_type": "stream",
     "text": [
      "{10, 30}\n"
     ]
    }
   ],
   "source": [
    "set1 = {10, 20, 30}\n",
    "set2 = {20, 40, 50}\n",
    "\n",
    "set1.difference_update(set2)\n",
    "print(set1)"
   ]
  },
  {
   "cell_type": "markdown",
   "id": "b1d4553d",
   "metadata": {},
   "source": [
    "# Exercise 5: Remove items from the set at once"
   ]
  },
  {
   "cell_type": "code",
   "execution_count": 37,
   "id": "5cad9080",
   "metadata": {},
   "outputs": [
    {
     "name": "stdout",
     "output_type": "stream",
     "text": [
      "{50, 40}\n"
     ]
    }
   ],
   "source": [
    "set1 = {10, 20, 30, 40, 50}\n",
    "set1.difference_update({10, 20, 30})\n",
    "print(set1)"
   ]
  },
  {
   "cell_type": "markdown",
   "id": "8dad7215",
   "metadata": {},
   "source": [
    "# Exercise 6: Return a set of elements present in set A or B, but not both "
   ]
  },
  {
   "cell_type": "code",
   "execution_count": 38,
   "id": "73cd133d",
   "metadata": {},
   "outputs": [
    {
     "name": "stdout",
     "output_type": "stream",
     "text": [
      "{20, 70, 10, 60}\n"
     ]
    }
   ],
   "source": [
    "set1 = {10, 20, 30, 40, 50}\n",
    "set2 = {30, 40, 50, 60, 70}\n",
    "\n",
    "print(set1.symmetric_difference(set2))"
   ]
  },
  {
   "cell_type": "markdown",
   "id": "2e0d2e2b",
   "metadata": {},
   "source": [
    "# Exercise 7: Check if two sets have any elements in common. If yes, display the common elements"
   ]
  },
  {
   "cell_type": "code",
   "execution_count": 39,
   "id": "110552e0",
   "metadata": {},
   "outputs": [
    {
     "name": "stdout",
     "output_type": "stream",
     "text": [
      "Two sets have items in common\n",
      "{10}\n"
     ]
    }
   ],
   "source": [
    "set1 = {10, 20, 30, 40, 50}\n",
    "set2 = {60, 70, 80, 90, 10}\n",
    "if set1.isdisjoint(set2):\n",
    "    print(\"Two sets have no items in common\")\n",
    "else:\n",
    "    print(\"Two sets have items in common\")\n",
    "    print(set1.intersection(set2))"
   ]
  },
  {
   "cell_type": "markdown",
   "id": "b7c0b391",
   "metadata": {},
   "source": [
    "# Exercise 8: Update set1 by adding items from set2, except common items"
   ]
  },
  {
   "cell_type": "code",
   "execution_count": 41,
   "id": "57b764c8",
   "metadata": {},
   "outputs": [
    {
     "name": "stdout",
     "output_type": "stream",
     "text": [
      "{20, 70, 10, 60}\n"
     ]
    }
   ],
   "source": [
    "set1 = {10, 20, 30, 40, 50}\n",
    "set2 = {30, 40, 50, 60, 70}\n",
    "\n",
    "set1.symmetric_difference_update(set2)\n",
    "print(set1)"
   ]
  },
  {
   "cell_type": "markdown",
   "id": "6f5fe96f",
   "metadata": {},
   "source": [
    "# Exercise 9: Remove items from set1 that are not common to both set1 and set2"
   ]
  },
  {
   "cell_type": "code",
   "execution_count": 2,
   "id": "d39f909c",
   "metadata": {},
   "outputs": [
    {
     "name": "stdout",
     "output_type": "stream",
     "text": [
      "{40, 50, 30}\n"
     ]
    }
   ],
   "source": [
    "set1 = {10, 20, 30, 40, 50}\n",
    "set2 = {30, 40, 50, 60, 70}\n",
    "set1.intersection_update(set2)\n",
    "print(set1)"
   ]
  },
  {
   "cell_type": "markdown",
   "id": "c9369af7",
   "metadata": {},
   "source": [
    "# Python Tuple"
   ]
  },
  {
   "cell_type": "markdown",
   "id": "39e30280",
   "metadata": {},
   "source": [
    "A tuple is an immutable object in Python that can't be changed. Tuples are also sequences."
   ]
  },
  {
   "cell_type": "markdown",
   "id": "ee4f8bc6",
   "metadata": {},
   "source": [
    "# Exercise 1: Reverse the tuple"
   ]
  },
  {
   "cell_type": "code",
   "execution_count": 10,
   "id": "095b33b1",
   "metadata": {},
   "outputs": [
    {
     "name": "stdout",
     "output_type": "stream",
     "text": [
      "(50, 40, 30, 20, 10)\n"
     ]
    }
   ],
   "source": [
    "tuple1 = (10, 20, 30, 40, 50)\n",
    "tuple1 = tuple1[::-1]\n",
    "print(tuple1)"
   ]
  },
  {
   "cell_type": "markdown",
   "id": "b5d5f1e8",
   "metadata": {},
   "source": [
    "# Exercise 2: Access the value 20 from the tuple"
   ]
  },
  {
   "cell_type": "code",
   "execution_count": 5,
   "id": "f5bd4f98",
   "metadata": {},
   "outputs": [
    {
     "name": "stdout",
     "output_type": "stream",
     "text": [
      "tuple1[0]:  Orange\n",
      "tuple1[1]:  [10, 20, 30]\n",
      "tuple1[1][1]:  20\n"
     ]
    }
   ],
   "source": [
    "tuple1 = (\"Orange\", [10, 20, 30], (5, 15, 25))\n",
    "print(\"tuple1[0]: \", tuple1[0])\n",
    "print(\"tuple1[1]: \",tuple1[1])\n",
    "print(\"tuple1[1][1]: \",tuple1[1][1])"
   ]
  },
  {
   "cell_type": "markdown",
   "id": "e04323b4",
   "metadata": {},
   "source": [
    "# Exercise 3: Create a tuple with single item 50"
   ]
  },
  {
   "cell_type": "code",
   "execution_count": 6,
   "id": "55d4434a",
   "metadata": {},
   "outputs": [
    {
     "name": "stdout",
     "output_type": "stream",
     "text": [
      "tuple with comma:  (50,)\n",
      "tuple without comma:  50\n"
     ]
    }
   ],
   "source": [
    "tuple1 = (50, )\n",
    "tuple2 = (50)\n",
    "print(\"tuple with comma: \",tuple1)\n",
    "print(\"tuple without comma: \",tuple2)"
   ]
  },
  {
   "cell_type": "markdown",
   "id": "21559b49",
   "metadata": {},
   "source": [
    "# Exercise 4: Unpack the tuple into 4 variables"
   ]
  },
  {
   "cell_type": "code",
   "execution_count": 8,
   "id": "03162fcd",
   "metadata": {},
   "outputs": [
    {
     "name": "stdout",
     "output_type": "stream",
     "text": [
      "a: 10\n",
      "b: 20\n",
      "c: 30\n",
      "d: 40\n"
     ]
    }
   ],
   "source": [
    "tuple1 = (10, 20, 30, 40)\n",
    "a, b, c, d = tuple1\n",
    "print(\"a:\",a)\n",
    "print(\"b:\",b)\n",
    "print(\"c:\",c)\n",
    "print(\"d:\",d)"
   ]
  },
  {
   "cell_type": "markdown",
   "id": "eeaba790",
   "metadata": {},
   "source": [
    "# Exercise 5: Swap two tuples in Python"
   ]
  },
  {
   "cell_type": "code",
   "execution_count": 11,
   "id": "fa2ddbf5",
   "metadata": {},
   "outputs": [
    {
     "name": "stdout",
     "output_type": "stream",
     "text": [
      "Before swapping\n",
      "tuple1: (11, 22)\n",
      "tuple2: (99, 88)\n",
      "After swapping\n",
      "tuple1: (99, 88)\n",
      "tuple2: (11, 22)\n"
     ]
    }
   ],
   "source": [
    "tuple1 = (11, 22)\n",
    "tuple2 = (99, 88)\n",
    "print(\"Before swapping\")\n",
    "print(\"tuple1:\", tuple1)\n",
    "print(\"tuple2:\", tuple2)\n",
    "tuple1, tuple2 = tuple2, tuple1\n",
    "print(\"After swapping\")\n",
    "print(\"tuple1:\",tuple1)\n",
    "print(\"tuple2:\",tuple2)"
   ]
  },
  {
   "cell_type": "markdown",
   "id": "7f12fff8",
   "metadata": {},
   "source": [
    "# Exercise 6: Copy the specific elements from one tuple to a new tuple"
   ]
  },
  {
   "cell_type": "code",
   "execution_count": 12,
   "id": "7ff84b93",
   "metadata": {},
   "outputs": [
    {
     "name": "stdout",
     "output_type": "stream",
     "text": [
      "tuple2: (44, 55)\n"
     ]
    }
   ],
   "source": [
    "tuple1 = (11, 22, 33, 44, 55, 66)\n",
    "tuple2 = tuple1[3:-1]\n",
    "print(\"tuple2:\", tuple2)"
   ]
  },
  {
   "cell_type": "markdown",
   "id": "125a843a",
   "metadata": {},
   "source": [
    "# Exercise 7: Modify the tuple"
   ]
  },
  {
   "cell_type": "code",
   "execution_count": 14,
   "id": "2e3e711a",
   "metadata": {},
   "outputs": [
    {
     "name": "stdout",
     "output_type": "stream",
     "text": [
      "Before: (11, [22, 33], 44, 55)\n",
      "After: (11, [222, 33], 44, 55)\n"
     ]
    }
   ],
   "source": [
    "tuple1 = (11, [22, 33], 44, 55)\n",
    "print(\"Before:\", tuple1)\n",
    "tuple1[1][0] = 222\n",
    "print(\"After:\",tuple1)"
   ]
  },
  {
   "cell_type": "markdown",
   "id": "01a23563",
   "metadata": {},
   "source": [
    "# Exercise 8: Sort a tuple of tuples by 2nd item"
   ]
  },
  {
   "cell_type": "code",
   "execution_count": 15,
   "id": "7405fcaa",
   "metadata": {},
   "outputs": [
    {
     "name": "stdout",
     "output_type": "stream",
     "text": [
      "(('c', 11), ('a', 23), ('d', 29), ('b', 37))\n"
     ]
    }
   ],
   "source": [
    "tuple1 = (('a', 23), ('b', 37), ('c', 11), ('d', 29))\n",
    "tuple1 = tuple(sorted(list(tuple1), key=lambda x:x[1]))\n",
    "print(tuple1)"
   ]
  },
  {
   "cell_type": "markdown",
   "id": "2b22463f",
   "metadata": {},
   "source": [
    "# Exercise 9: Counts the number of occurences of item 50 from a tuple"
   ]
  },
  {
   "cell_type": "code",
   "execution_count": 17,
   "id": "98db0be2",
   "metadata": {},
   "outputs": [
    {
     "name": "stdout",
     "output_type": "stream",
     "text": [
      "2\n"
     ]
    }
   ],
   "source": [
    "tuple1 = (50, 10, 60, 70, 50)\n",
    "print(tuple1.count(50))"
   ]
  },
  {
   "cell_type": "markdown",
   "id": "7de13210",
   "metadata": {},
   "source": [
    "# Exercise 10: Check if all items in the tuple are the same"
   ]
  },
  {
   "cell_type": "code",
   "execution_count": 18,
   "id": "46463f68",
   "metadata": {},
   "outputs": [
    {
     "name": "stdout",
     "output_type": "stream",
     "text": [
      "True\n"
     ]
    }
   ],
   "source": [
    "def check(t):\n",
    "    return all(i==t[0] for i in t)\n",
    "tuple1 = (45, 45, 45, 45)\n",
    "print(check(tuple1))"
   ]
  }
 ],
 "metadata": {
  "kernelspec": {
   "display_name": "Python 3 (ipykernel)",
   "language": "python",
   "name": "python3"
  },
  "language_info": {
   "codemirror_mode": {
    "name": "ipython",
    "version": 3
   },
   "file_extension": ".py",
   "mimetype": "text/x-python",
   "name": "python",
   "nbconvert_exporter": "python",
   "pygments_lexer": "ipython3",
   "version": "3.9.12"
  }
 },
 "nbformat": 4,
 "nbformat_minor": 5
}
