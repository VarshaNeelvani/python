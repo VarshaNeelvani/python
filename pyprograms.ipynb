{
 "cells": [
  {
   "cell_type": "markdown",
   "id": "03d8ff70",
   "metadata": {},
   "source": [
    "# Find the Addition of five numbers"
   ]
  },
  {
   "cell_type": "code",
   "execution_count": 1,
   "id": "865912c9",
   "metadata": {},
   "outputs": [
    {
     "name": "stdout",
     "output_type": "stream",
     "text": [
      "Enter num1: 5\n",
      "Enter num2: 6\n",
      "Enter num3: 4\n",
      "Enter num4: 3\n",
      "Enter num5: 2\n",
      "The sum of given five numbers is  20\n"
     ]
    }
   ],
   "source": [
    "a = int(input(\"Enter num1: \"))\n",
    "b = int(input(\"Enter num2: \"))\n",
    "c = int(input(\"Enter num3: \"))\n",
    "d = int(input(\"Enter num4: \"))\n",
    "e = int(input(\"Enter num5: \"))\n",
    "sum = a+b+c+d+e\n",
    "print(\"The sum of given five numbers is \" ,sum)"
   ]
  },
  {
   "cell_type": "markdown",
   "id": "d207daa2",
   "metadata": {},
   "source": [
    "# Find the Simple & Compound Interest"
   ]
  },
  {
   "cell_type": "code",
   "execution_count": 2,
   "id": "396f834c",
   "metadata": {},
   "outputs": [
    {
     "name": "stdout",
     "output_type": "stream",
     "text": [
      "Enter amount: 5000\n",
      "Enter time: 2\n",
      "Enter rate: 18\n",
      "Simple Interest is: 1800.000000\n",
      "Compound Interest is: 1962.000000\n"
     ]
    }
   ],
   "source": [
    "P = float(input(\"Enter amount: \"))\n",
    "T = float(input(\"Enter time: \"))\n",
    "R = float(input(\"Enter rate: \"))\n",
    "SI = P*T*R/100\n",
    "CI = P*((1+R/100)**T-1)\n",
    "print(\"Simple Interest is: %2f\" %(SI))\n",
    "print(\"Compound Interest is: %2f\" %(CI))"
   ]
  },
  {
   "cell_type": "markdown",
   "id": "4d55e6f3",
   "metadata": {},
   "source": [
    "# Find the Area of Rectangle"
   ]
  },
  {
   "cell_type": "code",
   "execution_count": 3,
   "id": "74cf41f3",
   "metadata": {},
   "outputs": [
    {
     "name": "stdout",
     "output_type": "stream",
     "text": [
      "Length: 2\n",
      "Breadth: 5\n",
      "Area of rectangle:  10\n"
     ]
    }
   ],
   "source": [
    "l = int(input(\"Length: \"))\n",
    "b = int(input(\"Breadth: \"))\n",
    "arearect= l*b\n",
    "print(\"Area of rectangle: \",arearect)"
   ]
  },
  {
   "cell_type": "markdown",
   "id": "3a1e7fb6",
   "metadata": {},
   "source": [
    "# Find the Area of Triangle"
   ]
  },
  {
   "cell_type": "code",
   "execution_count": 4,
   "id": "8b00e5c1",
   "metadata": {},
   "outputs": [
    {
     "name": "stdout",
     "output_type": "stream",
     "text": [
      "Base: 5\n",
      "Height: 6\n",
      "Area of Triangle:  15.0\n"
     ]
    }
   ],
   "source": [
    "b = int(input(\"Base: \"))\n",
    "h = int(input(\"Height: \"))\n",
    "areatri=  1/2 * (b * h)\n",
    "print(\"Area of Triangle: \", areatri)"
   ]
  },
  {
   "cell_type": "markdown",
   "id": "14c85c6d",
   "metadata": {},
   "source": [
    "# Find square and cube of given number"
   ]
  },
  {
   "cell_type": "code",
   "execution_count": 5,
   "id": "fd35ed98",
   "metadata": {},
   "outputs": [
    {
     "name": "stdout",
     "output_type": "stream",
     "text": [
      "Enter the number: 2\n",
      "Square of the given number is  4\n",
      "Cube of the given number is  8\n"
     ]
    }
   ],
   "source": [
    "num = int(input(\"Enter the number: \"))\n",
    "s = num*num\n",
    "c = num*num*num\n",
    "print(\"Square of the given number is \", s)\n",
    "print(\"Cube of the given number is \", c)"
   ]
  },
  {
   "cell_type": "markdown",
   "id": "7b5a98a3",
   "metadata": {},
   "source": [
    "# Check whether the person is eligible to vote or not"
   ]
  },
  {
   "cell_type": "code",
   "execution_count": 6,
   "id": "c2848704",
   "metadata": {},
   "outputs": [
    {
     "name": "stdout",
     "output_type": "stream",
     "text": [
      "Enter your age: 18\n",
      "You are eligible to vote\n"
     ]
    }
   ],
   "source": [
    "age = int(input(\"Enter your age: \"))\n",
    "if (age>17):\n",
    "    print(\"You are eligible to vote\")\n",
    "else:\n",
    "    print(\"You are not eligible to vote\")\n"
   ]
  },
  {
   "cell_type": "markdown",
   "id": "2c8c6b31",
   "metadata": {},
   "source": [
    "# Check whether the number is even or odd"
   ]
  },
  {
   "cell_type": "code",
   "execution_count": 7,
   "id": "d96d1638",
   "metadata": {},
   "outputs": [
    {
     "name": "stdout",
     "output_type": "stream",
     "text": [
      "Enter the number: 5\n",
      "The given number is odd\n"
     ]
    }
   ],
   "source": [
    "num = int(input(\"Enter the number: \"))\n",
    "if (num%2==0):\n",
    "    print(\"The given number is even\")\n",
    "else: \n",
    "    print(\"The given number is odd\")"
   ]
  },
  {
   "cell_type": "markdown",
   "id": "41409335",
   "metadata": {},
   "source": [
    "# Check whether the number is positive or not"
   ]
  },
  {
   "cell_type": "code",
   "execution_count": 8,
   "id": "b60e0203",
   "metadata": {},
   "outputs": [
    {
     "name": "stdout",
     "output_type": "stream",
     "text": [
      "Enter the number: -9\n",
      "The given number is negative\n"
     ]
    }
   ],
   "source": [
    "num = int(input(\"Enter the number: \"))\n",
    "if (num>0):\n",
    "    print(\"The given number is positive\")\n",
    "else: \n",
    "    print(\"The given number is negative\")"
   ]
  },
  {
   "cell_type": "markdown",
   "id": "5bb495e8",
   "metadata": {},
   "source": [
    "# Check whether the number is single digit or not"
   ]
  },
  {
   "cell_type": "code",
   "execution_count": 9,
   "id": "ae09aa1b",
   "metadata": {},
   "outputs": [
    {
     "name": "stdout",
     "output_type": "stream",
     "text": [
      "Enter the number: -5\n",
      "The given number is single digit\n"
     ]
    }
   ],
   "source": [
    "num = int(input(\"Enter the number: \"))\n",
    "if (num>=-9 and num<10):\n",
    "    print(\"The given number is single digit\")\n",
    "else:\n",
    "    print(\"The given number is not a single digit\")"
   ]
  },
  {
   "cell_type": "markdown",
   "id": "db9d1f0b",
   "metadata": {},
   "source": [
    "# Enter the time in 24hr format and convert it into 12hr"
   ]
  },
  {
   "cell_type": "code",
   "execution_count": 10,
   "id": "d6e1f062",
   "metadata": {},
   "outputs": [
    {
     "name": "stdout",
     "output_type": "stream",
     "text": [
      "Enter the hour: 21\n",
      "Enter the minute: 45\n",
      "Given time= 21:45\n",
      "Time= 9:45 PM\n"
     ]
    }
   ],
   "source": [
    "hour = int(input(\"Enter the hour: \"))\n",
    "minute = input(\"Enter the minute: \")\n",
    "print(\"Given time= {0}:{1}\" .format(hour,minute))\n",
    "if hour>12:\n",
    "    t1 = hour - 12\n",
    "    print(\"Time= {0}:{1} PM\" .format(t1, minute))\n",
    "else:\n",
    "    print(\"Time= {0}:{1} AM\" .format(hour, minute))"
   ]
  },
  {
   "cell_type": "markdown",
   "id": "baafca4d",
   "metadata": {},
   "source": [
    "# From Notes"
   ]
  },
  {
   "cell_type": "markdown",
   "id": "2d6474a3",
   "metadata": {},
   "source": [
    "# Printing a message"
   ]
  },
  {
   "cell_type": "code",
   "execution_count": 11,
   "id": "948885f5",
   "metadata": {},
   "outputs": [
    {
     "name": "stdout",
     "output_type": "stream",
     "text": [
      "God helps those who help themselves\n"
     ]
    }
   ],
   "source": [
    "print(\"God helps those who help themselves\")"
   ]
  },
  {
   "cell_type": "markdown",
   "id": "7a372d64",
   "metadata": {},
   "source": [
    "# Python program to add two numbers"
   ]
  },
  {
   "cell_type": "code",
   "execution_count": 12,
   "id": "a2e72f70",
   "metadata": {},
   "outputs": [
    {
     "name": "stdout",
     "output_type": "stream",
     "text": [
      "Sum of 15 and 12 is 27\n"
     ]
    }
   ],
   "source": [
    "num1 = 15\n",
    "num2 = 12\n",
    "sum = num1 +num2\n",
    "print(\"Sum of {0} and {1} is {2}\" .format(num1, num2, sum))"
   ]
  },
  {
   "cell_type": "markdown",
   "id": "6f902ce4",
   "metadata": {},
   "source": [
    "# Python program to print ASCII value of character"
   ]
  },
  {
   "cell_type": "code",
   "execution_count": 13,
   "id": "ffd3152d",
   "metadata": {},
   "outputs": [
    {
     "name": "stdout",
     "output_type": "stream",
     "text": [
      "The ASCII value of 'g' is 103\n"
     ]
    }
   ],
   "source": [
    "c = 'g'\n",
    "print(\"The ASCII value of '\" +c+ \"' is\",ord(c))"
   ]
  },
  {
   "cell_type": "markdown",
   "id": "5e08f8e4",
   "metadata": {},
   "source": [
    "# To check whether the number is prime or not"
   ]
  },
  {
   "cell_type": "code",
   "execution_count": 14,
   "id": "9206aafe",
   "metadata": {},
   "outputs": [
    {
     "name": "stdout",
     "output_type": "stream",
     "text": [
      "2 3 5 7 11 13 17 19 23 29 31 37 41 43 47 53 59 61 67 71 73 79 83 89 97 "
     ]
    }
   ],
   "source": [
    "def isPrime(n):\n",
    "    if (n==1 or n==0):\n",
    "        return False\n",
    "    for i in range(2,n):\n",
    "        if (n%i==0):\n",
    "            return False\n",
    "    return True\n",
    "\n",
    "N = 100\n",
    "for i in range(1, N+1):\n",
    "    if (isPrime(i)):\n",
    "        print(i, end = \" \")"
   ]
  },
  {
   "cell_type": "markdown",
   "id": "884bda9f",
   "metadata": {},
   "source": [
    "# Python program to find Area of a circle"
   ]
  },
  {
   "cell_type": "code",
   "execution_count": 15,
   "id": "5a5fc1f5",
   "metadata": {},
   "outputs": [
    {
     "name": "stdout",
     "output_type": "stream",
     "text": [
      "Area is 78.550000\n"
     ]
    }
   ],
   "source": [
    "def findArea(r):\n",
    "    PI = 3.142\n",
    "    return PI * (r*r)\n",
    "print (\"Area is %.6f\" % findArea(5))"
   ]
  },
  {
   "cell_type": "markdown",
   "id": "7d64a580",
   "metadata": {},
   "source": [
    "# Python program to find maximum in arr[] of size n"
   ]
  },
  {
   "cell_type": "code",
   "execution_count": 16,
   "id": "2c1c6e3b",
   "metadata": {},
   "outputs": [
    {
     "name": "stdout",
     "output_type": "stream",
     "text": [
      "Largest in given array  9808\n"
     ]
    }
   ],
   "source": [
    "def largest(arr, n):\n",
    "    max = arr [0]\n",
    "    for i in range(1, n):\n",
    "        if arr[i] > max:\n",
    "            max = arr[i]\n",
    "    return max\n",
    "\n",
    "arr = [10, 324, 45, 90, 9808]\n",
    "n = len(arr)\n",
    "Ans = largest (arr, n)\n",
    "print(\"Largest in given array \",Ans)"
   ]
  },
  {
   "cell_type": "markdown",
   "id": "e1818c40",
   "metadata": {},
   "source": [
    "# Python program to find the sum of array"
   ]
  },
  {
   "cell_type": "code",
   "execution_count": 17,
   "id": "6efbfec0",
   "metadata": {},
   "outputs": [
    {
     "name": "stdout",
     "output_type": "stream",
     "text": [
      "Sum of the array is 34\n"
     ]
    }
   ],
   "source": [
    "def Sum(arr):\n",
    "    sum = 0\n",
    "    for i in arr:\n",
    "        sum = sum + i\n",
    "    return(sum)\n",
    "\n",
    "arr = []\n",
    "arr = [12, 3, 4, 15]\n",
    "n = len(arr)\n",
    "ans = Sum(arr)\n",
    "print(\"Sum of the array is\", ans)"
   ]
  },
  {
   "cell_type": "markdown",
   "id": "90de3a9d",
   "metadata": {},
   "source": [
    "# Python program to find the nth Fibonacci number"
   ]
  },
  {
   "cell_type": "code",
   "execution_count": 18,
   "id": "7dd27776",
   "metadata": {},
   "outputs": [
    {
     "name": "stdout",
     "output_type": "stream",
     "text": [
      "34\n"
     ]
    }
   ],
   "source": [
    "def fibonacci(n):\n",
    "    if n<0:\n",
    "        print(\"Incorrect input\")\n",
    "    elif n==0:\n",
    "        return 0\n",
    "    elif n==1 or n==2:\n",
    "        return 1\n",
    "    else:\n",
    "        return fibonacci(n-1) + fibonacci(n-2)\n",
    "print(fibonacci(9))"
   ]
  },
  {
   "cell_type": "code",
   "execution_count": null,
   "id": "cc317a75",
   "metadata": {},
   "outputs": [],
   "source": []
  }
 ],
 "metadata": {
  "kernelspec": {
   "display_name": "Python 3 (ipykernel)",
   "language": "python",
   "name": "python3"
  },
  "language_info": {
   "codemirror_mode": {
    "name": "ipython",
    "version": 3
   },
   "file_extension": ".py",
   "mimetype": "text/x-python",
   "name": "python",
   "nbconvert_exporter": "python",
   "pygments_lexer": "ipython3",
   "version": "3.9.12"
  }
 },
 "nbformat": 4,
 "nbformat_minor": 5
}
