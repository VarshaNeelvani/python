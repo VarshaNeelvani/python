{
 "cells": [
  {
   "cell_type": "markdown",
   "id": "d215d06a",
   "metadata": {},
   "source": [
    "## Let us use calculate the Z score using Python to find this outlier.\n",
    "### Step 1: Import necessary libraries"
   ]
  },
  {
   "cell_type": "code",
   "execution_count": 2,
   "id": "b0a66809",
   "metadata": {},
   "outputs": [],
   "source": [
    "import numpy as np"
   ]
  },
  {
   "cell_type": "markdown",
   "id": "1a7ab2c1",
   "metadata": {},
   "source": [
    "### Step 2: Calculate mean, standard deviation"
   ]
  },
  {
   "cell_type": "code",
   "execution_count": 3,
   "id": "c5ab6bee",
   "metadata": {},
   "outputs": [
    {
     "name": "stdout",
     "output_type": "stream",
     "text": [
      "mean of the dataset is:  2.6666666666666665\n",
      "std deviation is:  3.3598941782277745\n"
     ]
    }
   ],
   "source": [
    "data = [1,2,2,2,3,1,1,15,2,2,2,3,1,1,2]\n",
    "mean = np.mean(data)\n",
    "std = np.std(data)\n",
    "print('mean of the dataset is: ', mean)\n",
    "print('std deviation is: ', std)"
   ]
  },
  {
   "cell_type": "markdown",
   "id": "1709bf0e",
   "metadata": {},
   "source": [
    "### Step 3: Calculate Z score. If Z score>3, print it as an outlier."
   ]
  },
  {
   "cell_type": "code",
   "execution_count": 4,
   "id": "c617884b",
   "metadata": {},
   "outputs": [
    {
     "name": "stdout",
     "output_type": "stream",
     "text": [
      "outlier in dataset is [15]\n"
     ]
    }
   ],
   "source": [
    "threshold = 3\n",
    "outlier = []\n",
    "for i in data:\n",
    "    z=(i-mean)/std\n",
    "    if z>threshold:\n",
    "        outlier.append(i)\n",
    "print('outlier in dataset is', outlier)"
   ]
  },
  {
   "cell_type": "markdown",
   "id": "086c9ef1",
   "metadata": {},
   "source": [
    "### Conclusion: Z score helps us identify outliers in the data"
   ]
  },
  {
   "cell_type": "code",
   "execution_count": null,
   "id": "40df6463",
   "metadata": {},
   "outputs": [],
   "source": []
  }
 ],
 "metadata": {
  "kernelspec": {
   "display_name": "Python 3 (ipykernel)",
   "language": "python",
   "name": "python3"
  },
  "language_info": {
   "codemirror_mode": {
    "name": "ipython",
    "version": 3
   },
   "file_extension": ".py",
   "mimetype": "text/x-python",
   "name": "python",
   "nbconvert_exporter": "python",
   "pygments_lexer": "ipython3",
   "version": "3.9.12"
  }
 },
 "nbformat": 4,
 "nbformat_minor": 5
}
