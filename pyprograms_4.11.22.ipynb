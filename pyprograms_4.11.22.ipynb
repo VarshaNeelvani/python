{
 "cells": [
  {
   "cell_type": "markdown",
   "id": "2a422a82",
   "metadata": {},
   "source": [
    "# Find the Addition of five numbers"
   ]
  },
  {
   "cell_type": "code",
   "execution_count": 1,
   "id": "0831692f",
   "metadata": {},
   "outputs": [
    {
     "name": "stdout",
     "output_type": "stream",
     "text": [
      "Enter num1: 5\n",
      "Enter num2: 6\n",
      "Enter num3: 4\n",
      "Enter num4: 3\n",
      "Enter num5: 2\n",
      "The sum of given five numbers is  20\n"
     ]
    }
   ],
   "source": [
    "a = int(input(\"Enter num1: \"))\n",
    "b = int(input(\"Enter num2: \"))\n",
    "c = int(input(\"Enter num3: \"))\n",
    "d = int(input(\"Enter num4: \"))\n",
    "e = int(input(\"Enter num5: \"))\n",
    "sum = a+b+c+d+e\n",
    "print(\"The sum of given five numbers is \" ,sum)"
   ]
  },
  {
   "cell_type": "markdown",
   "id": "d0a671d7",
   "metadata": {},
   "source": [
    "# Find the Simple & Compound Interest"
   ]
  },
  {
   "cell_type": "code",
   "execution_count": 2,
   "id": "a543a86d",
   "metadata": {},
   "outputs": [
    {
     "name": "stdout",
     "output_type": "stream",
     "text": [
      "Enter amount: 5000\n",
      "Enter time: 2\n",
      "Enter rate: 18\n",
      "Simple Interest is: 1800.000000\n",
      "Compound Interest is: 1962.000000\n"
     ]
    }
   ],
   "source": [
    "P = float(input(\"Enter amount: \"))\n",
    "T = float(input(\"Enter time: \"))\n",
    "R = float(input(\"Enter rate: \"))\n",
    "SI = P*T*R/100\n",
    "CI = P*((1+R/100)**T-1)\n",
    "print(\"Simple Interest is: %2f\" %(SI))\n",
    "print(\"Compound Interest is: %2f\" %(CI))"
   ]
  },
  {
   "cell_type": "markdown",
   "id": "38b40446",
   "metadata": {},
   "source": [
    "# Find the Area of Rectangle"
   ]
  },
  {
   "cell_type": "code",
   "execution_count": 3,
   "id": "49c356d0",
   "metadata": {},
   "outputs": [
    {
     "name": "stdout",
     "output_type": "stream",
     "text": [
      "Length: 2\n",
      "Breadth: 5\n",
      "Area of rectangle:  10\n"
     ]
    }
   ],
   "source": [
    "l = int(input(\"Length: \"))\n",
    "b = int(input(\"Breadth: \"))\n",
    "arearect= l*b\n",
    "print(\"Area of rectangle: \",arearect)\n"
   ]
  },
  {
   "cell_type": "markdown",
   "id": "22255763",
   "metadata": {},
   "source": [
    "# Find the Area of Triangle"
   ]
  },
  {
   "cell_type": "code",
   "execution_count": 4,
   "id": "3eaad331",
   "metadata": {},
   "outputs": [
    {
     "name": "stdout",
     "output_type": "stream",
     "text": [
      "Base: 5\n",
      "Height: 6\n",
      "Area of Triangle:  15.0\n"
     ]
    }
   ],
   "source": [
    "b = int(input(\"Base: \"))\n",
    "h = int(input(\"Height: \"))\n",
    "areatri=  1/2 * (b * h)\n",
    "print(\"Area of Triangle: \", areatri)"
   ]
  },
  {
   "cell_type": "markdown",
   "id": "7e0b15cd",
   "metadata": {},
   "source": [
    "# Find square and cube of given number"
   ]
  },
  {
   "cell_type": "code",
   "execution_count": 5,
   "id": "042e25a5",
   "metadata": {},
   "outputs": [
    {
     "name": "stdout",
     "output_type": "stream",
     "text": [
      "Enter the number: 2\n",
      "Square of the given number is  4\n",
      "Cube of the given number is  8\n"
     ]
    }
   ],
   "source": [
    "num = int(input(\"Enter the number: \"))\n",
    "s = num*num\n",
    "c = num*num*num\n",
    "print(\"Square of the given number is \", s)\n",
    "print(\"Cube of the given number is \", c)"
   ]
  },
  {
   "cell_type": "markdown",
   "id": "58f63005",
   "metadata": {},
   "source": [
    "# Check whether the person is eligible to vote or not"
   ]
  },
  {
   "cell_type": "code",
   "execution_count": 6,
   "id": "588346f1",
   "metadata": {},
   "outputs": [
    {
     "name": "stdout",
     "output_type": "stream",
     "text": [
      "Enter your age: 19\n",
      "You are eligible to vote\n"
     ]
    }
   ],
   "source": [
    "age = int(input(\"Enter your age: \"))\n",
    "if (age>17):\n",
    "    print(\"You are eligible to vote\")\n",
    "else:\n",
    "    print(\"You are not eligible to vote\")\n"
   ]
  },
  {
   "cell_type": "markdown",
   "id": "1ef6e978",
   "metadata": {},
   "source": [
    "# Check whether the number is even or odd"
   ]
  },
  {
   "cell_type": "code",
   "execution_count": 7,
   "id": "4677f96b",
   "metadata": {},
   "outputs": [
    {
     "name": "stdout",
     "output_type": "stream",
     "text": [
      "Enter the number: 5\n",
      "The given number is odd\n"
     ]
    }
   ],
   "source": [
    "num = int(input(\"Enter the number: \"))\n",
    "if (num%2==0):\n",
    "    print(\"The given number is even\")\n",
    "else: \n",
    "    print(\"The given number is odd\")"
   ]
  },
  {
   "cell_type": "markdown",
   "id": "be421b1e",
   "metadata": {},
   "source": [
    "# Check whether the number is positive or not"
   ]
  },
  {
   "cell_type": "code",
   "execution_count": 8,
   "id": "32a78853",
   "metadata": {},
   "outputs": [
    {
     "name": "stdout",
     "output_type": "stream",
     "text": [
      "Enter the number: -9\n",
      "The given number is negative\n"
     ]
    }
   ],
   "source": [
    "num = int(input(\"Enter the number: \"))\n",
    "if (num>0):\n",
    "    print(\"The given number is positive\")\n",
    "else: \n",
    "    print(\"The given number is negative\")"
   ]
  },
  {
   "cell_type": "markdown",
   "id": "8301d7f7",
   "metadata": {},
   "source": [
    "# Check whether the number is single digit or not"
   ]
  },
  {
   "cell_type": "code",
   "execution_count": 9,
   "id": "e697bb3a",
   "metadata": {},
   "outputs": [
    {
     "name": "stdout",
     "output_type": "stream",
     "text": [
      "Enter the number: 15\n",
      "The given number is not a single digit\n"
     ]
    }
   ],
   "source": [
    "num = int(input(\"Enter the number: \"))\n",
    "if (num<10):\n",
    "    print(\"The given number is single digit\")\n",
    "else:\n",
    "    print(\"The given number is not a single digit\")"
   ]
  },
  {
   "cell_type": "markdown",
   "id": "008dc298",
   "metadata": {},
   "source": [
    "# Enter the time in 24hr format and convert it into 12hr"
   ]
  },
  {
   "cell_type": "code",
   "execution_count": 12,
   "id": "17a5c178",
   "metadata": {},
   "outputs": [
    {
     "name": "stdout",
     "output_type": "stream",
     "text": [
      "Enter the hour: 21\n",
      "Enter the minute: 35\n",
      "Given time= 21:35\n",
      "Time= 9:35\n"
     ]
    }
   ],
   "source": [
    "hour = int(input(\"Enter the hour: \"))\n",
    "minute = input(\"Enter the minute: \")\n",
    "print(\"Given time= {0}:{1}\" .format(hour,minute))\n",
    "if hour>12:\n",
    "    t1 = hour - 12\n",
    "print(\"Time= {0}:{1}\" .format(t1, minute))"
   ]
  },
  {
   "cell_type": "code",
   "execution_count": null,
   "id": "a3a60047",
   "metadata": {},
   "outputs": [],
   "source": []
  }
 ],
 "metadata": {
  "kernelspec": {
   "display_name": "Python 3 (ipykernel)",
   "language": "python",
   "name": "python3"
  },
  "language_info": {
   "codemirror_mode": {
    "name": "ipython",
    "version": 3
   },
   "file_extension": ".py",
   "mimetype": "text/x-python",
   "name": "python",
   "nbconvert_exporter": "python",
   "pygments_lexer": "ipython3",
   "version": "3.9.12"
  }
 },
 "nbformat": 4,
 "nbformat_minor": 5
}
