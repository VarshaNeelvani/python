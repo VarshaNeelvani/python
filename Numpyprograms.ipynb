{
 "cells": [
  {
   "cell_type": "markdown",
   "id": "8b30c13b",
   "metadata": {},
   "source": [
    "# NumPy"
   ]
  },
  {
   "cell_type": "markdown",
   "id": "aa856a4b",
   "metadata": {},
   "source": [
    "NumPy is a Numerical Python library to create and manipulate multidimensional arrays useful in data science."
   ]
  },
  {
   "cell_type": "markdown",
   "id": "4b05b36c",
   "metadata": {},
   "source": [
    "# Exercise 1: Create 4x2 integer array and prints its attributes "
   ]
  },
  {
   "cell_type": "code",
   "execution_count": 2,
   "id": "a9a7b873",
   "metadata": {},
   "outputs": [
    {
     "name": "stdout",
     "output_type": "stream",
     "text": [
      "Printing Array\n",
      "[[61061 38518]\n",
      " [51756 53326]\n",
      " [27614 58910]\n",
      " [19582 60791]]\n",
      "Printing numpy array attributes\n",
      "1> Array shape is:  (4, 2)\n",
      "2> Array dimensions are:  2\n",
      "3> Length of each element of array in bytes is:  2\n"
     ]
    }
   ],
   "source": [
    "import numpy\n",
    "array1 = numpy.empty([4,2], dtype = numpy.uint16)\n",
    "print(\"Printing Array\")\n",
    "print(array1)\n",
    "print(\"Printing numpy array attributes\")\n",
    "print(\"1> Array shape is: \", array1.shape)\n",
    "print(\"2> Array dimensions are: \", array1.ndim)\n",
    "print(\"3> Length of each element of array in bytes is: \", array1.itemsize)"
   ]
  },
  {
   "cell_type": "markdown",
   "id": "6ef7cb8f",
   "metadata": {},
   "source": [
    "# Exercise 2: Create a 5x2 array from a range between 100 to 200 such that the difference between each element is 10"
   ]
  },
  {
   "cell_type": "code",
   "execution_count": 3,
   "id": "31f66d38",
   "metadata": {},
   "outputs": [
    {
     "name": "stdout",
     "output_type": "stream",
     "text": [
      "Creating 5x2 array using numpy.arange\n",
      "[[100 110]\n",
      " [120 130]\n",
      " [140 150]\n",
      " [160 170]\n",
      " [180 190]]\n"
     ]
    }
   ],
   "source": [
    "import numpy \n",
    "print(\"Creating 5x2 array using numpy.arange\")\n",
    "sampleArray = numpy.arange(100, 200, 10)\n",
    "sampleArray = sampleArray.reshape(5, 2)\n",
    "print(sampleArray)"
   ]
  },
  {
   "cell_type": "markdown",
   "id": "6d814c1f",
   "metadata": {},
   "source": [
    "# Exercise 3: Following is the provided numpy array. Return array of items by taking the third column from all rows"
   ]
  },
  {
   "cell_type": "code",
   "execution_count": 4,
   "id": "489d0901",
   "metadata": {},
   "outputs": [
    {
     "name": "stdout",
     "output_type": "stream",
     "text": [
      "Printing Input Array\n",
      "[[11 22 33]\n",
      " [44 55 66]\n",
      " [77 88 99]]\n",
      "\n",
      "Printing array of items in the third column from all rows\n",
      "[33 66 99]\n"
     ]
    }
   ],
   "source": [
    "import numpy \n",
    "sampleArray = numpy.array([[11, 22, 33], [44, 55, 66], [77, 88, 99]])\n",
    "print(\"Printing Input Array\")\n",
    "print(sampleArray)\n",
    "\n",
    "print(\"\\nPrinting array of items in the third column from all rows\")\n",
    "newArray = sampleArray[...,2]\n",
    "print(newArray)"
   ]
  },
  {
   "cell_type": "markdown",
   "id": "ad46552b",
   "metadata": {},
   "source": [
    "# Exercise 4: Return array of odd rows and even columns from below numpy array"
   ]
  },
  {
   "cell_type": "code",
   "execution_count": 6,
   "id": "4d16ea7a",
   "metadata": {},
   "outputs": [
    {
     "name": "stdout",
     "output_type": "stream",
     "text": [
      "Printing Input Array\n",
      "[[ 3  6  9 12]\n",
      " [15 18 21 24]\n",
      " [27 30 33 36]\n",
      " [39 42 45 48]\n",
      " [51 54 57 60]]\n",
      "\n",
      "Printing array of odd rows and even columns\n",
      "[[ 6 12]\n",
      " [30 36]\n",
      " [54 60]]\n"
     ]
    }
   ],
   "source": [
    "import numpy\n",
    "sampleArray = numpy.array([[3,6,9,12], [15,18,21,24], [27,30,33,36], [39,42,45,48], [51,54,57,60]])\n",
    "print(\"Printing Input Array\")\n",
    "print(sampleArray)\n",
    "\n",
    "print(\"\\nPrinting array of odd rows and even columns\")\n",
    "newArray = sampleArray [::2, 1::2]\n",
    "print(newArray)"
   ]
  },
  {
   "cell_type": "markdown",
   "id": "3449895a",
   "metadata": {},
   "source": [
    "# Exercise 5: Create a result array by adding the following two NumPy arrays. Next, modify the result array by calculating the square of each element"
   ]
  },
  {
   "cell_type": "code",
   "execution_count": 7,
   "id": "81b05849",
   "metadata": {},
   "outputs": [
    {
     "name": "stdout",
     "output_type": "stream",
     "text": [
      "Addition of two arrays is \n",
      "\n",
      "[[20 39 33]\n",
      " [25 25 28]]\n",
      "\n",
      "Result array after calculating the square root of all elements\n",
      "\n",
      "[[ 400 1521 1089]\n",
      " [ 625  625  784]]\n"
     ]
    }
   ],
   "source": [
    "import numpy\n",
    "\n",
    "arrayOne = numpy.array([[5,6,9], [21,18,27]])\n",
    "arrayTwo = numpy.array([[15,33,24], [4,7,1]])                                         \n",
    "\n",
    "resultArray = arrayOne + arrayTwo\n",
    "print(\"Addition of two arrays is \\n\")\n",
    "print(resultArray)\n",
    "\n",
    "for num in numpy.nditer(resultArray, op_flags = ['readwrite']):\n",
    "    num[...] = num*num\n",
    "print(\"\\nResult array after calculating the square root of all elements\\n\")\n",
    "print(resultArray)"
   ]
  },
  {
   "cell_type": "markdown",
   "id": "c35269f0",
   "metadata": {},
   "source": [
    "# Exercise 6: Split the array into four equal-sized sub-arrays "
   ]
  },
  {
   "cell_type": "code",
   "execution_count": 8,
   "id": "c3dd4648",
   "metadata": {},
   "outputs": [
    {
     "name": "stdout",
     "output_type": "stream",
     "text": [
      "Creating 8x3 array using numpy.arange\n",
      "[[10 11 12]\n",
      " [13 14 15]\n",
      " [16 17 18]\n",
      " [19 20 21]\n",
      " [22 23 24]\n",
      " [25 26 27]\n",
      " [28 29 30]\n",
      " [31 32 33]]\n",
      "\n",
      "Dividing 8x3 array using numpy.arange\n",
      "[array([[10, 11, 12],\n",
      "       [13, 14, 15]]), array([[16, 17, 18],\n",
      "       [19, 20, 21]]), array([[22, 23, 24],\n",
      "       [25, 26, 27]]), array([[28, 29, 30],\n",
      "       [31, 32, 33]])]\n"
     ]
    }
   ],
   "source": [
    "import numpy \n",
    "\n",
    "print(\"Creating 8x3 array using numpy.arange\")\n",
    "sampleArray = numpy.arange(10, 34, 1)\n",
    "sampleArray = sampleArray.reshape(8, 3)\n",
    "print(sampleArray)\n",
    "\n",
    "print(\"\\nDividing 8x3 array using numpy.arange\")\n",
    "subArrays = numpy.split(sampleArray, 4)\n",
    "print(subArrays)"
   ]
  },
  {
   "cell_type": "markdown",
   "id": "0f5fae4d",
   "metadata": {},
   "source": [
    "# Exercise 7: Sort following NumPy array"
   ]
  },
  {
   "cell_type": "markdown",
   "id": "eb4124f7",
   "metadata": {},
   "source": [
    "Case 1: Sort array by the second row"
   ]
  },
  {
   "cell_type": "markdown",
   "id": "4e28dcbd",
   "metadata": {},
   "source": [
    "Case 2: Sort the array by the second column"
   ]
  },
  {
   "cell_type": "code",
   "execution_count": 11,
   "id": "dc603aea",
   "metadata": {},
   "outputs": [
    {
     "name": "stdout",
     "output_type": "stream",
     "text": [
      "Printing Original array\n",
      "[[34 43 73]\n",
      " [82 22 12]\n",
      " [53 94 66]]\n",
      "Sorting Original array by second row\n",
      "[[73 43 34]\n",
      " [12 22 82]\n",
      " [66 94 53]]\n",
      "Sorting Original array by second column\n",
      "[[82 22 12]\n",
      " [34 43 73]\n",
      " [53 94 66]]\n"
     ]
    }
   ],
   "source": [
    "import numpy\n",
    "\n",
    "print(\"Printing Original array\")\n",
    "sampleArray = numpy.array([[34, 43, 73], [82, 22, 12], [53, 94, 66]])\n",
    "print(sampleArray)\n",
    "\n",
    "sortArrayByRow = sampleArray[:, sampleArray[1, :].argsort()]\n",
    "print(\"Sorting Original array by second row\")\n",
    "print(sortArrayByRow)\n",
    "\n",
    "print(\"Sorting Original array by second column\")\n",
    "sortArrayByColumn = sampleArray[sampleArray[:,1].argsort()]\n",
    "print(sortArrayByColumn)"
   ]
  },
  {
   "cell_type": "markdown",
   "id": "1d28fecc",
   "metadata": {},
   "source": [
    "# Exercise 8: Print max from axis 0 and min from axis 1 from the following 2-D array"
   ]
  },
  {
   "cell_type": "code",
   "execution_count": 12,
   "id": "8e818a09",
   "metadata": {},
   "outputs": [
    {
     "name": "stdout",
     "output_type": "stream",
     "text": [
      "Printing Original array\n",
      "[[34 43 73]\n",
      " [82 22 12]\n",
      " [53 94 66]]\n",
      "Printing a min of Axis 1\n",
      "[34 12 53]\n",
      "Printing a max of Axis 0\n",
      "[82 94 73]\n"
     ]
    }
   ],
   "source": [
    "import numpy\n",
    "\n",
    "print(\"Printing Original array\")\n",
    "sampleArray = numpy.array([[34,43,73], [82,22,12], [53,94,66]])\n",
    "print(sampleArray)\n",
    "\n",
    "minOfAxisOne = numpy.amin(sampleArray, 1)\n",
    "print(\"Printing a min of Axis 1\")\n",
    "print(minOfAxisOne)\n",
    "\n",
    "maxOfAxisOne = numpy.amax(sampleArray, 0)\n",
    "print(\"Printing a max of Axis 0\")\n",
    "print(maxOfAxisOne)"
   ]
  },
  {
   "cell_type": "markdown",
   "id": "388328ee",
   "metadata": {},
   "source": [
    "# Exercise 9: Delete the second column from a given array and insert the following new column in its place."
   ]
  },
  {
   "cell_type": "code",
   "execution_count": 1,
   "id": "7d3878f4",
   "metadata": {},
   "outputs": [
    {
     "name": "stdout",
     "output_type": "stream",
     "text": [
      "Printing Original array\n",
      "[[34 43 73]\n",
      " [82 22 12]\n",
      " [53 94 66]]\n",
      "Array after deleting column 2 on axis 1\n",
      "[[34 73]\n",
      " [82 12]\n",
      " [53 66]]\n",
      "Array after inserting column 2 on axis 1\n",
      "[[34 10 73]\n",
      " [82 10 12]\n",
      " [53 10 66]]\n"
     ]
    }
   ],
   "source": [
    "import numpy\n",
    "\n",
    "print(\"Printing Original array\")\n",
    "sampleArray = numpy.array([[34, 43,73],[82,22,12],[53,94,66]])\n",
    "print(sampleArray)\n",
    "\n",
    "print(\"Array after deleting column 2 on axis 1\")\n",
    "sampleArray = numpy.delete(sampleArray, 1, axis=1)\n",
    "print(sampleArray)\n",
    "\n",
    "arr = numpy.array([[10,10,10]])\n",
    "\n",
    "print(\"Array after inserting column 2 on axis 1\")\n",
    "sampleArray = numpy.insert(sampleArray, 1, arr, axis=1)\n",
    "print(sampleArray)"
   ]
  },
  {
   "cell_type": "markdown",
   "id": "90aff406",
   "metadata": {},
   "source": [
    "# Exercise 10: Create two 2-D aarays and plot them using Matplotlib"
   ]
  },
  {
   "cell_type": "code",
   "execution_count": 2,
   "id": "7ae28528",
   "metadata": {},
   "outputs": [
    {
     "name": "stdout",
     "output_type": "stream",
     "text": [
      "Printing Original array\n",
      "[[34 43 73]\n",
      " [82 22 12]\n",
      " [53 94 66]]\n",
      "Array after deleting column 2 on axis 1\n",
      "[[34 73]\n",
      " [82 12]\n",
      " [53 66]]\n",
      "Array after inserting column 2 on axis 1\n",
      "[[34 10 73]\n",
      " [82 10 12]\n",
      " [53 10 66]]\n"
     ]
    }
   ],
   "source": [
    "import numpy\n",
    "print(\"Printing Original array\")\n",
    "sampleArray = numpy.array([[34,43,73],[82,22,12],[53,94,66]])\n",
    "print(sampleArray)\n",
    "\n",
    "print(\"Array after deleting column 2 on axis 1\")\n",
    "sampleArray = numpy.delete(sampleArray, 1, axis=1)\n",
    "print(sampleArray)\n",
    "\n",
    "arr=numpy.array([[10,10,10]])\n",
    "\n",
    "print(\"Array after inserting column 2 on axis 1\")\n",
    "sampleArray = numpy.insert(sampleArray, 1, arr, axis=1)\n",
    "print(sampleArray)"
   ]
  }
 ],
 "metadata": {
  "kernelspec": {
   "display_name": "Python 3 (ipykernel)",
   "language": "python",
   "name": "python3"
  },
  "language_info": {
   "codemirror_mode": {
    "name": "ipython",
    "version": 3
   },
   "file_extension": ".py",
   "mimetype": "text/x-python",
   "name": "python",
   "nbconvert_exporter": "python",
   "pygments_lexer": "ipython3",
   "version": "3.9.12"
  }
 },
 "nbformat": 4,
 "nbformat_minor": 5
}
