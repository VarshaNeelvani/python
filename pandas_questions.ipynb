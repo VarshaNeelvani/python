{
 "cells": [
  {
   "cell_type": "markdown",
   "id": "9193502c",
   "metadata": {},
   "source": [
    "## 1. Write a Pandas program to create and display a one-dimensional array-like object containing an array of data."
   ]
  },
  {
   "cell_type": "code",
   "execution_count": 1,
   "id": "92b8865f",
   "metadata": {},
   "outputs": [
    {
     "name": "stdout",
     "output_type": "stream",
     "text": [
      "[ 0.66721044 -0.18200221 -0.32886033  1.89611609 -0.3729472 ]\n"
     ]
    },
    {
     "data": {
      "text/html": [
       "<div>\n",
       "<style scoped>\n",
       "    .dataframe tbody tr th:only-of-type {\n",
       "        vertical-align: middle;\n",
       "    }\n",
       "\n",
       "    .dataframe tbody tr th {\n",
       "        vertical-align: top;\n",
       "    }\n",
       "\n",
       "    .dataframe thead th {\n",
       "        text-align: right;\n",
       "    }\n",
       "</style>\n",
       "<table border=\"1\" class=\"dataframe\">\n",
       "  <thead>\n",
       "    <tr style=\"text-align: right;\">\n",
       "      <th></th>\n",
       "      <th>0</th>\n",
       "    </tr>\n",
       "  </thead>\n",
       "  <tbody>\n",
       "    <tr>\n",
       "      <th>0</th>\n",
       "      <td>0.667210</td>\n",
       "    </tr>\n",
       "    <tr>\n",
       "      <th>1</th>\n",
       "      <td>-0.182002</td>\n",
       "    </tr>\n",
       "    <tr>\n",
       "      <th>2</th>\n",
       "      <td>-0.328860</td>\n",
       "    </tr>\n",
       "    <tr>\n",
       "      <th>3</th>\n",
       "      <td>1.896116</td>\n",
       "    </tr>\n",
       "    <tr>\n",
       "      <th>4</th>\n",
       "      <td>-0.372947</td>\n",
       "    </tr>\n",
       "  </tbody>\n",
       "</table>\n",
       "</div>"
      ],
      "text/plain": [
       "          0\n",
       "0  0.667210\n",
       "1 -0.182002\n",
       "2 -0.328860\n",
       "3  1.896116\n",
       "4 -0.372947"
      ]
     },
     "execution_count": 1,
     "metadata": {},
     "output_type": "execute_result"
    }
   ],
   "source": [
    "import numpy as np\n",
    "import pandas as pd\n",
    "\n",
    "a=np.random.randn(5)\n",
    "df=pd.DataFrame(a)\n",
    "\n",
    "print(a)\n",
    "df"
   ]
  },
  {
   "cell_type": "markdown",
   "id": "bb296981",
   "metadata": {},
   "source": [
    "## 2. Write a Pandas program to convert a Panda module Series to Python list and it’s type.\n",
    "## ds = pd.Series([2, 4, 6, 8, 10])"
   ]
  },
  {
   "cell_type": "code",
   "execution_count": 2,
   "id": "2ae8d462",
   "metadata": {},
   "outputs": [
    {
     "name": "stdout",
     "output_type": "stream",
     "text": [
      "0     2\n",
      "1     4\n",
      "2     6\n",
      "3     8\n",
      "4    10\n",
      "dtype: int64\n",
      "<class 'pandas.core.series.Series'>\n",
      "\n",
      " list[0     2\n",
      "1     4\n",
      "2     6\n",
      "3     8\n",
      "4    10\n",
      "dtype: int64]\n",
      "<class 'types.GenericAlias'>\n"
     ]
    }
   ],
   "source": [
    "ds = pd.Series([2, 4, 6, 8, 10])\n",
    "ls = list[ds]\n",
    "print(ds)\n",
    "print(type(ds))\n",
    "print(\"\\n\",ls)\n",
    "print(type(ls))"
   ]
  },
  {
   "cell_type": "markdown",
   "id": "a3f450c9",
   "metadata": {},
   "source": [
    "## 3.Write a Pandas program to add, subtract, multiple and divide two Pandas Series.\n",
    "## Sample Series: [2, 4, 6, 8, 10], [1, 3, 5, 7, 9]"
   ]
  },
  {
   "cell_type": "code",
   "execution_count": 3,
   "id": "84636c4c",
   "metadata": {},
   "outputs": [
    {
     "name": "stdout",
     "output_type": "stream",
     "text": [
      "Addition: \n",
      "0     3\n",
      "1     7\n",
      "2    11\n",
      "3    15\n",
      "4    19\n",
      "dtype: int64\n",
      "\n",
      "Subtraction: \n",
      "0    1\n",
      "1    1\n",
      "2    1\n",
      "3    1\n",
      "4    1\n",
      "dtype: int64\n",
      "\n",
      "Multiplication: \n",
      "0     2\n",
      "1    12\n",
      "2    30\n",
      "3    56\n",
      "4    90\n",
      "dtype: int64\n",
      "\n",
      "Division: \n",
      "0    2.000000\n",
      "1    1.333333\n",
      "2    1.200000\n",
      "3    1.142857\n",
      "4    1.111111\n",
      "dtype: float64\n"
     ]
    }
   ],
   "source": [
    "ser1 = pd.Series([2, 4, 6, 8, 10])\n",
    "ser2 = pd.Series([1, 3, 5, 7, 9])\n",
    "\n",
    "print(\"Addition: \") \n",
    "print(ser1+ser2)\n",
    "\n",
    "print(\"\\nSubtraction: \") \n",
    "print(ser1-ser2)\n",
    "\n",
    "print(\"\\nMultiplication: \")\n",
    "print(ser1*ser2)\n",
    "\n",
    "print(\"\\nDivision: \")\n",
    "print(ser1/ser2)"
   ]
  },
  {
   "cell_type": "markdown",
   "id": "6ad07577",
   "metadata": {},
   "source": [
    "## 4. Write a Pandas program to compare the elements of the two Pandas Series.\n",
    "## Sample Series: [2, 4, 6, 8, 10], [1, 3, 5, 7, 10]"
   ]
  },
  {
   "cell_type": "code",
   "execution_count": 4,
   "id": "dfdff65f",
   "metadata": {},
   "outputs": [
    {
     "name": "stdout",
     "output_type": "stream",
     "text": [
      "0    True\n",
      "1    True\n",
      "2    True\n",
      "3    True\n",
      "4    True\n",
      "dtype: bool\n",
      "0    False\n",
      "1    False\n",
      "2    False\n",
      "3    False\n",
      "4    False\n",
      "dtype: bool\n",
      "0    True\n",
      "1    True\n",
      "2    True\n",
      "3    True\n",
      "4    True\n",
      "dtype: bool\n",
      "0    False\n",
      "1    False\n",
      "2    False\n",
      "3    False\n",
      "4    False\n",
      "dtype: bool\n",
      "0    False\n",
      "1    False\n",
      "2    False\n",
      "3    False\n",
      "4    False\n",
      "dtype: bool\n"
     ]
    }
   ],
   "source": [
    "ser1 = pd.Series([2, 4, 6, 8, 10])\n",
    "ser2 = pd.Series([1, 3, 5, 7, 9])\n",
    "\n",
    "print(ser1 > ser2)\n",
    "print(ser2 > ser1)\n",
    "print(ser2 < ser1)\n",
    "print(ser1 < ser2)\n",
    "print(ser1 == ser2)"
   ]
  },
  {
   "cell_type": "markdown",
   "id": "3d6c6721",
   "metadata": {},
   "source": [
    "## 5. Write a Pandas program to convert a dictionary to a Pandas series.\n",
    "## Sample dictionary: d1 = {'a': 100, 'b': 200, 'c':300, 'd':400, 'e':800}"
   ]
  },
  {
   "cell_type": "code",
   "execution_count": 5,
   "id": "2db92385",
   "metadata": {},
   "outputs": [
    {
     "name": "stdout",
     "output_type": "stream",
     "text": [
      "{'a': 100, 'b': 200, 'c': 300, 'd': 400, 'e': 800}\n",
      "<class 'dict'>\n",
      "\n",
      "a    100\n",
      "b    200\n",
      "c    300\n",
      "d    400\n",
      "e    800\n",
      "dtype: int64\n",
      "<class 'pandas.core.series.Series'>\n"
     ]
    }
   ],
   "source": [
    "d1 = {'a': 100, 'b': 200, 'c':300, 'd':400, 'e':800}\n",
    "print(d1)\n",
    "print(type(d1))\n",
    "\n",
    "pdd1 = pd.Series(d1)\n",
    "print()\n",
    "print(pdd1)\n",
    "print(type(pdd1))"
   ]
  },
  {
   "cell_type": "markdown",
   "id": "7ae682af",
   "metadata": {},
   "source": [
    "## 6. Write a Pandas program to convert a NumPy array to a Pandas series.\n",
    "## Sample NumPy array: d1 = [10, 20, 30, 40, 50]"
   ]
  },
  {
   "cell_type": "code",
   "execution_count": 6,
   "id": "ba59df32",
   "metadata": {},
   "outputs": [
    {
     "name": "stdout",
     "output_type": "stream",
     "text": [
      "[10 20 30 40 50]\n",
      "<class 'numpy.ndarray'>\n",
      "\n",
      "0    10\n",
      "1    20\n",
      "2    30\n",
      "3    40\n",
      "4    50\n",
      "dtype: int32\n",
      "<class 'pandas.core.series.Series'>\n"
     ]
    }
   ],
   "source": [
    "import numpy as np\n",
    "import pandas as pd\n",
    "\n",
    "d1 = np.array([10, 20, 30, 40, 50])\n",
    "print(d1)\n",
    "print(type(d1))\n",
    "\n",
    "pdd1 = pd.Series(d1)\n",
    "print()\n",
    "print(pdd1)\n",
    "print(type(pdd1))"
   ]
  },
  {
   "cell_type": "markdown",
   "id": "35972157",
   "metadata": {},
   "source": [
    "## 7. Write a Pandas program to change the data type of given a column or a Series."
   ]
  },
  {
   "cell_type": "code",
   "execution_count": 7,
   "id": "ac8a75f7",
   "metadata": {},
   "outputs": [
    {
     "name": "stdout",
     "output_type": "stream",
     "text": [
      "0       100\n",
      "1       200\n",
      "2    python\n",
      "3    300.12\n",
      "4       400\n",
      "dtype: object\n"
     ]
    }
   ],
   "source": [
    "import pandas as pd\n",
    "\n",
    "ser1 = pd.Series([100, 200, 'python', 300.12, 400])\n",
    "print(ser1)\n",
    "\n",
    "ser2 = pd.to_numeric(ser1, errors='coerce')"
   ]
  },
  {
   "cell_type": "markdown",
   "id": "ec51920e",
   "metadata": {},
   "source": [
    "## 8. Write a Pandas program to convert the first column of a DataFrame as a Series."
   ]
  },
  {
   "cell_type": "code",
   "execution_count": 8,
   "id": "c9f9f900",
   "metadata": {},
   "outputs": [
    {
     "name": "stdout",
     "output_type": "stream",
     "text": [
      "     Name  DSP  OSA  JAVA  SE\n",
      "0   Amyra   19   14    18  19\n",
      "1    Neil   18   10    17  16\n",
      "2  Nitesh   17   16    18  15\n",
      "<class 'pandas.core.frame.DataFrame'>\n",
      "\n",
      "0     Amyra\n",
      "1      Neil\n",
      "2    Nitesh\n",
      "Name: Name, dtype: object\n",
      "<class 'pandas.core.series.Series'>\n"
     ]
    }
   ],
   "source": [
    "import pandas as pd\n",
    "df = pd.DataFrame([\n",
    "    ['Amyra', 19, 14, 18, 19],\n",
    "    ['Neil', 18, 10, 17, 16],\n",
    "    ['Nitesh', 17, 16, 18, 15]\n",
    "],\n",
    "columns=['Name', 'DSP', 'OSA', 'JAVA', 'SE'])\n",
    "\n",
    "print(df)\n",
    "print(type(df))\n",
    "\n",
    "fc = df.iloc[:,0]\n",
    "dfc = pd.Series(fc)\n",
    "print()\n",
    "print(dfc)\n",
    "print(type(dfc))"
   ]
  },
  {
   "cell_type": "code",
   "execution_count": 9,
   "id": "f302268b",
   "metadata": {},
   "outputs": [
    {
     "data": {
      "text/plain": [
       "0     Amyra\n",
       "1      Neil\n",
       "2    Nitesh\n",
       "Name: Name, dtype: object"
      ]
     },
     "execution_count": 9,
     "metadata": {},
     "output_type": "execute_result"
    }
   ],
   "source": [
    "df.loc[:2, 'Name']"
   ]
  },
  {
   "cell_type": "markdown",
   "id": "b4823235",
   "metadata": {},
   "source": [
    "## 9.Write a Pandas program to convert a given Series to an array."
   ]
  },
  {
   "cell_type": "code",
   "execution_count": 10,
   "id": "7639bffe",
   "metadata": {},
   "outputs": [
    {
     "name": "stdout",
     "output_type": "stream",
     "text": [
      "0      Koya\n",
      "1        RJ\n",
      "2    Shooky\n",
      "3      Mang\n",
      "4    Chimmy\n",
      "5      Tata\n",
      "6     Cooky\n",
      "dtype: object\n",
      "<class 'pandas.core.series.Series'>\n",
      "\n",
      "['Koya' 'RJ' 'Shooky' 'Mang' 'Chimmy' 'Tata' 'Cooky']\n",
      "<class 'numpy.ndarray'>\n"
     ]
    }
   ],
   "source": [
    "ser = pd.Series(['Koya', 'RJ', 'Shooky', 'Mang', 'Chimmy', 'Tata', 'Cooky'])\n",
    "print(ser)\n",
    "print(type(ser))\n",
    "print()\n",
    "\n",
    "npy = np.array(ser)\n",
    "print(npy)\n",
    "print(type(npy))"
   ]
  },
  {
   "cell_type": "markdown",
   "id": "b9c74f4c",
   "metadata": {},
   "source": [
    "## 10. Write a Pandas program to convert Series of lists to one Series."
   ]
  },
  {
   "cell_type": "code",
   "execution_count": 11,
   "id": "82efc3ef",
   "metadata": {},
   "outputs": [
    {
     "name": "stdout",
     "output_type": "stream",
     "text": [
      "0             [Koya, RJ, Shooky]\n",
      "1    [Mang, Chimmy, Tata, Cooky]\n",
      "dtype: object\n"
     ]
    }
   ],
   "source": [
    "ser = pd.Series([['Koya', 'RJ', 'Shooky'], ['Mang', 'Chimmy', 'Tata', 'Cooky']])\n",
    "print(ser)\n"
   ]
  },
  {
   "cell_type": "markdown",
   "id": "eabf8646",
   "metadata": {},
   "source": [
    "## 11. Write a Pandas program to sort a given Series."
   ]
  },
  {
   "cell_type": "code",
   "execution_count": 12,
   "id": "280c7a85",
   "metadata": {},
   "outputs": [
    {
     "name": "stdout",
     "output_type": "stream",
     "text": [
      "0      Koya\n",
      "1        RJ\n",
      "2    Shooky\n",
      "3      Mang\n",
      "4    Chimmy\n",
      "5      Tata\n",
      "6     Cooky\n",
      "dtype: object\n",
      "\n",
      "4    Chimmy\n",
      "6     Cooky\n",
      "0      Koya\n",
      "3      Mang\n",
      "1        RJ\n",
      "2    Shooky\n",
      "5      Tata\n",
      "dtype: object\n"
     ]
    }
   ],
   "source": [
    "ser = pd.Series(['Koya', 'RJ', 'Shooky','Mang', 'Chimmy', 'Tata', 'Cooky'])\n",
    "print(ser)\n",
    "print()\n",
    "\n",
    "#print(ser.argsort())\n",
    "#print()\n",
    "#print(ser[ser.argsort()])\n",
    "\n",
    "print(ser.sort_values())"
   ]
  },
  {
   "cell_type": "markdown",
   "id": "29dba09e",
   "metadata": {},
   "source": [
    "## 12. Write a Pandas program to add some data to an existing Series."
   ]
  },
  {
   "cell_type": "code",
   "execution_count": 13,
   "id": "b2ec5b73",
   "metadata": {},
   "outputs": [
    {
     "name": "stderr",
     "output_type": "stream",
     "text": [
      "C:\\Users\\CS-L1-PC13\\AppData\\Local\\Temp\\ipykernel_5252\\2036090460.py:2: FutureWarning: The series.append method is deprecated and will be removed from pandas in a future version. Use pandas.concat instead.\n",
      "  ser.append(pd.Series(['Chimmy', 'Tata', 'Cooky']))\n"
     ]
    },
    {
     "data": {
      "text/plain": [
       "0      Koya\n",
       "1        RJ\n",
       "2    Shooky\n",
       "3      Mang\n",
       "0    Chimmy\n",
       "1      Tata\n",
       "2     Cooky\n",
       "dtype: object"
      ]
     },
     "execution_count": 13,
     "metadata": {},
     "output_type": "execute_result"
    }
   ],
   "source": [
    "ser = pd.Series(['Koya', 'RJ', 'Shooky','Mang'])\n",
    "ser.append(pd.Series(['Chimmy', 'Tata', 'Cooky']))"
   ]
  },
  {
   "cell_type": "markdown",
   "id": "6165cbc5",
   "metadata": {},
   "source": [
    "## 13. Write a Pandas program to create a subset of a given series based on value and condition."
   ]
  },
  {
   "cell_type": "code",
   "execution_count": 14,
   "id": "0602eb0d",
   "metadata": {},
   "outputs": [
    {
     "name": "stdout",
     "output_type": "stream",
     "text": [
      "3    6\n",
      "4    4\n",
      "5    5\n",
      "8    4\n",
      "dtype: int64\n"
     ]
    }
   ],
   "source": [
    "ser = pd.Series([12, 15, 10, 6, 4, 5, 18, 26, 4, 30])\n",
    "new_s = ser[ser<10]\n",
    "print(new_s)"
   ]
  },
  {
   "cell_type": "markdown",
   "id": "46a7ef5e",
   "metadata": {},
   "source": [
    "## 14. Write a Pandas program to change the order of index of a given series."
   ]
  },
  {
   "cell_type": "code",
   "execution_count": 15,
   "id": "f3e00378",
   "metadata": {},
   "outputs": [
    {
     "name": "stdout",
     "output_type": "stream",
     "text": [
      "a      Koya\n",
      "b        RJ\n",
      "c    Shooky\n",
      "d      Mang\n",
      "e    Chimmy\n",
      "f      Tata\n",
      "g     Cooky\n",
      "dtype: object\n",
      "b        RJ\n",
      "a      Koya\n",
      "g     Cooky\n",
      "c    Shooky\n",
      "e    Chimmy\n",
      "d      Mang\n",
      "f      Tata\n",
      "dtype: object\n"
     ]
    }
   ],
   "source": [
    "ser = pd.Series(['Koya', 'RJ', 'Shooky', 'Mang', 'Chimmy', 'Tata', 'Cooky'], index=['a', 'b', 'c', 'd', 'e','f','g'])\n",
    "print(ser)\n",
    "ser = ser.reindex(index = ['b','a','g','c','e','d','f'])\n",
    "print(ser)"
   ]
  },
  {
   "cell_type": "markdown",
   "id": "46d5d026",
   "metadata": {},
   "source": [
    "## 15. Write a Pandas program to create the mean and standard deviation of the data of a given Series."
   ]
  },
  {
   "cell_type": "code",
   "execution_count": 16,
   "id": "8f04b754",
   "metadata": {},
   "outputs": [
    {
     "name": "stdout",
     "output_type": "stream",
     "text": [
      "5.833333333333333\n",
      "2.8577380332470415\n"
     ]
    }
   ],
   "source": [
    "ser = pd.Series([4, 2, 8, 6, 10, 5])\n",
    "print(ser.mean())\n",
    "print(ser.std())"
   ]
  },
  {
   "cell_type": "markdown",
   "id": "abb6904d",
   "metadata": {},
   "source": [
    "## 16. Write a Pandas program to get the items of a given series not present in another given series."
   ]
  },
  {
   "cell_type": "code",
   "execution_count": 17,
   "id": "4832e072",
   "metadata": {},
   "outputs": [
    {
     "data": {
      "text/plain": [
       "0    1\n",
       "1    2\n",
       "2    3\n",
       "dtype: int64"
      ]
     },
     "execution_count": 17,
     "metadata": {},
     "output_type": "execute_result"
    }
   ],
   "source": [
    "sr1 = pd.Series([1,2,3,4,5])\n",
    "sr2 = pd.Series([4,5,6,7,8])\n",
    "nps = sr1[~sr1.isin(sr2)]\n",
    "nps"
   ]
  },
  {
   "cell_type": "markdown",
   "id": "60dc422d",
   "metadata": {},
   "source": [
    "## 17. Write a Pandas program to get the items which are not common of two given series."
   ]
  },
  {
   "cell_type": "code",
   "execution_count": 18,
   "id": "97073296",
   "metadata": {},
   "outputs": [
    {
     "name": "stdout",
     "output_type": "stream",
     "text": [
      "0    1\n",
      "1    2\n",
      "2    3\n",
      "3    4\n",
      "4    5\n",
      "5    6\n",
      "6    7\n",
      "7    8\n",
      "dtype: int64\n",
      "0    4\n",
      "1    5\n",
      "dtype: int64\n",
      "0    1\n",
      "1    2\n",
      "2    3\n",
      "5    6\n",
      "6    7\n",
      "7    8\n",
      "dtype: int64\n"
     ]
    }
   ],
   "source": [
    "ser1 = pd.Series([1,2,3,4,5])\n",
    "ser2 = pd.Series([4,5,6,7,8])\n",
    "\n",
    "union = pd.Series(np.union1d(ser1,ser2))\n",
    "print(union)\n",
    "\n",
    "inter = pd.Series(np.intersect1d(ser1, ser2))\n",
    "print(inter)\n",
    "\n",
    "ncs = union[~union.isin(inter)]\n",
    "print(ncs)"
   ]
  },
  {
   "cell_type": "markdown",
   "id": "c7126a6b",
   "metadata": {},
   "source": [
    "## 18. Write a Pandas program to compute the minimum, 25th percentile, median, 75th, and maximum of a given series."
   ]
  },
  {
   "cell_type": "code",
   "execution_count": 19,
   "id": "45c735f9",
   "metadata": {},
   "outputs": [
    {
     "name": "stdout",
     "output_type": "stream",
     "text": [
      "5\n",
      "30\n",
      "17.5\n"
     ]
    },
    {
     "data": {
      "text/plain": [
       "array([ 5.  , 11.25, 17.5 , 23.75, 30.  ])"
      ]
     },
     "execution_count": 19,
     "metadata": {},
     "output_type": "execute_result"
    }
   ],
   "source": [
    "ser2 = pd.Series([15,20,25,30,10,5])\n",
    "print(ser2.min())\n",
    "print(ser2.max())\n",
    "print(ser2.median())\n",
    "\n",
    "r = np.percentile(ser2, q=[0, 25, 50, 75, 100])\n",
    "r"
   ]
  },
  {
   "cell_type": "markdown",
   "id": "35d3d420",
   "metadata": {},
   "source": [
    "## 19. Write a Pandas program to calculate the frequency counts of each unique value of a given series."
   ]
  },
  {
   "cell_type": "code",
   "execution_count": 20,
   "id": "74c23fb8",
   "metadata": {
    "scrolled": false
   },
   "outputs": [
    {
     "data": {
      "text/plain": [
       "4    4\n",
       "3    3\n",
       "5    3\n",
       "1    1\n",
       "2    1\n",
       "dtype: int64"
      ]
     },
     "execution_count": 20,
     "metadata": {},
     "output_type": "execute_result"
    }
   ],
   "source": [
    "ser2 = pd.Series([1,2,3,4,5,5,4,3,3,4,5,4])\n",
    "result = ser2.value_counts()\n",
    "result"
   ]
  },
  {
   "cell_type": "markdown",
   "id": "ffc00da7",
   "metadata": {},
   "source": [
    "## 20. Write a Pandas program to display most frequent value in a given series and replace everything else as ‘Other’ in the series."
   ]
  },
  {
   "cell_type": "code",
   "execution_count": 27,
   "id": "cf56bbfa",
   "metadata": {},
   "outputs": [
    {
     "data": {
      "text/plain": [
       "0     Other\n",
       "1     Other\n",
       "2     Other\n",
       "3         4\n",
       "4     Other\n",
       "5     Other\n",
       "6         4\n",
       "7     Other\n",
       "8     Other\n",
       "9         4\n",
       "10    Other\n",
       "11        4\n",
       "dtype: object"
      ]
     },
     "execution_count": 27,
     "metadata": {},
     "output_type": "execute_result"
    }
   ],
   "source": [
    "ser2 = pd.Series([1,2,3,4,5,5,4,3,3,4,5,4])\n",
    "res = ser2[~ser2.isin(ser2.value_counts().index[:1])] = 'Other'\n",
    "ser2"
   ]
  },
  {
   "cell_type": "markdown",
   "id": "ba42a174",
   "metadata": {},
   "source": [
    "## 21. Write a Pandas program to find the positions of numbers that are multiples of 5 of a given series."
   ]
  },
  {
   "cell_type": "code",
   "execution_count": 28,
   "id": "27ad0c5d",
   "metadata": {},
   "outputs": [
    {
     "name": "stdout",
     "output_type": "stream",
     "text": [
      "Original Series:\n",
      "0    4\n",
      "1    9\n",
      "2    9\n",
      "3    3\n",
      "4    1\n",
      "5    4\n",
      "6    4\n",
      "7    8\n",
      "8    9\n",
      "dtype: int32\n",
      "Positions of numbers that are multiples of 5:\n",
      "(array([], dtype=int64),)\n"
     ]
    }
   ],
   "source": [
    "import pandas as pd\n",
    "import numpy as np\n",
    "num_series = pd.Series(np.random.randint(1, 10, 9))\n",
    "print(\"Original Series:\")\n",
    "print(num_series)\n",
    "result = np.where(num_series % 5==0)\n",
    "print(\"Positions of numbers that are multiples of 5:\")\n",
    "print(result)"
   ]
  },
  {
   "cell_type": "markdown",
   "id": "0b5b41c8",
   "metadata": {},
   "source": [
    "## 22. Write a Pandas program to extract items at given positions of a given series."
   ]
  },
  {
   "cell_type": "code",
   "execution_count": 29,
   "id": "1614c3d1",
   "metadata": {},
   "outputs": [
    {
     "name": "stdout",
     "output_type": "stream",
     "text": [
      "Original Series:\n",
      "0     2\n",
      "1     3\n",
      "2     9\n",
      "3     0\n",
      "4     2\n",
      "5     3\n",
      "6     8\n",
      "7     9\n",
      "8     2\n",
      "9     3\n",
      "10    9\n",
      "11    0\n",
      "12    2\n",
      "13    3\n",
      "14    9\n",
      "15    0\n",
      "16    2\n",
      "17    3\n",
      "18    9\n",
      "19    0\n",
      "20    2\n",
      "21    3\n",
      "dtype: object\n",
      "\n",
      "Extract items at given positions of the said series:\n",
      "0     2\n",
      "2     9\n",
      "6     8\n",
      "11    0\n",
      "21    3\n",
      "dtype: object\n"
     ]
    }
   ],
   "source": [
    "import pandas as pd\n",
    "num_series = pd.Series(list('2390238923902390239023'))\n",
    "element_pos = [0, 2, 6, 11, 21]\n",
    "print(\"Original Series:\")\n",
    "print(num_series)\n",
    "result = num_series.take(element_pos)\n",
    "print(\"\\nExtract items at given positions of the said series:\")\n",
    "print(result)"
   ]
  },
  {
   "cell_type": "markdown",
   "id": "52b1f6b3",
   "metadata": {},
   "source": [
    "## 23. Write a Pandas program to get the positions of items of a given series in another given series."
   ]
  },
  {
   "cell_type": "code",
   "execution_count": 30,
   "id": "f63b5873",
   "metadata": {},
   "outputs": [
    {
     "name": "stdout",
     "output_type": "stream",
     "text": [
      "Original Series:\n",
      "0     1\n",
      "1     2\n",
      "2     3\n",
      "3     4\n",
      "4     5\n",
      "5     6\n",
      "6     7\n",
      "7     8\n",
      "8     9\n",
      "9    10\n",
      "dtype: int64\n",
      "0     1\n",
      "1     3\n",
      "2     5\n",
      "3     7\n",
      "4    10\n",
      "dtype: int64\n",
      "Positions of items of series2 in series1:\n",
      "[0, 2, 4, 6, 9]\n"
     ]
    }
   ],
   "source": [
    "import pandas as pd\n",
    "series1 = pd.Series([1, 2, 3, 4, 5, 6, 7, 8, 9, 10])\n",
    "series2 = pd.Series([1, 3, 5, 7, 10])\n",
    "print(\"Original Series:\")\n",
    "print(series1)\n",
    "print(series2)\n",
    "result = [pd.Index(series1).get_loc(i) for i in series2]\n",
    "print(\"Positions of items of series2 in series1:\")\n",
    "print(result)"
   ]
  },
  {
   "cell_type": "markdown",
   "id": "65c82d28",
   "metadata": {},
   "source": [
    "## 24. Write a Pandas program convert the first and last character of each word to upper case in each word of a given series."
   ]
  },
  {
   "cell_type": "code",
   "execution_count": 31,
   "id": "dd2eb1f6",
   "metadata": {},
   "outputs": [
    {
     "name": "stdout",
     "output_type": "stream",
     "text": [
      "Original Series:\n",
      "0       php\n",
      "1    python\n",
      "2      java\n",
      "3        c#\n",
      "dtype: object\n",
      "\n",
      "First and last character of each word to upper case:\n",
      "0       PhP\n",
      "1    PythoN\n",
      "2      JavA\n",
      "3        C#\n",
      "dtype: object\n"
     ]
    }
   ],
   "source": [
    "import pandas as pd\n",
    "series1 = pd.Series(['php', 'python', 'java', 'c#'])\n",
    "print(\"Original Series:\")\n",
    "print(series1)\n",
    "result = series1.map(lambda x: x[0].upper() + x[1:-1] + x[-1].upper())\n",
    "print(\"\\nFirst and last character of each word to upper case:\")\n",
    "print(result)"
   ]
  },
  {
   "cell_type": "markdown",
   "id": "f0288cab",
   "metadata": {},
   "source": [
    "## 25. Write a Pandas program to calculate the number of characters in each word in a given series."
   ]
  },
  {
   "cell_type": "code",
   "execution_count": 32,
   "id": "572c87c5",
   "metadata": {},
   "outputs": [
    {
     "name": "stdout",
     "output_type": "stream",
     "text": [
      "Original Series:\n",
      "0       Php\n",
      "1    Python\n",
      "2      Java\n",
      "3        C#\n",
      "dtype: object\n",
      "\n",
      "Number of characters in each word in the said series:\n",
      "0    3\n",
      "1    6\n",
      "2    4\n",
      "3    2\n",
      "dtype: int64\n"
     ]
    }
   ],
   "source": [
    "import pandas as pd\n",
    "series1 = pd.Series(['Php', 'Python', 'Java', 'C#'])\n",
    "print(\"Original Series:\")\n",
    "print(series1)\n",
    "result = series1.map(lambda x: len(x))\n",
    "print(\"\\nNumber of characters in each word in the said series:\")\n",
    "print(result)"
   ]
  },
  {
   "cell_type": "markdown",
   "id": "4bdc979c",
   "metadata": {},
   "source": [
    "## 26. Write a Pandas program to compute difference of differences between consecutive numbers of a given series."
   ]
  },
  {
   "cell_type": "code",
   "execution_count": 33,
   "id": "efdb21c5",
   "metadata": {},
   "outputs": [
    {
     "name": "stdout",
     "output_type": "stream",
     "text": [
      "Original Series:\n",
      "0     1\n",
      "1     3\n",
      "2     5\n",
      "3     8\n",
      "4    10\n",
      "5    11\n",
      "6    15\n",
      "dtype: int64\n",
      "\n",
      "Difference of differences between consecutive numbers of the said series:\n",
      "[nan, 2.0, 2.0, 3.0, 2.0, 1.0, 4.0]\n",
      "[nan, nan, 0.0, 1.0, -1.0, -1.0, 3.0]\n"
     ]
    }
   ],
   "source": [
    "import pandas as pd\n",
    "series1 = pd.Series([1, 3, 5, 8, 10, 11, 15])\n",
    "print(\"Original Series:\")\n",
    "print(series1)\n",
    "print(\"\\nDifference of differences between consecutive numbers of the said series:\")\n",
    "print(series1.diff().tolist())\n",
    "print(series1.diff().diff().tolist())"
   ]
  },
  {
   "cell_type": "markdown",
   "id": "a8903407",
   "metadata": {},
   "source": [
    "## 27. Write a Pandas program to convert a series of date strings to a timeseries."
   ]
  },
  {
   "cell_type": "code",
   "execution_count": 34,
   "id": "9447badf",
   "metadata": {},
   "outputs": [
    {
     "name": "stdout",
     "output_type": "stream",
     "text": [
      "Original Series:\n",
      "0         01 Jan 2015\n",
      "1          10-02-2016\n",
      "2            20180307\n",
      "3          2014/05/06\n",
      "4          2016-04-12\n",
      "5    2019-04-06T11:20\n",
      "dtype: object\n",
      "\n",
      "Series of date strings to a timeseries:\n",
      "0   2015-01-01 00:00:00\n",
      "1   2016-10-02 00:00:00\n",
      "2   2018-03-07 00:00:00\n",
      "3   2014-05-06 00:00:00\n",
      "4   2016-04-12 00:00:00\n",
      "5   2019-04-06 11:20:00\n",
      "dtype: datetime64[ns]\n"
     ]
    }
   ],
   "source": [
    "import pandas as pd\n",
    "date_series = pd.Series(['01 Jan 2015', '10-02-2016', '20180307', '2014/05/06', '2016-04-12', '2019-04-06T11:20'])\n",
    "print(\"Original Series:\")\n",
    "print(date_series)\n",
    "print(\"\\nSeries of date strings to a timeseries:\")\n",
    "print(pd.to_datetime(date_series))"
   ]
  },
  {
   "cell_type": "markdown",
   "id": "67ba1d55",
   "metadata": {},
   "source": [
    "## 28. Write a Pandas program to convert year-month string to dates adding a specified day of the month."
   ]
  },
  {
   "cell_type": "code",
   "execution_count": 35,
   "id": "0f445386",
   "metadata": {},
   "outputs": [
    {
     "name": "stdout",
     "output_type": "stream",
     "text": [
      "Original Series:\n",
      "0    Jan 2015\n",
      "1    Feb 2016\n",
      "2    Mar 2017\n",
      "3    Apr 2018\n",
      "4    May 2019\n",
      "dtype: object\n",
      "\n",
      "New dates:\n",
      "0   2015-01-11\n",
      "1   2016-02-11\n",
      "2   2017-03-11\n",
      "3   2018-04-11\n",
      "4   2019-05-11\n",
      "dtype: datetime64[ns]\n"
     ]
    }
   ],
   "source": [
    "import pandas as pd\n",
    "from dateutil.parser import parse\n",
    "date_series = pd.Series(['Jan 2015', 'Feb 2016', 'Mar 2017', 'Apr 2018', 'May 2019'])\n",
    "print(\"Original Series:\")\n",
    "print(date_series)\n",
    "print(\"\\nNew dates:\")\n",
    "result = date_series.map(lambda d: parse('11 ' + d))\n",
    "print(result)"
   ]
  },
  {
   "cell_type": "markdown",
   "id": "f0b48cf8",
   "metadata": {},
   "source": [
    "## 29. Write a Pandas program to filter words from a given series that contain atleast two vowels."
   ]
  },
  {
   "cell_type": "code",
   "execution_count": 36,
   "id": "a720036f",
   "metadata": {},
   "outputs": [
    {
     "name": "stdout",
     "output_type": "stream",
     "text": [
      "Original Series:\n",
      "0       Red\n",
      "1     Green\n",
      "2    Orange\n",
      "3      Pink\n",
      "4    Yellow\n",
      "5     White\n",
      "dtype: object\n",
      "\n",
      "Filtered words:\n",
      "1     Green\n",
      "2    Orange\n",
      "4    Yellow\n",
      "5     White\n",
      "dtype: object\n"
     ]
    }
   ],
   "source": [
    "import pandas as pd\n",
    "from collections import Counter\n",
    "color_series = pd.Series(['Red', 'Green', 'Orange', 'Pink', 'Yellow', 'White'])\n",
    "print(\"Original Series:\")\n",
    "print(color_series)\n",
    "print(\"\\nFiltered words:\")\n",
    "result = mask = color_series.map(lambda c: sum([Counter(c.lower()).get(i, 0) for i in list('aeiou')]) >= 2)\n",
    "print(color_series[result])"
   ]
  },
  {
   "cell_type": "markdown",
   "id": "51080b6c",
   "metadata": {},
   "source": [
    "## 30. Write a Pandas program to create a TimeSeries to display all the Sundays of given year."
   ]
  },
  {
   "cell_type": "code",
   "execution_count": 37,
   "id": "468f5fab",
   "metadata": {},
   "outputs": [
    {
     "name": "stdout",
     "output_type": "stream",
     "text": [
      "All Sundays of 2019:\n",
      "0    2020-01-05\n",
      "1    2020-01-12\n",
      "2    2020-01-19\n",
      "3    2020-01-26\n",
      "4    2020-02-02\n",
      "5    2020-02-09\n",
      "6    2020-02-16\n",
      "7    2020-02-23\n",
      "8    2020-03-01\n",
      "9    2020-03-08\n",
      "10   2020-03-15\n",
      "11   2020-03-22\n",
      "12   2020-03-29\n",
      "13   2020-04-05\n",
      "14   2020-04-12\n",
      "15   2020-04-19\n",
      "16   2020-04-26\n",
      "17   2020-05-03\n",
      "18   2020-05-10\n",
      "19   2020-05-17\n",
      "20   2020-05-24\n",
      "21   2020-05-31\n",
      "22   2020-06-07\n",
      "23   2020-06-14\n",
      "24   2020-06-21\n",
      "25   2020-06-28\n",
      "26   2020-07-05\n",
      "27   2020-07-12\n",
      "28   2020-07-19\n",
      "29   2020-07-26\n",
      "30   2020-08-02\n",
      "31   2020-08-09\n",
      "32   2020-08-16\n",
      "33   2020-08-23\n",
      "34   2020-08-30\n",
      "35   2020-09-06\n",
      "36   2020-09-13\n",
      "37   2020-09-20\n",
      "38   2020-09-27\n",
      "39   2020-10-04\n",
      "40   2020-10-11\n",
      "41   2020-10-18\n",
      "42   2020-10-25\n",
      "43   2020-11-01\n",
      "44   2020-11-08\n",
      "45   2020-11-15\n",
      "46   2020-11-22\n",
      "47   2020-11-29\n",
      "48   2020-12-06\n",
      "49   2020-12-13\n",
      "50   2020-12-20\n",
      "51   2020-12-27\n",
      "dtype: datetime64[ns]\n"
     ]
    }
   ],
   "source": [
    "import pandas as pd\n",
    "result = pd.Series(pd.date_range('2020-01-01', periods=52, freq='W-SUN'))\n",
    "print(\"All Sundays of 2019:\")\n",
    "print(result)"
   ]
  },
  {
   "cell_type": "markdown",
   "id": "05ece80a",
   "metadata": {},
   "source": [
    "## 31. To get Indexes & values  of all non zero values in a series"
   ]
  },
  {
   "cell_type": "code",
   "execution_count": 38,
   "id": "ae0c256a",
   "metadata": {},
   "outputs": [
    {
     "data": {
      "text/plain": [
       "0     1\n",
       "2    12\n",
       "3     1\n",
       "5     4\n",
       "6    22\n",
       "8     3\n",
       "9    -9\n",
       "dtype: int64"
      ]
     },
     "execution_count": 38,
     "metadata": {},
     "output_type": "execute_result"
    }
   ],
   "source": [
    "import pandas as pd \n",
    "import numpy as np \n",
    "\n",
    "list =[1, 0, 12, 1, 0, 4, 22, 0, 3, -9]\n",
    "srs1 = pd.Series(list)\n",
    "srs1[srs1!=0]"
   ]
  },
  {
   "cell_type": "code",
   "execution_count": null,
   "id": "9a2b501c",
   "metadata": {},
   "outputs": [],
   "source": []
  }
 ],
 "metadata": {
  "kernelspec": {
   "display_name": "Python 3 (ipykernel)",
   "language": "python",
   "name": "python3"
  },
  "language_info": {
   "codemirror_mode": {
    "name": "ipython",
    "version": 3
   },
   "file_extension": ".py",
   "mimetype": "text/x-python",
   "name": "python",
   "nbconvert_exporter": "python",
   "pygments_lexer": "ipython3",
   "version": "3.9.12"
  }
 },
 "nbformat": 4,
 "nbformat_minor": 5
}
