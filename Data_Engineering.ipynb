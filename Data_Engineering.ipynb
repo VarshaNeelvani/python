{
 "cells": [
  {
   "cell_type": "markdown",
   "id": "c6d19f09",
   "metadata": {},
   "source": [
    "# DATA ENGINEERING PIPELINE "
   ]
  },
  {
   "cell_type": "markdown",
   "id": "07331820",
   "metadata": {},
   "source": [
    "## DATA COLLECTION"
   ]
  },
  {
   "cell_type": "markdown",
   "id": "89cd6c04",
   "metadata": {},
   "source": [
    "## POPULATION AND SAMPLE"
   ]
  },
  {
   "cell_type": "markdown",
   "id": "155247a2",
   "metadata": {},
   "source": [
    "### WHAT IS POPULATION?"
   ]
  },
  {
   "cell_type": "markdown",
   "id": "11083b8c",
   "metadata": {},
   "source": [
    "In statistics, population is the entire set of items from which you draw data for a statistical study. It can be a group of individuals, a set of items, etc. It makes up the data pool for a study."
   ]
  },
  {
   "cell_type": "markdown",
   "id": "f3f1058c",
   "metadata": {},
   "source": [
    "Data pooling is a process where data sets coming from different sources are combined"
   ]
  },
  {
   "cell_type": "markdown",
   "id": "c0963c44",
   "metadata": {},
   "source": [
    "### WHAT IS A SAMPLE?"
   ]
  },
  {
   "cell_type": "markdown",
   "id": "a37738b3",
   "metadata": {},
   "source": [
    "A sample is defined as a smaller and more manageable representation of a larger group. A subset of a larger population that contains characteristics of that population. A sample is used in statistical testing when the population size is too large for all members or observations to be included in the test."
   ]
  },
  {
   "cell_type": "markdown",
   "id": "ca601e6f",
   "metadata": {},
   "source": [
    "### BASICALLY, THERE ARE TWO TYPES OF SAMPLING. THEY ARE:"
   ]
  },
  {
   "cell_type": "markdown",
   "id": "7dea7916",
   "metadata": {},
   "source": [
    "1. Probability Sampling\n",
    "2. Non-Probability Sampling"
   ]
  },
  {
   "cell_type": "markdown",
   "id": "2e99a966",
   "metadata": {},
   "source": [
    "### Probability Sampling"
   ]
  },
  {
   "cell_type": "markdown",
   "id": "c154be9b",
   "metadata": {},
   "source": [
    "In Probability sampling, the population units cannot be selected at the discretion of the researcher. This can be dealt with following certain procedures which will ensure that every unit of the population consists of one fixed probability being included in the sample. Such a method is  also called random sampling. Some of the techniques used for probability sampling are:"
   ]
  },
  {
   "cell_type": "markdown",
   "id": "673a62e8",
   "metadata": {},
   "source": [
    "1.Simple random sampling  2.Cluster sampling  3.Stratified Sampling  \n",
    "4.Disproportionate sampling  5.Proportionate Sampling  6.Optimum allocation stratified sampling  7.Multi-stage sampling"
   ]
  },
  {
   "cell_type": "markdown",
   "id": "0e16af9f",
   "metadata": {},
   "source": [
    "### Non-Probability Sampling"
   ]
  },
  {
   "cell_type": "markdown",
   "id": "d1cb007e",
   "metadata": {},
   "source": [
    "In non-probability sampling, the population units can be selected at the discretion of the researcher. Those samples will use the human judgements for selecting units and has no theoretical basis for estimating the characteristics of the population. Some of the techniques used for non-probability sampling are:"
   ]
  },
  {
   "cell_type": "markdown",
   "id": "29c24651",
   "metadata": {},
   "source": [
    "Quota Sampling  Judgement Sampling  Purposive Sampling"
   ]
  },
  {
   "cell_type": "markdown",
   "id": "0be7f6e7",
   "metadata": {},
   "source": [
    "## POPULATION AND SAMPLE EXAMPLES"
   ]
  },
  {
   "cell_type": "markdown",
   "id": "8720b078",
   "metadata": {},
   "source": [
    "All the people who have the ID proofs is the population and a group of people who only have voter ID with them is the sample.\n",
    "All the students in the class are population whereas the top 10 students in the class are the sample.\n",
    "All the members of the parliament is population and the female candidates present there is the sample."
   ]
  },
  {
   "cell_type": "markdown",
   "id": "c865ba4f",
   "metadata": {},
   "source": [
    "## TYPES OF DATA"
   ]
  },
  {
   "cell_type": "markdown",
   "id": "9cdd9191",
   "metadata": {},
   "source": [
    "### 1. DATA TYPE"
   ]
  },
  {
   "cell_type": "markdown",
   "id": "6e00e840",
   "metadata": {},
   "source": [
    "### Type 1(cross-sectional, time series)"
   ]
  },
  {
   "cell_type": "markdown",
   "id": "851716b1",
   "metadata": {},
   "source": [
    "Cross-sectional data refer to observations of many different individuals(subjects, objects) at a given time, each observation belonging to a different individual. Example: gross annual income for each of 1000 randomly chosen households in India for the year 2000."
   ]
  },
  {
   "cell_type": "markdown",
   "id": "8dc870e2",
   "metadata": {},
   "source": [
    "Time Series data is the set of measurements taking place in a constant interval of time, here time acts as independent variable and the objective (to study changes in a characteristics) is dependent variables. Example: Sales on daily basis"
   ]
  },
  {
   "cell_type": "markdown",
   "id": "d7713837",
   "metadata": {},
   "source": [
    "Time Series data: A set of observations contains values, taken by variable at different times.\n",
    "\n",
    "Cross-sectional data: Data values of one or more variables, gathered at the same time-point."
   ]
  },
  {
   "cell_type": "markdown",
   "id": "7ca8a23f",
   "metadata": {},
   "source": [
    "### Type 2(univariate, multivariate)"
   ]
  },
  {
   "cell_type": "markdown",
   "id": "a389165b",
   "metadata": {},
   "source": [
    "Univariate: Univariate is used to describe a type of data which consists of observations on only a single characteristic or attribute. Example: salaries of an employee in Company\n",
    "\n",
    "Multivariate: Multivariate is used to describe a type of data which consists of observations on two or more characteristic or attribute. Examples: name, department, YoE, Salart of an employee in company."
   ]
  },
  {
   "cell_type": "markdown",
   "id": "7ba33f0b",
   "metadata": {},
   "source": [
    "### 2. VARIABLE TYPES (CATEGORICAL, ORDINAL, RATIO, INTERVAL)"
   ]
  },
  {
   "cell_type": "markdown",
   "id": "c3f5362c",
   "metadata": {},
   "source": [
    "Categorical: Categorical variables are usually represented as 'strings' or 'categories' and are finite in number. Examples: 1.The City where a person lives: Delhi, Mumbai, Ahmedabad, Bangalore, etc. \n",
    "2.The department a person works in: Finance, Human resources, IT, Production.\n",
    "\n",
    "Nominal Data: Nominal Data can not be place in any order or quantitative value. Example: Gender(Male, Female, Others)"
   ]
  },
  {
   "cell_type": "markdown",
   "id": "efd2e023",
   "metadata": {},
   "source": [
    "Ordinal Data: Ordinal data have natural ordering where a number is present in some kind of order by their position on the scale. Example: Pclass(First Class, Second Class, Third Class"
   ]
  },
  {
   "cell_type": "markdown",
   "id": "ac250699",
   "metadata": {},
   "source": [
    "Quantitative Data- Quantitative data can be expressed in numerical values, making it countable and including statistical data analysis. These kinds of data are also known as Numerical data. Example: Age of a person.\n",
    "\n",
    "Discrete(ಪ್ರತ್ಯೇಕವಾದ) Data: The discrete data contain the values that fall under integers or whole numbers. These data can’t be broken into decimal or fraction values. Example: The total number of students in a class.\n",
    "\n",
    "Continuous data: Continuous data are in the form of fractional numbers. Continuous data represents information that can be divided into smaller levels. The continuous variable can take any value within a range. Example: the height of a person, the length of an object.\n",
    "\n",
    "Ratio data: Ratio data is a form of quantitative (numeric) data. It measures variables on a continuous scale, with an equal distance between adjacent values. ratio data is all about measuring continuous variables on equidistant scales. ratio data can never have a negative value. Examples: Height (5ft. 8in., 5ft. 9in., 5ft. 10in., 5ft. 11in., 6ft. 0in. etc.), Price of item (0, 5, 10, 15, 20, 30, etc.)\n",
    "\n",
    "interval: Interval data is a type of quantitative (numerical) data. It groups variables into categories and always uses some kind of ordered scale. Furthermore, interval values are always ordered and separated using an equal measure of distance."
   ]
  },
  {
   "cell_type": "code",
   "execution_count": null,
   "id": "791a4f5e",
   "metadata": {},
   "outputs": [],
   "source": []
  }
 ],
 "metadata": {
  "kernelspec": {
   "display_name": "Python 3 (ipykernel)",
   "language": "python",
   "name": "python3"
  },
  "language_info": {
   "codemirror_mode": {
    "name": "ipython",
    "version": 3
   },
   "file_extension": ".py",
   "mimetype": "text/x-python",
   "name": "python",
   "nbconvert_exporter": "python",
   "pygments_lexer": "ipython3",
   "version": "3.9.12"
  }
 },
 "nbformat": 4,
 "nbformat_minor": 5
}
